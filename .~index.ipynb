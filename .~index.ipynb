{
 "cells": [
  {
   "cell_type": "markdown",
   "metadata": {},
   "source": [
    "# Nearest Neighbors Lab"
   ]
  },
  {
   "cell_type": "markdown",
   "metadata": {},
   "source": [
    "### Introduction\n",
    "\n",
    "In this lab, you apply nearest neighbors technique to help a taxi company predict the length of their rides.  Imagine that we are hired to consult for LiftOff, a limo and taxi service that is just opening up in NYC.  Liftoff wants it's taxi drivers to target longer rides, as the longer the ride the more money it makes.  LiftOff has the following theory:\n",
    "\n",
    "* the pickup location of a taxi ride can help predict the length of the ride.  \n",
    "\n",
    "\n",
    "\n",
    "LiftOff asks us to do some analysis to write a function that will allow it to **predict the length of a taxi ride for any given location **.\n",
    "\n",
    "Our technique will be the following:\n",
    "  * **Collect** Obtain the data containing all of the taxi information, and only select the attributes of taxi trips that we need \n",
    "  * ** Explore ** Examine the attributes of our data, and plot some of our data on a map\n",
    "  * ** Train ** Write our nearest neighbors formula, and change the number of nearby trips to predict the length of a new trip\n",
    "  * ** Predict ** Use our function to predict trip lengths of new locations"
   ]
  },
  {
   "cell_type": "markdown",
   "metadata": {},
   "source": [
    "### Collect and Explore the data"
   ]
  },
  {
   "cell_type": "markdown",
   "metadata": {},
   "source": [
    "#### Collect the Data"
   ]
  },
  {
   "cell_type": "markdown",
   "metadata": {},
   "source": [
    "Luckily for us, [NYC Open Data](https://opendata.cityofnewyork.us/) collects information about NYC taxi trips and provides this data on [its website](https://data.cityofnewyork.us/Transportation/2014-Yellow-Taxi-Trip-Data/gn7m-em8n)."
   ]
  },
  {
   "cell_type": "markdown",
   "metadata": {},
   "source": [
    "\n",
    "![](./nyc-taxi.png)"
   ]
  },
  {
   "cell_type": "markdown",
   "metadata": {},
   "source": [
    "\n",
    "For your reading pleasure, the data has already been downloaded into the [trips.json](https://github.com/learn-co-curriculum/nearest-neighbors-lab/blob/master/trips.json) file in this lab which you can find here.  We'll use Python's `json` library to take the data from the `trips.json` file and store it as a variable in our notebook."
   ]
  },
  {
   "cell_type": "code",
   "execution_count": 1,
   "metadata": {},
   "outputs": [],
   "source": [
    "\n",
    "import json\n",
    "# First, read the file\n",
    "trips_file = open('trips.json')\n",
    "# Then, convert contents to list of dictionaries \n",
    "trips = json.load(trips_file)"
   ]
  },
  {
   "cell_type": "markdown",
   "metadata": {},
   "source": [
    "\n",
    "> Press shift + enter"
   ]
  },
  {
   "cell_type": "markdown",
   "metadata": {},
   "source": [
    "#### Explore the data"
   ]
  },
  {
   "cell_type": "markdown",
   "metadata": {},
   "source": [
    "The next step is to explore the data.  First, let's see how many trips we have."
   ]
  },
  {
   "cell_type": "code",
   "execution_count": 2,
   "metadata": {},
   "outputs": [
    {
     "data": {
      "text/plain": [
       "1000"
      ]
     },
     "execution_count": 2,
     "metadata": {},
     "output_type": "execute_result"
    }
   ],
   "source": [
    "len(trips)"
   ]
  },
  {
   "cell_type": "markdown",
   "metadata": {},
   "source": [
    "Not bad at all.  Now let's see what each individual trip looks like.  Each trip is a dictionary, so we can see the attributes of each trip with the `keys` function."
   ]
  },
  {
   "cell_type": "code",
   "execution_count": 3,
   "metadata": {
    "scrolled": true
   },
   "outputs": [
    {
     "data": {
      "text/plain": [
       "dict_keys(['dropoff_datetime', 'dropoff_latitude', 'dropoff_longitude', 'fare_amount', 'imp_surcharge', 'mta_tax', 'passenger_count', 'payment_type', 'pickup_datetime', 'pickup_latitude', 'pickup_longitude', 'rate_code', 'tip_amount', 'tolls_amount', 'total_amount', 'trip_distance', 'vendor_id'])"
      ]
     },
     "execution_count": 3,
     "metadata": {},
     "output_type": "execute_result"
    }
   ],
   "source": [
    "trips[0].keys()"
   ]
  },
  {
   "cell_type": "markdown",
   "metadata": {},
   "source": [
    "#### Limit our data"
   ]
  },
  {
   "cell_type": "markdown",
   "metadata": {},
   "source": [
    "Ok, now that we have explored some of our data, let's begin to think through what data is relevant for our task."
   ]
  },
  {
   "cell_type": "markdown",
   "metadata": {
    "collapsed": true
   },
   "source": [
    "Remember that our task is to **use the trip location to predict the length of a trip**.  So let's select the `pickup_latitude`, `pickup_longitude`, and `trip_distance` from each trip.  That will give us the trip location and related `trip_distance` for each trip.  Then based on these **actual** trip distances we can use nearest neighbors to predict an **expected** trip distance for a trip, provided an **actual** location."
   ]
  },
  {
   "cell_type": "markdown",
   "metadata": {},
   "source": [
    "** Add in about trip distance ** "
   ]
  },
  {
   "cell_type": "markdown",
   "metadata": {},
   "source": [
    "Write a function called `parse_trips(trips)` that returns a list of the trips with only the following attributes: \n",
    "* `trip_distance`\n",
    "* `pickup_latitude`\n",
    "* `pickup_longitude`"
   ]
  },
  {
   "cell_type": "code",
   "execution_count": 4,
   "metadata": {},
   "outputs": [],
   "source": [
    "def parse_trips(trips):\n",
    "    cab_trips = list(map(lambda trip:dict(pickup_latitude= trip['pickup_latitude'],pickup_longitude=trip['pickup_longitude'],trip_distance=trip['trip_distance']),trips))\n",
    "    return cab_trips                                    \n",
    "                                          \n",
    "                                          "
   ]
  },
  {
   "cell_type": "code",
   "execution_count": 5,
   "metadata": {},
   "outputs": [
    {
     "data": {
      "text/plain": [
       "{'pickup_latitude': '40.64499',\n",
       " 'pickup_longitude': '-73.781149999999997',\n",
       " 'trip_distance': '18.379999999999999'}"
      ]
     },
     "execution_count": 5,
     "metadata": {},
     "output_type": "execute_result"
    }
   ],
   "source": [
    "parsed_trips = parse_trips(trips)\n",
    "parsed_trips and parsed_trips[0]\n",
    "\n",
    "# {'pickup_latitude': '40.64499',\n",
    "#  'pickup_longitude': '-73.78115',\n",
    "#  'trip_distance': '18.38'}"
   ]
  },
  {
   "cell_type": "markdown",
   "metadata": {},
   "source": [
    "Now, there's just one change to make.  If you look at one of the trips, all of the values are strings.  Let's change them to be floats."
   ]
  },
  {
   "cell_type": "code",
   "execution_count": 6,
   "metadata": {},
   "outputs": [],
   "source": [
    "def float_values(trips):    \n",
    "    cab_trips = parse_trips(trips)\n",
    "    for trip in cab_trips:\n",
    "     trip['pickup_latitude'] = float(trip['pickup_latitude'])\n",
    "     trip['pickup_longitude']= float(trip['pickup_longitude'])   \n",
    "     trip['trip_distance']= float(trip['trip_distance'])\n",
    "    return cab_trips\n",
    "        "
   ]
  },
  {
   "cell_type": "code",
   "execution_count": 7,
   "metadata": {},
   "outputs": [],
   "source": [
    "cleaned_trips = float_values(parsed_trips)"
   ]
  },
  {
   "cell_type": "code",
   "execution_count": 8,
   "metadata": {},
   "outputs": [
    {
     "data": {
      "text/plain": [
       "{'pickup_latitude': 40.64499,\n",
       " 'pickup_longitude': -73.78115,\n",
       " 'trip_distance': 18.38}"
      ]
     },
     "execution_count": 8,
     "metadata": {},
     "output_type": "execute_result"
    }
   ],
   "source": [
    "cleaned_trips[0]\n",
    "\n",
    "# {'pickup_latitude': 40.64499,\n",
    "#  'pickup_longitude': -73.78115,\n",
    "#  'trip_distance': 18.38}"
   ]
  },
  {
   "cell_type": "markdown",
   "metadata": {},
   "source": [
    "### Exploring the Data"
   ]
  },
  {
   "cell_type": "markdown",
   "metadata": {},
   "source": [
    "Now that we have paired down our data, let's get a sense of our trip data.  We can use the `folium` Python library to plot a map of Manhattan, and our data.  First we must import `folium`, and then use the `Map` function to pass through a `location`, and `zoom_start`.  If a map isn't showing up below, copy and paste the command `pip install -r requirements.txt` into your terminal to install `folium` then try again."
   ]
  },
  {
   "cell_type": "code",
   "execution_count": 9,
   "metadata": {},
   "outputs": [],
   "source": [
    "import folium\n",
    "manhattan_map = folium.Map(location=[40.7589, -73.9851], zoom_start=11)"
   ]
  },
  {
   "cell_type": "code",
   "execution_count": 10,
   "metadata": {
    "scrolled": true
   },
   "outputs": [
    {
     "data": {
      "text/html": [
       "<div style=\"width:100%;\"><div style=\"position:relative;width:100%;height:0;padding-bottom:60%;\"><iframe src=\"data:text/html;charset=utf-8;base64,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\" style=\"position:absolute;width:100%;height:100%;left:0;top:0;border:none !important;\" allowfullscreen webkitallowfullscreen mozallowfullscreen></iframe></div></div>"
      ],
      "text/plain": [
       "<folium.folium.Map at 0x7efe28244240>"
      ]
     },
     "execution_count": 10,
     "metadata": {},
     "output_type": "execute_result"
    }
   ],
   "source": [
    "manhattan_map"
   ]
  },
  {
   "cell_type": "markdown",
   "metadata": {},
   "source": [
    "Ok, now let's see how we could add a dot to mark a specific location.  We'll start with Times Square."
   ]
  },
  {
   "cell_type": "code",
   "execution_count": 11,
   "metadata": {},
   "outputs": [
    {
     "data": {
      "text/plain": [
       "<folium.vector_layers.CircleMarker at 0x7efdfdd08d68>"
      ]
     },
     "execution_count": 11,
     "metadata": {},
     "output_type": "execute_result"
    }
   ],
   "source": [
    "marker = folium.CircleMarker(location = [40.7589, -73.9851], radius=10)\n",
    "marker.add_to(manhattan_map)"
   ]
  },
  {
   "cell_type": "markdown",
   "metadata": {},
   "source": [
    "Above, we first create a marker.  Then we add that circle marker to the `manhattan_map` we created earlier. "
   ]
  },
  {
   "cell_type": "code",
   "execution_count": 12,
   "metadata": {
    "scrolled": false
   },
   "outputs": [
    {
     "data": {
      "text/html": [
       "<div style=\"width:100%;\"><div style=\"position:relative;width:100%;height:0;padding-bottom:60%;\"><iframe src=\"data:text/html;charset=utf-8;base64,PCFET0NUWVBFIGh0bWw+CjxoZWFkPiAgICAKICAgIDxtZXRhIGh0dHAtZXF1aXY9ImNvbnRlbnQtdHlwZSIgY29udGVudD0idGV4dC9odG1sOyBjaGFyc2V0PVVURi04IiAvPgogICAgCiAgICAgICAgPHNjcmlwdD4KICAgICAgICAgICAgTF9OT19UT1VDSCA9IGZhbHNlOwogICAgICAgICAgICBMX0RJU0FCTEVfM0QgPSBmYWxzZTsKICAgICAgICA8L3NjcmlwdD4KICAgIAogICAgPHNjcmlwdCBzcmM9Imh0dHBzOi8vY2RuLmpzZGVsaXZyLm5ldC9ucG0vbGVhZmxldEAxLjUuMS9kaXN0L2xlYWZsZXQuanMiPjwvc2NyaXB0PgogICAgPHNjcmlwdCBzcmM9Imh0dHBzOi8vY29kZS5qcXVlcnkuY29tL2pxdWVyeS0xLjEyLjQubWluLmpzIj48L3NjcmlwdD4KICAgIDxzY3JpcHQgc3JjPSJodHRwczovL21heGNkbi5ib290c3RyYXBjZG4uY29tL2Jvb3RzdHJhcC8zLjIuMC9qcy9ib290c3RyYXAubWluLmpzIj48L3NjcmlwdD4KICAgIDxzY3JpcHQgc3JjPSJodHRwczovL2NkbmpzLmNsb3VkZmxhcmUuY29tL2FqYXgvbGlicy9MZWFmbGV0LmF3ZXNvbWUtbWFya2Vycy8yLjAuMi9sZWFmbGV0LmF3ZXNvbWUtbWFya2Vycy5qcyI+PC9zY3JpcHQ+CiAgICA8bGluayByZWw9InN0eWxlc2hlZXQiIGhyZWY9Imh0dHBzOi8vY2RuLmpzZGVsaXZyLm5ldC9ucG0vbGVhZmxldEAxLjUuMS9kaXN0L2xlYWZsZXQuY3NzIi8+CiAgICA8bGluayByZWw9InN0eWxlc2hlZXQiIGhyZWY9Imh0dHBzOi8vbWF4Y2RuLmJvb3RzdHJhcGNkbi5jb20vYm9vdHN0cmFwLzMuMi4wL2Nzcy9ib290c3RyYXAubWluLmNzcyIvPgogICAgPGxpbmsgcmVsPSJzdHlsZXNoZWV0IiBocmVmPSJodHRwczovL21heGNkbi5ib290c3RyYXBjZG4uY29tL2Jvb3RzdHJhcC8zLjIuMC9jc3MvYm9vdHN0cmFwLXRoZW1lLm1pbi5jc3MiLz4KICAgIDxsaW5rIHJlbD0ic3R5bGVzaGVldCIgaHJlZj0iaHR0cHM6Ly9tYXhjZG4uYm9vdHN0cmFwY2RuLmNvbS9mb250LWF3ZXNvbWUvNC42LjMvY3NzL2ZvbnQtYXdlc29tZS5taW4uY3NzIi8+CiAgICA8bGluayByZWw9InN0eWxlc2hlZXQiIGhyZWY9Imh0dHBzOi8vY2RuanMuY2xvdWRmbGFyZS5jb20vYWpheC9saWJzL0xlYWZsZXQuYXdlc29tZS1tYXJrZXJzLzIuMC4yL2xlYWZsZXQuYXdlc29tZS1tYXJrZXJzLmNzcyIvPgogICAgPGxpbmsgcmVsPSJzdHlsZXNoZWV0IiBocmVmPSJodHRwczovL3Jhd2Nkbi5naXRoYWNrLmNvbS9weXRob24tdmlzdWFsaXphdGlvbi9mb2xpdW0vbWFzdGVyL2ZvbGl1bS90ZW1wbGF0ZXMvbGVhZmxldC5hd2Vzb21lLnJvdGF0ZS5jc3MiLz4KICAgIDxzdHlsZT5odG1sLCBib2R5IHt3aWR0aDogMTAwJTtoZWlnaHQ6IDEwMCU7bWFyZ2luOiAwO3BhZGRpbmc6IDA7fTwvc3R5bGU+CiAgICA8c3R5bGU+I21hcCB7cG9zaXRpb246YWJzb2x1dGU7dG9wOjA7Ym90dG9tOjA7cmlnaHQ6MDtsZWZ0OjA7fTwvc3R5bGU+CiAgICAKICAgICAgICAgICAgPG1ldGEgbmFtZT0idmlld3BvcnQiIGNvbnRlbnQ9IndpZHRoPWRldmljZS13aWR0aCwKICAgICAgICAgICAgICAgIGluaXRpYWwtc2NhbGU9MS4wLCBtYXhpbXVtLXNjYWxlPTEuMCwgdXNlci1zY2FsYWJsZT1ubyIgLz4KICAgICAgICAgICAgPHN0eWxlPgogICAgICAgICAgICAgICAgI21hcF8yYjIxZDY0YTc2Y2Q0MzA3OWM2M2VkNjQxM2I2NThiZCB7CiAgICAgICAgICAgICAgICAgICAgcG9zaXRpb246IHJlbGF0aXZlOwogICAgICAgICAgICAgICAgICAgIHdpZHRoOiAxMDAuMCU7CiAgICAgICAgICAgICAgICAgICAgaGVpZ2h0OiAxMDAuMCU7CiAgICAgICAgICAgICAgICAgICAgbGVmdDogMC4wJTsKICAgICAgICAgICAgICAgICAgICB0b3A6IDAuMCU7CiAgICAgICAgICAgICAgICB9CiAgICAgICAgICAgIDwvc3R5bGU+CiAgICAgICAgCjwvaGVhZD4KPGJvZHk+ICAgIAogICAgCiAgICAgICAgICAgIDxkaXYgY2xhc3M9ImZvbGl1bS1tYXAiIGlkPSJtYXBfMmIyMWQ2NGE3NmNkNDMwNzljNjNlZDY0MTNiNjU4YmQiID48L2Rpdj4KICAgICAgICAKPC9ib2R5Pgo8c2NyaXB0PiAgICAKICAgIAogICAgICAgICAgICB2YXIgbWFwXzJiMjFkNjRhNzZjZDQzMDc5YzYzZWQ2NDEzYjY1OGJkID0gTC5tYXAoCiAgICAgICAgICAgICAgICAibWFwXzJiMjFkNjRhNzZjZDQzMDc5YzYzZWQ2NDEzYjY1OGJkIiwKICAgICAgICAgICAgICAgIHsKICAgICAgICAgICAgICAgICAgICBjZW50ZXI6IFs0MC43NTg5LCAtNzMuOTg1MV0sCiAgICAgICAgICAgICAgICAgICAgY3JzOiBMLkNSUy5FUFNHMzg1NywKICAgICAgICAgICAgICAgICAgICB6b29tOiAxMSwKICAgICAgICAgICAgICAgICAgICB6b29tQ29udHJvbDogdHJ1ZSwKICAgICAgICAgICAgICAgICAgICBwcmVmZXJDYW52YXM6IGZhbHNlLAogICAgICAgICAgICAgICAgfQogICAgICAgICAgICApOwoKICAgICAgICAgICAgCgogICAgICAgIAogICAgCiAgICAgICAgICAgIHZhciB0aWxlX2xheWVyXzMyNDUyNTdjMDU3NDRlNGFhZWJmNmJkZTY5ODIwZGVmID0gTC50aWxlTGF5ZXIoCiAgICAgICAgICAgICAgICAiaHR0cHM6Ly97c30udGlsZS5vcGVuc3RyZWV0bWFwLm9yZy97en0ve3h9L3t5fS5wbmciLAogICAgICAgICAgICAgICAgeyJhdHRyaWJ1dGlvbiI6ICJEYXRhIGJ5IFx1MDAyNmNvcHk7IFx1MDAzY2EgaHJlZj1cImh0dHA6Ly9vcGVuc3RyZWV0bWFwLm9yZ1wiXHUwMDNlT3BlblN0cmVldE1hcFx1MDAzYy9hXHUwMDNlLCB1bmRlciBcdTAwM2NhIGhyZWY9XCJodHRwOi8vd3d3Lm9wZW5zdHJlZXRtYXAub3JnL2NvcHlyaWdodFwiXHUwMDNlT0RiTFx1MDAzYy9hXHUwMDNlLiIsICJkZXRlY3RSZXRpbmEiOiBmYWxzZSwgIm1heE5hdGl2ZVpvb20iOiAxOCwgIm1heFpvb20iOiAxOCwgIm1pblpvb20iOiAwLCAibm9XcmFwIjogZmFsc2UsICJvcGFjaXR5IjogMSwgInN1YmRvbWFpbnMiOiAiYWJjIiwgInRtcyI6IGZhbHNlfQogICAgICAgICAgICApLmFkZFRvKG1hcF8yYjIxZDY0YTc2Y2Q0MzA3OWM2M2VkNjQxM2I2NThiZCk7CiAgICAgICAgCiAgICAKICAgICAgICAgICAgdmFyIGNpcmNsZV9tYXJrZXJfMGRmODYyNGVmNzI1NDllNGE4ZWYyODY2NDMzNzg0NzMgPSBMLmNpcmNsZU1hcmtlcigKICAgICAgICAgICAgICAgIFs0MC43NTg5LCAtNzMuOTg1MV0sCiAgICAgICAgICAgICAgICB7ImJ1YmJsaW5nTW91c2VFdmVudHMiOiB0cnVlLCAiY29sb3IiOiAiIzMzODhmZiIsICJkYXNoQXJyYXkiOiBudWxsLCAiZGFzaE9mZnNldCI6IG51bGwsICJmaWxsIjogZmFsc2UsICJmaWxsQ29sb3IiOiAiIzMzODhmZiIsICJmaWxsT3BhY2l0eSI6IDAuMiwgImZpbGxSdWxlIjogImV2ZW5vZGQiLCAibGluZUNhcCI6ICJyb3VuZCIsICJsaW5lSm9pbiI6ICJyb3VuZCIsICJvcGFjaXR5IjogMS4wLCAicmFkaXVzIjogMTAsICJzdHJva2UiOiB0cnVlLCAid2VpZ2h0IjogM30KICAgICAgICAgICAgKS5hZGRUbyhtYXBfMmIyMWQ2NGE3NmNkNDMwNzljNjNlZDY0MTNiNjU4YmQpOwogICAgICAgIAo8L3NjcmlwdD4=\" style=\"position:absolute;width:100%;height:100%;left:0;top:0;border:none !important;\" allowfullscreen webkitallowfullscreen mozallowfullscreen></iframe></div></div>"
      ],
      "text/plain": [
       "<folium.folium.Map at 0x7efe28244240>"
      ]
     },
     "execution_count": 12,
     "metadata": {},
     "output_type": "execute_result"
    }
   ],
   "source": [
    "manhattan_map"
   ]
  },
  {
   "cell_type": "markdown",
   "metadata": {},
   "source": [
    "Do you see that blue dot near Time's Square?  That is our marker.  \n",
    "\n",
    "So now that we can plot one marker on a map, we should have a sense of how we can plot many markers on a map to display our taxi ride data.  We simply plot a map, and then we add a marker for each location of a taxi trip.\n",
    "\n",
    "Now let's write some functions to allow us to plot maps and add markers a little more easily.  "
   ]
  },
  {
   "cell_type": "markdown",
   "metadata": {},
   "source": [
    "#### Writing some map plotting functions"
   ]
  },
  {
   "cell_type": "markdown",
   "metadata": {},
   "source": [
    "As a first step towards this, note that the functions to create both a marker and map each take in a location as two element list, representing the latitude and longitude values.  Take another look:\n",
    "\n",
    "```python\n",
    "marker = folium.CircleMarker(location = [40.7589, -73.9851])\n",
    "manhattan_map = folium.Map(location=[40.7589, -73.9851])\n",
    "```\n",
    "\n",
    "So let's write a function called to create this two element list from a trip.  Write a function called `location` that  takes in a trip as an argument and returns a list where the first element is the latitude and the second is the longitude.  Remember that a location looks like the following:"
   ]
  },
  {
   "cell_type": "code",
   "execution_count": 13,
   "metadata": {},
   "outputs": [
    {
     "data": {
      "text/plain": [
       "{'pickup_latitude': 40.64499,\n",
       " 'pickup_longitude': -73.78115,\n",
       " 'trip_distance': 18.38}"
      ]
     },
     "execution_count": 13,
     "metadata": {},
     "output_type": "execute_result"
    }
   ],
   "source": [
    "first_trip = {'pickup_latitude': 40.64499, 'pickup_longitude': -73.78115,  'trip_distance': 18.38}\n",
    "first_trip"
   ]
  },
  {
   "cell_type": "code",
   "execution_count": 14,
   "metadata": {},
   "outputs": [],
   "source": [
    "def location(trip):\n",
    "    loc = [trip['pickup_latitude'],trip['pickup_longitude']]\n",
    "    return loc"
   ]
  },
  {
   "cell_type": "code",
   "execution_count": 15,
   "metadata": {},
   "outputs": [
    {
     "data": {
      "text/plain": [
       "[40.64499, -73.78115]"
      ]
     },
     "execution_count": 15,
     "metadata": {},
     "output_type": "execute_result"
    }
   ],
   "source": [
    "first_location = location(first_trip) # [40.64499, -73.78115]\n",
    "first_location # [40.64499, -73.78115]"
   ]
  },
  {
   "cell_type": "markdown",
   "metadata": {},
   "source": [
    "Ok, now that we can turn a trip into a location, let's turn a location into a marker.  Write a function called `to_marker` that takes in a location (in the form of a list) as an argument, and returns a folium `circleMarker` for that location.  The radius of the marker should always equal 6."
   ]
  },
  {
   "cell_type": "code",
   "execution_count": 16,
   "metadata": {},
   "outputs": [],
   "source": [
    "def to_marker(location):\n",
    "    return folium.CircleMarker(location, radius = 6)\n",
    "\n",
    "\n",
    "    "
   ]
  },
  {
   "cell_type": "code",
   "execution_count": 17,
   "metadata": {},
   "outputs": [
    {
     "ename": "TypeError",
     "evalue": "the JSON object must be str, bytes or bytearray, not 'dict'",
     "output_type": "error",
     "traceback": [
      "\u001b[0;31m\u001b[0m",
      "\u001b[0;31mTypeError\u001b[0mTraceback (most recent call last)",
      "\u001b[0;32m<ipython-input-17-aea535683066>\u001b[0m in \u001b[0;36m<module>\u001b[0;34m\u001b[0m\n\u001b[1;32m      3\u001b[0m \u001b[0;34m\u001b[0m\u001b[0m\n\u001b[1;32m      4\u001b[0m \u001b[0mtimes_square_marker\u001b[0m \u001b[0;32mand\u001b[0m \u001b[0mtimes_square_marker\u001b[0m\u001b[0;34m.\u001b[0m\u001b[0mlocation\u001b[0m \u001b[0;31m# [40.7589, -73.9851]\u001b[0m\u001b[0;34m\u001b[0m\u001b[0;34m\u001b[0m\u001b[0m\n\u001b[0;32m----> 5\u001b[0;31m \u001b[0mtimes_square_marker\u001b[0m \u001b[0;32mand\u001b[0m \u001b[0mjson\u001b[0m\u001b[0;34m.\u001b[0m\u001b[0mloads\u001b[0m\u001b[0;34m(\u001b[0m\u001b[0mtimes_square_marker\u001b[0m\u001b[0;34m.\u001b[0m\u001b[0moptions\u001b[0m\u001b[0;34m)\u001b[0m\u001b[0;34m[\u001b[0m\u001b[0;34m'radius'\u001b[0m\u001b[0;34m]\u001b[0m \u001b[0;31m# 6\u001b[0m\u001b[0;34m\u001b[0m\u001b[0;34m\u001b[0m\u001b[0m\n\u001b[0m",
      "\u001b[0;32m/opt/conda/envs/learn-env/lib/python3.6/json/__init__.py\u001b[0m in \u001b[0;36mloads\u001b[0;34m(s, encoding, cls, object_hook, parse_float, parse_int, parse_constant, object_pairs_hook, **kw)\u001b[0m\n\u001b[1;32m    346\u001b[0m         \u001b[0;32mif\u001b[0m \u001b[0;32mnot\u001b[0m \u001b[0misinstance\u001b[0m\u001b[0;34m(\u001b[0m\u001b[0ms\u001b[0m\u001b[0;34m,\u001b[0m \u001b[0;34m(\u001b[0m\u001b[0mbytes\u001b[0m\u001b[0;34m,\u001b[0m \u001b[0mbytearray\u001b[0m\u001b[0;34m)\u001b[0m\u001b[0;34m)\u001b[0m\u001b[0;34m:\u001b[0m\u001b[0;34m\u001b[0m\u001b[0;34m\u001b[0m\u001b[0m\n\u001b[1;32m    347\u001b[0m             raise TypeError('the JSON object must be str, bytes or bytearray, '\n\u001b[0;32m--> 348\u001b[0;31m                             'not {!r}'.format(s.__class__.__name__))\n\u001b[0m\u001b[1;32m    349\u001b[0m         \u001b[0ms\u001b[0m \u001b[0;34m=\u001b[0m \u001b[0ms\u001b[0m\u001b[0;34m.\u001b[0m\u001b[0mdecode\u001b[0m\u001b[0;34m(\u001b[0m\u001b[0mdetect_encoding\u001b[0m\u001b[0;34m(\u001b[0m\u001b[0ms\u001b[0m\u001b[0;34m)\u001b[0m\u001b[0;34m,\u001b[0m \u001b[0;34m'surrogatepass'\u001b[0m\u001b[0;34m)\u001b[0m\u001b[0;34m\u001b[0m\u001b[0;34m\u001b[0m\u001b[0m\n\u001b[1;32m    350\u001b[0m \u001b[0;34m\u001b[0m\u001b[0m\n",
      "\u001b[0;31mTypeError\u001b[0m: the JSON object must be str, bytes or bytearray, not 'dict'"
     ]
    }
   ],
   "source": [
    "import json\n",
    "times_square_marker = to_marker([40.7589, -73.9851])\n",
    "\n",
    "times_square_marker and times_square_marker.location # [40.7589, -73.9851]\n",
    "times_square_marker and json.loads(times_square_marker.options)['radius'] # 6"
   ]
  },
  {
   "cell_type": "markdown",
   "metadata": {},
   "source": [
    "Ok, now that we know how to produce a single marker, let's write a function to produce lots.  We can write a function called `markers_from_trips` that takes in a list of trips, and returns a marker object for each trip.  "
   ]
  },
  {
   "cell_type": "code",
   "execution_count": 18,
   "metadata": {},
   "outputs": [],
   "source": [
    "def markers_from_trips(trips):\n",
    "    locations = list(map(lambda trip: location(trip), trips))\n",
    "    return list(map(lambda location: to_marker(location),locations))"
   ]
  },
  {
   "cell_type": "code",
   "execution_count": 19,
   "metadata": {},
   "outputs": [],
   "source": [
    "trip_markers = markers_from_trips(cleaned_trips)"
   ]
  },
  {
   "cell_type": "code",
   "execution_count": 20,
   "metadata": {},
   "outputs": [
    {
     "data": {
      "text/plain": [
       "[{'pickup_latitude': 40.64499,\n",
       "  'pickup_longitude': -73.78115,\n",
       "  'trip_distance': 18.38},\n",
       " {'pickup_latitude': 40.766931,\n",
       "  'pickup_longitude': -73.982098,\n",
       "  'trip_distance': 1.3},\n",
       " {'pickup_latitude': 40.77773,\n",
       "  'pickup_longitude': -73.951902,\n",
       "  'trip_distance': 4.5},\n",
       " {'pickup_latitude': 40.795678,\n",
       "  'pickup_longitude': -73.971049,\n",
       "  'trip_distance': 2.4}]"
      ]
     },
     "execution_count": 20,
     "metadata": {},
     "output_type": "execute_result"
    }
   ],
   "source": [
    "cleaned_trips[0:4]"
   ]
  },
  {
   "cell_type": "code",
   "execution_count": 21,
   "metadata": {},
   "outputs": [
    {
     "data": {
      "text/plain": [
       "[[40.64499, -73.78115],\n",
       " [40.766931, -73.982098],\n",
       " [40.77773, -73.951902],\n",
       " [40.795678, -73.971049]]"
      ]
     },
     "execution_count": 21,
     "metadata": {},
     "output_type": "execute_result"
    }
   ],
   "source": [
    "trip_markers and len(trip_markers) # 1000\n",
    "\n",
    "\n",
    "list(map(lambda marker: marker.location, trip_markers[0:4]))\n",
    "# [[40.64499, -73.78115],\n",
    "#  [40.766931, -73.982098],\n",
    "#  [40.77773, -73.951902],\n",
    "#  [40.795678, -73.971049]]"
   ]
  },
  {
   "cell_type": "markdown",
   "metadata": {},
   "source": [
    "Ok, now that we have a function that creates locations, and a function that creates markers, it is time to write a function to plot a map. \n",
    "\n",
    "Write a function called `map_from` that, provided the first argument of a list location and second argument an integer representing the `zoom_start`, returns a `folium` map the corresponding location and `zoom_start` attributes.\n",
    "\n",
    "> Hint: The following is how to write a map with folium:\n",
    "> ```python \n",
    "    folium.Map(location=location, zoom_start=zoom_amount)\n",
    "> ```"
   ]
  },
  {
   "cell_type": "code",
   "execution_count": 22,
   "metadata": {},
   "outputs": [],
   "source": [
    "def map_from(location, zoom_amount):\n",
    "    return folium.Map(location = location,zoom_start = zoom_amount)"
   ]
  },
  {
   "cell_type": "code",
   "execution_count": 23,
   "metadata": {},
   "outputs": [
    {
     "data": {
      "text/html": [
       "<div style=\"width:100%;\"><div style=\"position:relative;width:100%;height:0;padding-bottom:60%;\"><iframe src=\"data:text/html;charset=utf-8;base64,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\" style=\"position:absolute;width:100%;height:100%;left:0;top:0;border:none !important;\" allowfullscreen webkitallowfullscreen mozallowfullscreen></iframe></div></div>"
      ],
      "text/plain": [
       "<folium.folium.Map at 0x7efdfdb84c18>"
      ]
     },
     "execution_count": 23,
     "metadata": {},
     "output_type": "execute_result"
    }
   ],
   "source": [
    "times_square_map = map_from([40.7589, -73.9851], 15)\n",
    "times_square_map"
   ]
  },
  {
   "cell_type": "code",
   "execution_count": 24,
   "metadata": {
    "scrolled": true
   },
   "outputs": [
    {
     "data": {
      "text/html": [
       "<div style=\"width:100%;\"><div style=\"position:relative;width:100%;height:0;padding-bottom:60%;\"><iframe src=\"data:text/html;charset=utf-8;base64,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\" style=\"position:absolute;width:100%;height:100%;left:0;top:0;border:none !important;\" allowfullscreen webkitallowfullscreen mozallowfullscreen></iframe></div></div>"
      ],
      "text/plain": [
       "<folium.folium.Map at 0x7efdfdb84c18>"
      ]
     },
     "execution_count": 24,
     "metadata": {},
     "output_type": "execute_result"
    }
   ],
   "source": [
    "times_square_marker and times_square_marker.add_to(times_square_map)\n",
    "times_square_map"
   ]
  },
  {
   "cell_type": "markdown",
   "metadata": {},
   "source": [
    "Now that we have a marker and a map, now let's write a function that adds a lot of markers to a map.  This function should add each marker in the list to the map object then return the updated map object."
   ]
  },
  {
   "cell_type": "code",
   "execution_count": 25,
   "metadata": {},
   "outputs": [],
   "source": [
    "manhattan_map = map_from([40.7589, -73.9851], 13)"
   ]
  },
  {
   "cell_type": "code",
   "execution_count": 26,
   "metadata": {},
   "outputs": [],
   "source": [
    "def add_markers(markers, map_obj):\n",
    "    return list(map(lambda marker:marker.add_to(map_obj),markers))"
   ]
  },
  {
   "cell_type": "code",
   "execution_count": 27,
   "metadata": {
    "scrolled": false
   },
   "outputs": [],
   "source": [
    "map_with_markers = add_markers(trip_markers, manhattan_map)"
   ]
  },
  {
   "cell_type": "code",
   "execution_count": 28,
   "metadata": {},
   "outputs": [
    {
     "data": {
      "text/plain": [
       "[<folium.vector_layers.CircleMarker at 0x7efdfdd05550>,\n",
       " <folium.vector_layers.CircleMarker at 0x7efdfdd054e0>,\n",
       " <folium.vector_layers.CircleMarker at 0x7efdfdd05400>,\n",
       " <folium.vector_layers.CircleMarker at 0x7efdfdd05390>,\n",
       " <folium.vector_layers.CircleMarker at 0x7efdfdd05630>,\n",
       " <folium.vector_layers.CircleMarker at 0x7efdfdd056d8>,\n",
       " <folium.vector_layers.CircleMarker at 0x7efdfdd05128>,\n",
       " <folium.vector_layers.CircleMarker at 0x7efe18a585c0>,\n",
       " <folium.vector_layers.CircleMarker at 0x7efdfdd05160>,\n",
       " <folium.vector_layers.CircleMarker at 0x7efdfdd05710>,\n",
       " <folium.vector_layers.CircleMarker at 0x7efdfdd050f0>,\n",
       " <folium.vector_layers.CircleMarker at 0x7efdfdd052b0>,\n",
       " <folium.vector_layers.CircleMarker at 0x7efdfdd056a0>,\n",
       " <folium.vector_layers.CircleMarker at 0x7efdfdd05208>,\n",
       " <folium.vector_layers.CircleMarker at 0x7efdfdd053c8>,\n",
       " <folium.vector_layers.CircleMarker at 0x7efdfdd05668>,\n",
       " <folium.vector_layers.CircleMarker at 0x7efdfdd05518>,\n",
       " <folium.vector_layers.CircleMarker at 0x7efdfdd058d0>,\n",
       " <folium.vector_layers.CircleMarker at 0x7efdfdd05240>,\n",
       " <folium.vector_layers.CircleMarker at 0x7efdfdd05dd8>,\n",
       " <folium.vector_layers.CircleMarker at 0x7efdfdd05748>,\n",
       " <folium.vector_layers.CircleMarker at 0x7efdfdd05780>,\n",
       " <folium.vector_layers.CircleMarker at 0x7efdfdd05ef0>,\n",
       " <folium.vector_layers.CircleMarker at 0x7efdfdd05a20>,\n",
       " <folium.vector_layers.CircleMarker at 0x7efdfdd05f28>,\n",
       " <folium.vector_layers.CircleMarker at 0x7efdfdd05f60>,\n",
       " <folium.vector_layers.CircleMarker at 0x7efdfdd05f98>,\n",
       " <folium.vector_layers.CircleMarker at 0x7efdfdd05fd0>,\n",
       " <folium.vector_layers.CircleMarker at 0x7efe188c5908>,\n",
       " <folium.vector_layers.CircleMarker at 0x7efdfdd05048>,\n",
       " <folium.vector_layers.CircleMarker at 0x7efdfdc51080>,\n",
       " <folium.vector_layers.CircleMarker at 0x7efdfdc510b8>,\n",
       " <folium.vector_layers.CircleMarker at 0x7efdfdc510f0>,\n",
       " <folium.vector_layers.CircleMarker at 0x7efdfdc51128>,\n",
       " <folium.vector_layers.CircleMarker at 0x7efdfdc51160>,\n",
       " <folium.vector_layers.CircleMarker at 0x7efdfdc51198>,\n",
       " <folium.vector_layers.CircleMarker at 0x7efdfdc511d0>,\n",
       " <folium.vector_layers.CircleMarker at 0x7efdfdc51208>,\n",
       " <folium.vector_layers.CircleMarker at 0x7efdfdc51240>,\n",
       " <folium.vector_layers.CircleMarker at 0x7efdfdc51278>,\n",
       " <folium.vector_layers.CircleMarker at 0x7efdfdc512b0>,\n",
       " <folium.vector_layers.CircleMarker at 0x7efdfdc512e8>,\n",
       " <folium.vector_layers.CircleMarker at 0x7efdfdc51320>,\n",
       " <folium.vector_layers.CircleMarker at 0x7efdfdc51358>,\n",
       " <folium.vector_layers.CircleMarker at 0x7efdfdc51390>,\n",
       " <folium.vector_layers.CircleMarker at 0x7efdfdc513c8>,\n",
       " <folium.vector_layers.CircleMarker at 0x7efdfdc51400>,\n",
       " <folium.vector_layers.CircleMarker at 0x7efdfdc51438>,\n",
       " <folium.vector_layers.CircleMarker at 0x7efdfdc51470>,\n",
       " <folium.vector_layers.CircleMarker at 0x7efdfdc514a8>,\n",
       " <folium.vector_layers.CircleMarker at 0x7efdfdc514e0>,\n",
       " <folium.vector_layers.CircleMarker at 0x7efdfdc51518>,\n",
       " <folium.vector_layers.CircleMarker at 0x7efdfdc51550>,\n",
       " <folium.vector_layers.CircleMarker at 0x7efdfdc51588>,\n",
       " <folium.vector_layers.CircleMarker at 0x7efdfdc515c0>,\n",
       " <folium.vector_layers.CircleMarker at 0x7efdfdc515f8>,\n",
       " <folium.vector_layers.CircleMarker at 0x7efdfdc51630>,\n",
       " <folium.vector_layers.CircleMarker at 0x7efdfdc51668>,\n",
       " <folium.vector_layers.CircleMarker at 0x7efdfdc516a0>,\n",
       " <folium.vector_layers.CircleMarker at 0x7efdfdc516d8>,\n",
       " <folium.vector_layers.CircleMarker at 0x7efdfdc51710>,\n",
       " <folium.vector_layers.CircleMarker at 0x7efdfdc51748>,\n",
       " <folium.vector_layers.CircleMarker at 0x7efdfdc51780>,\n",
       " <folium.vector_layers.CircleMarker at 0x7efdfdc517b8>,\n",
       " <folium.vector_layers.CircleMarker at 0x7efdfdc517f0>,\n",
       " <folium.vector_layers.CircleMarker at 0x7efdfdc51828>,\n",
       " <folium.vector_layers.CircleMarker at 0x7efdfdc51860>,\n",
       " <folium.vector_layers.CircleMarker at 0x7efdfdc51898>,\n",
       " <folium.vector_layers.CircleMarker at 0x7efdfdc518d0>,\n",
       " <folium.vector_layers.CircleMarker at 0x7efdfdc51908>,\n",
       " <folium.vector_layers.CircleMarker at 0x7efdfdc51940>,\n",
       " <folium.vector_layers.CircleMarker at 0x7efdfdc51978>,\n",
       " <folium.vector_layers.CircleMarker at 0x7efdfdc519b0>,\n",
       " <folium.vector_layers.CircleMarker at 0x7efdfdc519e8>,\n",
       " <folium.vector_layers.CircleMarker at 0x7efdfdc51a20>,\n",
       " <folium.vector_layers.CircleMarker at 0x7efdfdc51a58>,\n",
       " <folium.vector_layers.CircleMarker at 0x7efdfdc51a90>,\n",
       " <folium.vector_layers.CircleMarker at 0x7efdfdc51ac8>,\n",
       " <folium.vector_layers.CircleMarker at 0x7efdfdc51b00>,\n",
       " <folium.vector_layers.CircleMarker at 0x7efdfdc51b38>,\n",
       " <folium.vector_layers.CircleMarker at 0x7efdfdc51b70>,\n",
       " <folium.vector_layers.CircleMarker at 0x7efdfdc51ba8>,\n",
       " <folium.vector_layers.CircleMarker at 0x7efdfdc51be0>,\n",
       " <folium.vector_layers.CircleMarker at 0x7efdfdc51c18>,\n",
       " <folium.vector_layers.CircleMarker at 0x7efdfdc51c50>,\n",
       " <folium.vector_layers.CircleMarker at 0x7efdfdc51c88>,\n",
       " <folium.vector_layers.CircleMarker at 0x7efdfdc51cc0>,\n",
       " <folium.vector_layers.CircleMarker at 0x7efdfdc51cf8>,\n",
       " <folium.vector_layers.CircleMarker at 0x7efdfdc51d30>,\n",
       " <folium.vector_layers.CircleMarker at 0x7efdfdc51d68>,\n",
       " <folium.vector_layers.CircleMarker at 0x7efdfdc51da0>,\n",
       " <folium.vector_layers.CircleMarker at 0x7efdfdc51dd8>,\n",
       " <folium.vector_layers.CircleMarker at 0x7efdfdc51e10>,\n",
       " <folium.vector_layers.CircleMarker at 0x7efdfdc51e48>,\n",
       " <folium.vector_layers.CircleMarker at 0x7efdfdc51e80>,\n",
       " <folium.vector_layers.CircleMarker at 0x7efdfdc51eb8>,\n",
       " <folium.vector_layers.CircleMarker at 0x7efdfdc51ef0>,\n",
       " <folium.vector_layers.CircleMarker at 0x7efdfdc51f28>,\n",
       " <folium.vector_layers.CircleMarker at 0x7efdfdc51f60>,\n",
       " <folium.vector_layers.CircleMarker at 0x7efdfdc51f98>,\n",
       " <folium.vector_layers.CircleMarker at 0x7efdfdc51fd0>,\n",
       " <folium.vector_layers.CircleMarker at 0x7efdfdc51048>,\n",
       " <folium.vector_layers.CircleMarker at 0x7efdfdc60080>,\n",
       " <folium.vector_layers.CircleMarker at 0x7efdfdc600b8>,\n",
       " <folium.vector_layers.CircleMarker at 0x7efdfdc600f0>,\n",
       " <folium.vector_layers.CircleMarker at 0x7efdfdc60128>,\n",
       " <folium.vector_layers.CircleMarker at 0x7efdfdc60160>,\n",
       " <folium.vector_layers.CircleMarker at 0x7efdfdc60198>,\n",
       " <folium.vector_layers.CircleMarker at 0x7efdfdc601d0>,\n",
       " <folium.vector_layers.CircleMarker at 0x7efdfdc60208>,\n",
       " <folium.vector_layers.CircleMarker at 0x7efdfdc60240>,\n",
       " <folium.vector_layers.CircleMarker at 0x7efdfdc60278>,\n",
       " <folium.vector_layers.CircleMarker at 0x7efdfdc602b0>,\n",
       " <folium.vector_layers.CircleMarker at 0x7efdfdc602e8>,\n",
       " <folium.vector_layers.CircleMarker at 0x7efdfdc60320>,\n",
       " <folium.vector_layers.CircleMarker at 0x7efdfdc60358>,\n",
       " <folium.vector_layers.CircleMarker at 0x7efdfdc60390>,\n",
       " <folium.vector_layers.CircleMarker at 0x7efdfdc603c8>,\n",
       " <folium.vector_layers.CircleMarker at 0x7efdfdc60400>,\n",
       " <folium.vector_layers.CircleMarker at 0x7efdfdc60438>,\n",
       " <folium.vector_layers.CircleMarker at 0x7efdfdc60470>,\n",
       " <folium.vector_layers.CircleMarker at 0x7efdfdc604a8>,\n",
       " <folium.vector_layers.CircleMarker at 0x7efdfdc604e0>,\n",
       " <folium.vector_layers.CircleMarker at 0x7efdfdc60518>,\n",
       " <folium.vector_layers.CircleMarker at 0x7efdfdc60550>,\n",
       " <folium.vector_layers.CircleMarker at 0x7efdfdc60588>,\n",
       " <folium.vector_layers.CircleMarker at 0x7efdfdc605c0>,\n",
       " <folium.vector_layers.CircleMarker at 0x7efdfdc605f8>,\n",
       " <folium.vector_layers.CircleMarker at 0x7efdfdc60630>,\n",
       " <folium.vector_layers.CircleMarker at 0x7efdfdc60668>,\n",
       " <folium.vector_layers.CircleMarker at 0x7efdfdc606a0>,\n",
       " <folium.vector_layers.CircleMarker at 0x7efdfdc606d8>,\n",
       " <folium.vector_layers.CircleMarker at 0x7efdfdc60710>,\n",
       " <folium.vector_layers.CircleMarker at 0x7efdfdc60748>,\n",
       " <folium.vector_layers.CircleMarker at 0x7efdfdc60780>,\n",
       " <folium.vector_layers.CircleMarker at 0x7efdfdc607b8>,\n",
       " <folium.vector_layers.CircleMarker at 0x7efdfdc607f0>,\n",
       " <folium.vector_layers.CircleMarker at 0x7efdfdc60828>,\n",
       " <folium.vector_layers.CircleMarker at 0x7efdfdc60860>,\n",
       " <folium.vector_layers.CircleMarker at 0x7efdfdc60898>,\n",
       " <folium.vector_layers.CircleMarker at 0x7efdfdc608d0>,\n",
       " <folium.vector_layers.CircleMarker at 0x7efdfdc60908>,\n",
       " <folium.vector_layers.CircleMarker at 0x7efdfdc60940>,\n",
       " <folium.vector_layers.CircleMarker at 0x7efdfdc60978>,\n",
       " <folium.vector_layers.CircleMarker at 0x7efdfdc609b0>,\n",
       " <folium.vector_layers.CircleMarker at 0x7efdfdc609e8>,\n",
       " <folium.vector_layers.CircleMarker at 0x7efdfdc60a20>,\n",
       " <folium.vector_layers.CircleMarker at 0x7efdfdc60a58>,\n",
       " <folium.vector_layers.CircleMarker at 0x7efdfdc60a90>,\n",
       " <folium.vector_layers.CircleMarker at 0x7efdfdc60ac8>,\n",
       " <folium.vector_layers.CircleMarker at 0x7efdfdc60b00>,\n",
       " <folium.vector_layers.CircleMarker at 0x7efdfdc60b38>,\n",
       " <folium.vector_layers.CircleMarker at 0x7efdfdc60b70>,\n",
       " <folium.vector_layers.CircleMarker at 0x7efdfdc60ba8>,\n",
       " <folium.vector_layers.CircleMarker at 0x7efdfdc60be0>,\n",
       " <folium.vector_layers.CircleMarker at 0x7efdfdc60c18>,\n",
       " <folium.vector_layers.CircleMarker at 0x7efdfdc60c50>,\n",
       " <folium.vector_layers.CircleMarker at 0x7efdfdc60c88>,\n",
       " <folium.vector_layers.CircleMarker at 0x7efdfdc60cc0>,\n",
       " <folium.vector_layers.CircleMarker at 0x7efdfdc60cf8>,\n",
       " <folium.vector_layers.CircleMarker at 0x7efdfdc60d30>,\n",
       " <folium.vector_layers.CircleMarker at 0x7efdfdc60d68>,\n",
       " <folium.vector_layers.CircleMarker at 0x7efdfdc60da0>,\n",
       " <folium.vector_layers.CircleMarker at 0x7efdfdc60dd8>,\n",
       " <folium.vector_layers.CircleMarker at 0x7efdfdc60e10>,\n",
       " <folium.vector_layers.CircleMarker at 0x7efdfdc60e48>,\n",
       " <folium.vector_layers.CircleMarker at 0x7efdfdc60e80>,\n",
       " <folium.vector_layers.CircleMarker at 0x7efdfdc60eb8>,\n",
       " <folium.vector_layers.CircleMarker at 0x7efdfdc60ef0>,\n",
       " <folium.vector_layers.CircleMarker at 0x7efdfdc60f28>,\n",
       " <folium.vector_layers.CircleMarker at 0x7efdfdc60f60>,\n",
       " <folium.vector_layers.CircleMarker at 0x7efdfdc60f98>,\n",
       " <folium.vector_layers.CircleMarker at 0x7efdfdc60fd0>,\n",
       " <folium.vector_layers.CircleMarker at 0x7efdfdc60048>,\n",
       " <folium.vector_layers.CircleMarker at 0x7efdfdc6c080>,\n",
       " <folium.vector_layers.CircleMarker at 0x7efdfdc6c0b8>,\n",
       " <folium.vector_layers.CircleMarker at 0x7efdfdc6c0f0>,\n",
       " <folium.vector_layers.CircleMarker at 0x7efdfdc6c128>,\n",
       " <folium.vector_layers.CircleMarker at 0x7efdfdc6c160>,\n",
       " <folium.vector_layers.CircleMarker at 0x7efdfdc6c198>,\n",
       " <folium.vector_layers.CircleMarker at 0x7efdfdc6c1d0>,\n",
       " <folium.vector_layers.CircleMarker at 0x7efdfdc6c208>,\n",
       " <folium.vector_layers.CircleMarker at 0x7efdfdc6c240>,\n",
       " <folium.vector_layers.CircleMarker at 0x7efdfdc6c278>,\n",
       " <folium.vector_layers.CircleMarker at 0x7efdfdc6c2b0>,\n",
       " <folium.vector_layers.CircleMarker at 0x7efdfdc6c2e8>,\n",
       " <folium.vector_layers.CircleMarker at 0x7efdfdc6c320>,\n",
       " <folium.vector_layers.CircleMarker at 0x7efdfdc6c358>,\n",
       " <folium.vector_layers.CircleMarker at 0x7efdfdc6c390>,\n",
       " <folium.vector_layers.CircleMarker at 0x7efdfdc6c3c8>,\n",
       " <folium.vector_layers.CircleMarker at 0x7efdfdc6c400>,\n",
       " <folium.vector_layers.CircleMarker at 0x7efdfdc6c438>,\n",
       " <folium.vector_layers.CircleMarker at 0x7efdfdc6c470>,\n",
       " <folium.vector_layers.CircleMarker at 0x7efdfdc6c4a8>,\n",
       " <folium.vector_layers.CircleMarker at 0x7efdfdc6c4e0>,\n",
       " <folium.vector_layers.CircleMarker at 0x7efdfdc6c518>,\n",
       " <folium.vector_layers.CircleMarker at 0x7efdfdc6c550>,\n",
       " <folium.vector_layers.CircleMarker at 0x7efdfdc6c588>,\n",
       " <folium.vector_layers.CircleMarker at 0x7efdfdc6c5c0>,\n",
       " <folium.vector_layers.CircleMarker at 0x7efdfdc6c5f8>,\n",
       " <folium.vector_layers.CircleMarker at 0x7efdfdc6c630>,\n",
       " <folium.vector_layers.CircleMarker at 0x7efdfdc6c668>,\n",
       " <folium.vector_layers.CircleMarker at 0x7efdfdc6c6a0>,\n",
       " <folium.vector_layers.CircleMarker at 0x7efdfdc6c6d8>,\n",
       " <folium.vector_layers.CircleMarker at 0x7efdfdc6c710>,\n",
       " <folium.vector_layers.CircleMarker at 0x7efdfdc6c748>,\n",
       " <folium.vector_layers.CircleMarker at 0x7efdfdc6c780>,\n",
       " <folium.vector_layers.CircleMarker at 0x7efdfdc6c7b8>,\n",
       " <folium.vector_layers.CircleMarker at 0x7efdfdc6c7f0>,\n",
       " <folium.vector_layers.CircleMarker at 0x7efdfdc6c828>,\n",
       " <folium.vector_layers.CircleMarker at 0x7efdfdc6c860>,\n",
       " <folium.vector_layers.CircleMarker at 0x7efdfdc6c898>,\n",
       " <folium.vector_layers.CircleMarker at 0x7efdfdc6c8d0>,\n",
       " <folium.vector_layers.CircleMarker at 0x7efdfdc6c908>,\n",
       " <folium.vector_layers.CircleMarker at 0x7efdfdc6c940>,\n",
       " <folium.vector_layers.CircleMarker at 0x7efdfdc6c978>,\n",
       " <folium.vector_layers.CircleMarker at 0x7efdfdc6c9b0>,\n",
       " <folium.vector_layers.CircleMarker at 0x7efdfdc6c9e8>,\n",
       " <folium.vector_layers.CircleMarker at 0x7efdfdc6ca20>,\n",
       " <folium.vector_layers.CircleMarker at 0x7efdfdc6ca58>,\n",
       " <folium.vector_layers.CircleMarker at 0x7efdfdc6ca90>,\n",
       " <folium.vector_layers.CircleMarker at 0x7efdfdc6cac8>,\n",
       " <folium.vector_layers.CircleMarker at 0x7efdfdc6cb00>,\n",
       " <folium.vector_layers.CircleMarker at 0x7efdfdc6cb38>,\n",
       " <folium.vector_layers.CircleMarker at 0x7efdfdc6cb70>,\n",
       " <folium.vector_layers.CircleMarker at 0x7efdfdc6cba8>,\n",
       " <folium.vector_layers.CircleMarker at 0x7efdfdc6cbe0>,\n",
       " <folium.vector_layers.CircleMarker at 0x7efdfdc6cc18>,\n",
       " <folium.vector_layers.CircleMarker at 0x7efdfdc6cc50>,\n",
       " <folium.vector_layers.CircleMarker at 0x7efdfdc6cc88>,\n",
       " <folium.vector_layers.CircleMarker at 0x7efdfdc6ccc0>,\n",
       " <folium.vector_layers.CircleMarker at 0x7efdfdc6ccf8>,\n",
       " <folium.vector_layers.CircleMarker at 0x7efdfdc6cd30>,\n",
       " <folium.vector_layers.CircleMarker at 0x7efdfdc6cd68>,\n",
       " <folium.vector_layers.CircleMarker at 0x7efdfdc6cda0>,\n",
       " <folium.vector_layers.CircleMarker at 0x7efdfdc6cdd8>,\n",
       " <folium.vector_layers.CircleMarker at 0x7efdfdc6ce10>,\n",
       " <folium.vector_layers.CircleMarker at 0x7efdfdc6ce48>,\n",
       " <folium.vector_layers.CircleMarker at 0x7efdfdc6ce80>,\n",
       " <folium.vector_layers.CircleMarker at 0x7efdfdc6ceb8>,\n",
       " <folium.vector_layers.CircleMarker at 0x7efdfdc6cef0>,\n",
       " <folium.vector_layers.CircleMarker at 0x7efdfdc6cf28>,\n",
       " <folium.vector_layers.CircleMarker at 0x7efdfdc6cf60>,\n",
       " <folium.vector_layers.CircleMarker at 0x7efdfdc6cf98>,\n",
       " <folium.vector_layers.CircleMarker at 0x7efdfdc6cfd0>,\n",
       " <folium.vector_layers.CircleMarker at 0x7efdfdc6c048>,\n",
       " <folium.vector_layers.CircleMarker at 0x7efdfdbfb080>,\n",
       " <folium.vector_layers.CircleMarker at 0x7efdfdbfb0b8>,\n",
       " <folium.vector_layers.CircleMarker at 0x7efdfdbfb0f0>,\n",
       " <folium.vector_layers.CircleMarker at 0x7efdfdbfb128>,\n",
       " <folium.vector_layers.CircleMarker at 0x7efdfdbfb160>,\n",
       " <folium.vector_layers.CircleMarker at 0x7efdfdbfb198>,\n",
       " <folium.vector_layers.CircleMarker at 0x7efdfdbfb1d0>,\n",
       " <folium.vector_layers.CircleMarker at 0x7efdfdbfb208>,\n",
       " <folium.vector_layers.CircleMarker at 0x7efdfdbfb240>,\n",
       " <folium.vector_layers.CircleMarker at 0x7efdfdbfb278>,\n",
       " <folium.vector_layers.CircleMarker at 0x7efdfdbfb2b0>,\n",
       " <folium.vector_layers.CircleMarker at 0x7efdfdbfb2e8>,\n",
       " <folium.vector_layers.CircleMarker at 0x7efdfdbfb320>,\n",
       " <folium.vector_layers.CircleMarker at 0x7efdfdbfb358>,\n",
       " <folium.vector_layers.CircleMarker at 0x7efdfdbfb390>,\n",
       " <folium.vector_layers.CircleMarker at 0x7efdfdbfb3c8>,\n",
       " <folium.vector_layers.CircleMarker at 0x7efdfdbfb400>,\n",
       " <folium.vector_layers.CircleMarker at 0x7efdfdbfb438>,\n",
       " <folium.vector_layers.CircleMarker at 0x7efdfdbfb470>,\n",
       " <folium.vector_layers.CircleMarker at 0x7efdfdbfb4a8>,\n",
       " <folium.vector_layers.CircleMarker at 0x7efdfdbfb4e0>,\n",
       " <folium.vector_layers.CircleMarker at 0x7efdfdbfb518>,\n",
       " <folium.vector_layers.CircleMarker at 0x7efdfdbfb550>,\n",
       " <folium.vector_layers.CircleMarker at 0x7efdfdbfb588>,\n",
       " <folium.vector_layers.CircleMarker at 0x7efdfdbfb5c0>,\n",
       " <folium.vector_layers.CircleMarker at 0x7efdfdbfb5f8>,\n",
       " <folium.vector_layers.CircleMarker at 0x7efdfdbfb630>,\n",
       " <folium.vector_layers.CircleMarker at 0x7efdfdbfb668>,\n",
       " <folium.vector_layers.CircleMarker at 0x7efdfdbfb6a0>,\n",
       " <folium.vector_layers.CircleMarker at 0x7efdfdbfb6d8>,\n",
       " <folium.vector_layers.CircleMarker at 0x7efdfdbfb710>,\n",
       " <folium.vector_layers.CircleMarker at 0x7efdfdbfb748>,\n",
       " <folium.vector_layers.CircleMarker at 0x7efdfdbfb780>,\n",
       " <folium.vector_layers.CircleMarker at 0x7efdfdbfb7b8>,\n",
       " <folium.vector_layers.CircleMarker at 0x7efdfdbfb7f0>,\n",
       " <folium.vector_layers.CircleMarker at 0x7efdfdbfb828>,\n",
       " <folium.vector_layers.CircleMarker at 0x7efdfdbfb860>,\n",
       " <folium.vector_layers.CircleMarker at 0x7efdfdbfb898>,\n",
       " <folium.vector_layers.CircleMarker at 0x7efdfdbfb8d0>,\n",
       " <folium.vector_layers.CircleMarker at 0x7efdfdbfb908>,\n",
       " <folium.vector_layers.CircleMarker at 0x7efdfdbfb940>,\n",
       " <folium.vector_layers.CircleMarker at 0x7efdfdbfb978>,\n",
       " <folium.vector_layers.CircleMarker at 0x7efdfdbfb9b0>,\n",
       " <folium.vector_layers.CircleMarker at 0x7efdfdbfb9e8>,\n",
       " <folium.vector_layers.CircleMarker at 0x7efdfdbfba20>,\n",
       " <folium.vector_layers.CircleMarker at 0x7efdfdbfba58>,\n",
       " <folium.vector_layers.CircleMarker at 0x7efdfdbfba90>,\n",
       " <folium.vector_layers.CircleMarker at 0x7efdfdbfbac8>,\n",
       " <folium.vector_layers.CircleMarker at 0x7efdfdbfbb00>,\n",
       " <folium.vector_layers.CircleMarker at 0x7efdfdbfbb38>,\n",
       " <folium.vector_layers.CircleMarker at 0x7efdfdbfbb70>,\n",
       " <folium.vector_layers.CircleMarker at 0x7efdfdbfbba8>,\n",
       " <folium.vector_layers.CircleMarker at 0x7efdfdbfbbe0>,\n",
       " <folium.vector_layers.CircleMarker at 0x7efdfdbfbc18>,\n",
       " <folium.vector_layers.CircleMarker at 0x7efdfdbfbc50>,\n",
       " <folium.vector_layers.CircleMarker at 0x7efdfdbfbc88>,\n",
       " <folium.vector_layers.CircleMarker at 0x7efdfdbfbcc0>,\n",
       " <folium.vector_layers.CircleMarker at 0x7efdfdbfbcf8>,\n",
       " <folium.vector_layers.CircleMarker at 0x7efdfdbfbd30>,\n",
       " <folium.vector_layers.CircleMarker at 0x7efdfdbfbd68>,\n",
       " <folium.vector_layers.CircleMarker at 0x7efdfdbfbda0>,\n",
       " <folium.vector_layers.CircleMarker at 0x7efdfdbfbdd8>,\n",
       " <folium.vector_layers.CircleMarker at 0x7efdfdbfbe10>,\n",
       " <folium.vector_layers.CircleMarker at 0x7efdfdbfbe48>,\n",
       " <folium.vector_layers.CircleMarker at 0x7efdfdbfbe80>,\n",
       " <folium.vector_layers.CircleMarker at 0x7efdfdbfbeb8>,\n",
       " <folium.vector_layers.CircleMarker at 0x7efdfdbfbef0>,\n",
       " <folium.vector_layers.CircleMarker at 0x7efdfdbfbf28>,\n",
       " <folium.vector_layers.CircleMarker at 0x7efdfdbfbf60>,\n",
       " <folium.vector_layers.CircleMarker at 0x7efdfdbfbf98>,\n",
       " <folium.vector_layers.CircleMarker at 0x7efdfdbfbfd0>,\n",
       " <folium.vector_layers.CircleMarker at 0x7efdfdbfb048>,\n",
       " <folium.vector_layers.CircleMarker at 0x7efdfdc08080>,\n",
       " <folium.vector_layers.CircleMarker at 0x7efdfdc080b8>,\n",
       " <folium.vector_layers.CircleMarker at 0x7efdfdc080f0>,\n",
       " <folium.vector_layers.CircleMarker at 0x7efdfdc08128>,\n",
       " <folium.vector_layers.CircleMarker at 0x7efdfdc08160>,\n",
       " <folium.vector_layers.CircleMarker at 0x7efdfdc08198>,\n",
       " <folium.vector_layers.CircleMarker at 0x7efdfdc081d0>,\n",
       " <folium.vector_layers.CircleMarker at 0x7efdfdc08208>,\n",
       " <folium.vector_layers.CircleMarker at 0x7efdfdc08240>,\n",
       " <folium.vector_layers.CircleMarker at 0x7efdfdc08278>,\n",
       " <folium.vector_layers.CircleMarker at 0x7efdfdc082b0>,\n",
       " <folium.vector_layers.CircleMarker at 0x7efdfdc082e8>,\n",
       " <folium.vector_layers.CircleMarker at 0x7efdfdc08320>,\n",
       " <folium.vector_layers.CircleMarker at 0x7efdfdc08358>,\n",
       " <folium.vector_layers.CircleMarker at 0x7efdfdc08390>,\n",
       " <folium.vector_layers.CircleMarker at 0x7efdfdc083c8>,\n",
       " <folium.vector_layers.CircleMarker at 0x7efdfdc08400>,\n",
       " <folium.vector_layers.CircleMarker at 0x7efdfdc08438>,\n",
       " <folium.vector_layers.CircleMarker at 0x7efdfdc08470>,\n",
       " <folium.vector_layers.CircleMarker at 0x7efdfdc084a8>,\n",
       " <folium.vector_layers.CircleMarker at 0x7efdfdc084e0>,\n",
       " <folium.vector_layers.CircleMarker at 0x7efdfdc08518>,\n",
       " <folium.vector_layers.CircleMarker at 0x7efdfdc08550>,\n",
       " <folium.vector_layers.CircleMarker at 0x7efdfdc08588>,\n",
       " <folium.vector_layers.CircleMarker at 0x7efdfdc085c0>,\n",
       " <folium.vector_layers.CircleMarker at 0x7efdfdc085f8>,\n",
       " <folium.vector_layers.CircleMarker at 0x7efdfdc08630>,\n",
       " <folium.vector_layers.CircleMarker at 0x7efdfdc08668>,\n",
       " <folium.vector_layers.CircleMarker at 0x7efdfdc086a0>,\n",
       " <folium.vector_layers.CircleMarker at 0x7efdfdc086d8>,\n",
       " <folium.vector_layers.CircleMarker at 0x7efdfdc08710>,\n",
       " <folium.vector_layers.CircleMarker at 0x7efdfdc08748>,\n",
       " <folium.vector_layers.CircleMarker at 0x7efdfdc08780>,\n",
       " <folium.vector_layers.CircleMarker at 0x7efdfdc087b8>,\n",
       " <folium.vector_layers.CircleMarker at 0x7efdfdc087f0>,\n",
       " <folium.vector_layers.CircleMarker at 0x7efdfdc08828>,\n",
       " <folium.vector_layers.CircleMarker at 0x7efdfdc08860>,\n",
       " <folium.vector_layers.CircleMarker at 0x7efdfdc08898>,\n",
       " <folium.vector_layers.CircleMarker at 0x7efdfdc088d0>,\n",
       " <folium.vector_layers.CircleMarker at 0x7efdfdc08908>,\n",
       " <folium.vector_layers.CircleMarker at 0x7efdfdc08940>,\n",
       " <folium.vector_layers.CircleMarker at 0x7efdfdc08978>,\n",
       " <folium.vector_layers.CircleMarker at 0x7efdfdc089b0>,\n",
       " <folium.vector_layers.CircleMarker at 0x7efdfdc089e8>,\n",
       " <folium.vector_layers.CircleMarker at 0x7efdfdc08a20>,\n",
       " <folium.vector_layers.CircleMarker at 0x7efdfdc08a58>,\n",
       " <folium.vector_layers.CircleMarker at 0x7efdfdc08a90>,\n",
       " <folium.vector_layers.CircleMarker at 0x7efdfdc08ac8>,\n",
       " <folium.vector_layers.CircleMarker at 0x7efdfdc08b00>,\n",
       " <folium.vector_layers.CircleMarker at 0x7efdfdc08b38>,\n",
       " <folium.vector_layers.CircleMarker at 0x7efdfdc08b70>,\n",
       " <folium.vector_layers.CircleMarker at 0x7efdfdc08ba8>,\n",
       " <folium.vector_layers.CircleMarker at 0x7efdfdc08be0>,\n",
       " <folium.vector_layers.CircleMarker at 0x7efdfdc08c18>,\n",
       " <folium.vector_layers.CircleMarker at 0x7efdfdc08c50>,\n",
       " <folium.vector_layers.CircleMarker at 0x7efdfdc08c88>,\n",
       " <folium.vector_layers.CircleMarker at 0x7efdfdc08cc0>,\n",
       " <folium.vector_layers.CircleMarker at 0x7efdfdc08cf8>,\n",
       " <folium.vector_layers.CircleMarker at 0x7efdfdc08d30>,\n",
       " <folium.vector_layers.CircleMarker at 0x7efdfdc08d68>,\n",
       " <folium.vector_layers.CircleMarker at 0x7efdfdc08da0>,\n",
       " <folium.vector_layers.CircleMarker at 0x7efdfdc08dd8>,\n",
       " <folium.vector_layers.CircleMarker at 0x7efdfdc08e10>,\n",
       " <folium.vector_layers.CircleMarker at 0x7efdfdc08e48>,\n",
       " <folium.vector_layers.CircleMarker at 0x7efdfdc08e80>,\n",
       " <folium.vector_layers.CircleMarker at 0x7efdfdc08eb8>,\n",
       " <folium.vector_layers.CircleMarker at 0x7efdfdc08ef0>,\n",
       " <folium.vector_layers.CircleMarker at 0x7efdfdc08f28>,\n",
       " <folium.vector_layers.CircleMarker at 0x7efdfdc08f60>,\n",
       " <folium.vector_layers.CircleMarker at 0x7efdfdc08f98>,\n",
       " <folium.vector_layers.CircleMarker at 0x7efdfdc08fd0>,\n",
       " <folium.vector_layers.CircleMarker at 0x7efdfdc08048>,\n",
       " <folium.vector_layers.CircleMarker at 0x7efdfdc16080>,\n",
       " <folium.vector_layers.CircleMarker at 0x7efdfdc160b8>,\n",
       " <folium.vector_layers.CircleMarker at 0x7efdfdc160f0>,\n",
       " <folium.vector_layers.CircleMarker at 0x7efdfdc16128>,\n",
       " <folium.vector_layers.CircleMarker at 0x7efdfdc16160>,\n",
       " <folium.vector_layers.CircleMarker at 0x7efdfdc16198>,\n",
       " <folium.vector_layers.CircleMarker at 0x7efdfdc161d0>,\n",
       " <folium.vector_layers.CircleMarker at 0x7efdfdc16208>,\n",
       " <folium.vector_layers.CircleMarker at 0x7efdfdc16240>,\n",
       " <folium.vector_layers.CircleMarker at 0x7efdfdc16278>,\n",
       " <folium.vector_layers.CircleMarker at 0x7efdfdc162b0>,\n",
       " <folium.vector_layers.CircleMarker at 0x7efdfdc162e8>,\n",
       " <folium.vector_layers.CircleMarker at 0x7efdfdc16320>,\n",
       " <folium.vector_layers.CircleMarker at 0x7efdfdc16358>,\n",
       " <folium.vector_layers.CircleMarker at 0x7efdfdc16390>,\n",
       " <folium.vector_layers.CircleMarker at 0x7efdfdc163c8>,\n",
       " <folium.vector_layers.CircleMarker at 0x7efdfdc16400>,\n",
       " <folium.vector_layers.CircleMarker at 0x7efdfdc16438>,\n",
       " <folium.vector_layers.CircleMarker at 0x7efdfdc16470>,\n",
       " <folium.vector_layers.CircleMarker at 0x7efdfdc164a8>,\n",
       " <folium.vector_layers.CircleMarker at 0x7efdfdc164e0>,\n",
       " <folium.vector_layers.CircleMarker at 0x7efdfdc16518>,\n",
       " <folium.vector_layers.CircleMarker at 0x7efdfdc16550>,\n",
       " <folium.vector_layers.CircleMarker at 0x7efdfdc16588>,\n",
       " <folium.vector_layers.CircleMarker at 0x7efdfdc165c0>,\n",
       " <folium.vector_layers.CircleMarker at 0x7efdfdc165f8>,\n",
       " <folium.vector_layers.CircleMarker at 0x7efdfdc16630>,\n",
       " <folium.vector_layers.CircleMarker at 0x7efdfdc16668>,\n",
       " <folium.vector_layers.CircleMarker at 0x7efdfdc166a0>,\n",
       " <folium.vector_layers.CircleMarker at 0x7efdfdc166d8>,\n",
       " <folium.vector_layers.CircleMarker at 0x7efdfdc16710>,\n",
       " <folium.vector_layers.CircleMarker at 0x7efdfdc16748>,\n",
       " <folium.vector_layers.CircleMarker at 0x7efdfdc16780>,\n",
       " <folium.vector_layers.CircleMarker at 0x7efdfdc167b8>,\n",
       " <folium.vector_layers.CircleMarker at 0x7efdfdc167f0>,\n",
       " <folium.vector_layers.CircleMarker at 0x7efdfdc16828>,\n",
       " <folium.vector_layers.CircleMarker at 0x7efdfdc16860>,\n",
       " <folium.vector_layers.CircleMarker at 0x7efdfdc16898>,\n",
       " <folium.vector_layers.CircleMarker at 0x7efdfdc168d0>,\n",
       " <folium.vector_layers.CircleMarker at 0x7efdfdc16908>,\n",
       " <folium.vector_layers.CircleMarker at 0x7efdfdc16940>,\n",
       " <folium.vector_layers.CircleMarker at 0x7efdfdc16978>,\n",
       " <folium.vector_layers.CircleMarker at 0x7efdfdc169b0>,\n",
       " <folium.vector_layers.CircleMarker at 0x7efdfdc169e8>,\n",
       " <folium.vector_layers.CircleMarker at 0x7efdfdc16a20>,\n",
       " <folium.vector_layers.CircleMarker at 0x7efdfdc16a58>,\n",
       " <folium.vector_layers.CircleMarker at 0x7efdfdc16a90>,\n",
       " <folium.vector_layers.CircleMarker at 0x7efdfdc16ac8>,\n",
       " <folium.vector_layers.CircleMarker at 0x7efdfdc16b00>,\n",
       " <folium.vector_layers.CircleMarker at 0x7efdfdc16b38>,\n",
       " <folium.vector_layers.CircleMarker at 0x7efdfdc16b70>,\n",
       " <folium.vector_layers.CircleMarker at 0x7efdfdc16ba8>,\n",
       " <folium.vector_layers.CircleMarker at 0x7efdfdc16be0>,\n",
       " <folium.vector_layers.CircleMarker at 0x7efdfdc16c18>,\n",
       " <folium.vector_layers.CircleMarker at 0x7efdfdc16c50>,\n",
       " <folium.vector_layers.CircleMarker at 0x7efdfdc16c88>,\n",
       " <folium.vector_layers.CircleMarker at 0x7efdfdc16cc0>,\n",
       " <folium.vector_layers.CircleMarker at 0x7efdfdc16cf8>,\n",
       " <folium.vector_layers.CircleMarker at 0x7efdfdc16d30>,\n",
       " <folium.vector_layers.CircleMarker at 0x7efdfdc16d68>,\n",
       " <folium.vector_layers.CircleMarker at 0x7efdfdc16da0>,\n",
       " <folium.vector_layers.CircleMarker at 0x7efdfdc16dd8>,\n",
       " <folium.vector_layers.CircleMarker at 0x7efdfdc16e10>,\n",
       " <folium.vector_layers.CircleMarker at 0x7efdfdc16e48>,\n",
       " <folium.vector_layers.CircleMarker at 0x7efdfdc16e80>,\n",
       " <folium.vector_layers.CircleMarker at 0x7efdfdc16eb8>,\n",
       " <folium.vector_layers.CircleMarker at 0x7efdfdc16ef0>,\n",
       " <folium.vector_layers.CircleMarker at 0x7efdfdc16f28>,\n",
       " <folium.vector_layers.CircleMarker at 0x7efdfdc16f60>,\n",
       " <folium.vector_layers.CircleMarker at 0x7efdfdc16f98>,\n",
       " <folium.vector_layers.CircleMarker at 0x7efdfdc16fd0>,\n",
       " <folium.vector_layers.CircleMarker at 0x7efdfdc16048>,\n",
       " <folium.vector_layers.CircleMarker at 0x7efdfdc23080>,\n",
       " <folium.vector_layers.CircleMarker at 0x7efdfdc230b8>,\n",
       " <folium.vector_layers.CircleMarker at 0x7efdfdc230f0>,\n",
       " <folium.vector_layers.CircleMarker at 0x7efdfdc23128>,\n",
       " <folium.vector_layers.CircleMarker at 0x7efdfdc23160>,\n",
       " <folium.vector_layers.CircleMarker at 0x7efdfdc23198>,\n",
       " <folium.vector_layers.CircleMarker at 0x7efdfdc231d0>,\n",
       " <folium.vector_layers.CircleMarker at 0x7efdfdc23208>,\n",
       " <folium.vector_layers.CircleMarker at 0x7efdfdc23240>,\n",
       " <folium.vector_layers.CircleMarker at 0x7efdfdc23278>,\n",
       " <folium.vector_layers.CircleMarker at 0x7efdfdc232b0>,\n",
       " <folium.vector_layers.CircleMarker at 0x7efdfdc232e8>,\n",
       " <folium.vector_layers.CircleMarker at 0x7efdfdc23320>,\n",
       " <folium.vector_layers.CircleMarker at 0x7efdfdc23358>,\n",
       " <folium.vector_layers.CircleMarker at 0x7efdfdc23390>,\n",
       " <folium.vector_layers.CircleMarker at 0x7efdfdc233c8>,\n",
       " <folium.vector_layers.CircleMarker at 0x7efdfdc23400>,\n",
       " <folium.vector_layers.CircleMarker at 0x7efdfdc23438>,\n",
       " <folium.vector_layers.CircleMarker at 0x7efdfdc23470>,\n",
       " <folium.vector_layers.CircleMarker at 0x7efdfdc234a8>,\n",
       " <folium.vector_layers.CircleMarker at 0x7efdfdc234e0>,\n",
       " <folium.vector_layers.CircleMarker at 0x7efdfdc23518>,\n",
       " <folium.vector_layers.CircleMarker at 0x7efdfdc23550>,\n",
       " <folium.vector_layers.CircleMarker at 0x7efdfdc23588>,\n",
       " <folium.vector_layers.CircleMarker at 0x7efdfdc235c0>,\n",
       " <folium.vector_layers.CircleMarker at 0x7efdfdc235f8>,\n",
       " <folium.vector_layers.CircleMarker at 0x7efdfdc23630>,\n",
       " <folium.vector_layers.CircleMarker at 0x7efdfdc23668>,\n",
       " <folium.vector_layers.CircleMarker at 0x7efdfdc236a0>,\n",
       " <folium.vector_layers.CircleMarker at 0x7efdfdc236d8>,\n",
       " <folium.vector_layers.CircleMarker at 0x7efdfdc23710>,\n",
       " <folium.vector_layers.CircleMarker at 0x7efdfdc23748>,\n",
       " <folium.vector_layers.CircleMarker at 0x7efdfdc23780>,\n",
       " <folium.vector_layers.CircleMarker at 0x7efdfdc237b8>,\n",
       " <folium.vector_layers.CircleMarker at 0x7efdfdc237f0>,\n",
       " <folium.vector_layers.CircleMarker at 0x7efdfdc23828>,\n",
       " <folium.vector_layers.CircleMarker at 0x7efdfdc23860>,\n",
       " <folium.vector_layers.CircleMarker at 0x7efdfdc23898>,\n",
       " <folium.vector_layers.CircleMarker at 0x7efdfdc238d0>,\n",
       " <folium.vector_layers.CircleMarker at 0x7efdfdc23908>,\n",
       " <folium.vector_layers.CircleMarker at 0x7efdfdc23940>,\n",
       " <folium.vector_layers.CircleMarker at 0x7efdfdc23978>,\n",
       " <folium.vector_layers.CircleMarker at 0x7efdfdc239b0>,\n",
       " <folium.vector_layers.CircleMarker at 0x7efdfdc239e8>,\n",
       " <folium.vector_layers.CircleMarker at 0x7efdfdc23a20>,\n",
       " <folium.vector_layers.CircleMarker at 0x7efdfdc23a58>,\n",
       " <folium.vector_layers.CircleMarker at 0x7efdfdc23a90>,\n",
       " <folium.vector_layers.CircleMarker at 0x7efdfdc23ac8>,\n",
       " <folium.vector_layers.CircleMarker at 0x7efdfdc23b00>,\n",
       " <folium.vector_layers.CircleMarker at 0x7efdfdc23b38>,\n",
       " <folium.vector_layers.CircleMarker at 0x7efdfdc23b70>,\n",
       " <folium.vector_layers.CircleMarker at 0x7efdfdc23ba8>,\n",
       " <folium.vector_layers.CircleMarker at 0x7efdfdc23be0>,\n",
       " <folium.vector_layers.CircleMarker at 0x7efdfdc23c18>,\n",
       " <folium.vector_layers.CircleMarker at 0x7efdfdc23c50>,\n",
       " <folium.vector_layers.CircleMarker at 0x7efdfdc23c88>,\n",
       " <folium.vector_layers.CircleMarker at 0x7efdfdc23cc0>,\n",
       " <folium.vector_layers.CircleMarker at 0x7efdfdc23cf8>,\n",
       " <folium.vector_layers.CircleMarker at 0x7efdfdc23d30>,\n",
       " <folium.vector_layers.CircleMarker at 0x7efdfdc23d68>,\n",
       " <folium.vector_layers.CircleMarker at 0x7efdfdc23da0>,\n",
       " <folium.vector_layers.CircleMarker at 0x7efdfdc23dd8>,\n",
       " <folium.vector_layers.CircleMarker at 0x7efdfdc23e10>,\n",
       " <folium.vector_layers.CircleMarker at 0x7efdfdc23e48>,\n",
       " <folium.vector_layers.CircleMarker at 0x7efdfdc23e80>,\n",
       " <folium.vector_layers.CircleMarker at 0x7efdfdc23eb8>,\n",
       " <folium.vector_layers.CircleMarker at 0x7efdfdc23ef0>,\n",
       " <folium.vector_layers.CircleMarker at 0x7efdfdc23f28>,\n",
       " <folium.vector_layers.CircleMarker at 0x7efdfdc23f60>,\n",
       " <folium.vector_layers.CircleMarker at 0x7efdfdc23f98>,\n",
       " <folium.vector_layers.CircleMarker at 0x7efdfdc23fd0>,\n",
       " <folium.vector_layers.CircleMarker at 0x7efdfdc23048>,\n",
       " <folium.vector_layers.CircleMarker at 0x7efdfdc32080>,\n",
       " <folium.vector_layers.CircleMarker at 0x7efdfdc320b8>,\n",
       " <folium.vector_layers.CircleMarker at 0x7efdfdc320f0>,\n",
       " <folium.vector_layers.CircleMarker at 0x7efdfdc32128>,\n",
       " <folium.vector_layers.CircleMarker at 0x7efdfdc32160>,\n",
       " <folium.vector_layers.CircleMarker at 0x7efdfdc32198>,\n",
       " <folium.vector_layers.CircleMarker at 0x7efdfdc321d0>,\n",
       " <folium.vector_layers.CircleMarker at 0x7efdfdc32208>,\n",
       " <folium.vector_layers.CircleMarker at 0x7efdfdc32240>,\n",
       " <folium.vector_layers.CircleMarker at 0x7efdfdc32278>,\n",
       " <folium.vector_layers.CircleMarker at 0x7efdfdc322b0>,\n",
       " <folium.vector_layers.CircleMarker at 0x7efdfdc322e8>,\n",
       " <folium.vector_layers.CircleMarker at 0x7efdfdc32320>,\n",
       " <folium.vector_layers.CircleMarker at 0x7efdfdc32358>,\n",
       " <folium.vector_layers.CircleMarker at 0x7efdfdc32390>,\n",
       " <folium.vector_layers.CircleMarker at 0x7efdfdc323c8>,\n",
       " <folium.vector_layers.CircleMarker at 0x7efdfdc32400>,\n",
       " <folium.vector_layers.CircleMarker at 0x7efdfdc32438>,\n",
       " <folium.vector_layers.CircleMarker at 0x7efdfdc32470>,\n",
       " <folium.vector_layers.CircleMarker at 0x7efdfdc324a8>,\n",
       " <folium.vector_layers.CircleMarker at 0x7efdfdc324e0>,\n",
       " <folium.vector_layers.CircleMarker at 0x7efdfdc32518>,\n",
       " <folium.vector_layers.CircleMarker at 0x7efdfdc32550>,\n",
       " <folium.vector_layers.CircleMarker at 0x7efdfdc32588>,\n",
       " <folium.vector_layers.CircleMarker at 0x7efdfdc325c0>,\n",
       " <folium.vector_layers.CircleMarker at 0x7efdfdc325f8>,\n",
       " <folium.vector_layers.CircleMarker at 0x7efdfdc32630>,\n",
       " <folium.vector_layers.CircleMarker at 0x7efdfdc32668>,\n",
       " <folium.vector_layers.CircleMarker at 0x7efdfdc326a0>,\n",
       " <folium.vector_layers.CircleMarker at 0x7efdfdc326d8>,\n",
       " <folium.vector_layers.CircleMarker at 0x7efdfdc32710>,\n",
       " <folium.vector_layers.CircleMarker at 0x7efdfdc32748>,\n",
       " <folium.vector_layers.CircleMarker at 0x7efdfdc32780>,\n",
       " <folium.vector_layers.CircleMarker at 0x7efdfdc327b8>,\n",
       " <folium.vector_layers.CircleMarker at 0x7efdfdc327f0>,\n",
       " <folium.vector_layers.CircleMarker at 0x7efdfdc32828>,\n",
       " <folium.vector_layers.CircleMarker at 0x7efdfdc32860>,\n",
       " <folium.vector_layers.CircleMarker at 0x7efdfdc32898>,\n",
       " <folium.vector_layers.CircleMarker at 0x7efdfdc328d0>,\n",
       " <folium.vector_layers.CircleMarker at 0x7efdfdc32908>,\n",
       " <folium.vector_layers.CircleMarker at 0x7efdfdc32940>,\n",
       " <folium.vector_layers.CircleMarker at 0x7efdfdc32978>,\n",
       " <folium.vector_layers.CircleMarker at 0x7efdfdc329b0>,\n",
       " <folium.vector_layers.CircleMarker at 0x7efdfdc329e8>,\n",
       " <folium.vector_layers.CircleMarker at 0x7efdfdc32a20>,\n",
       " <folium.vector_layers.CircleMarker at 0x7efdfdc32a58>,\n",
       " <folium.vector_layers.CircleMarker at 0x7efdfdc32a90>,\n",
       " <folium.vector_layers.CircleMarker at 0x7efdfdc32ac8>,\n",
       " <folium.vector_layers.CircleMarker at 0x7efdfdc32b00>,\n",
       " <folium.vector_layers.CircleMarker at 0x7efdfdc32b38>,\n",
       " <folium.vector_layers.CircleMarker at 0x7efdfdc32b70>,\n",
       " <folium.vector_layers.CircleMarker at 0x7efdfdc32ba8>,\n",
       " <folium.vector_layers.CircleMarker at 0x7efdfdc32be0>,\n",
       " <folium.vector_layers.CircleMarker at 0x7efdfdc32c18>,\n",
       " <folium.vector_layers.CircleMarker at 0x7efdfdc32c50>,\n",
       " <folium.vector_layers.CircleMarker at 0x7efdfdc32c88>,\n",
       " <folium.vector_layers.CircleMarker at 0x7efdfdc32cc0>,\n",
       " <folium.vector_layers.CircleMarker at 0x7efdfdc32cf8>,\n",
       " <folium.vector_layers.CircleMarker at 0x7efdfdc32d30>,\n",
       " <folium.vector_layers.CircleMarker at 0x7efdfdc32d68>,\n",
       " <folium.vector_layers.CircleMarker at 0x7efdfdc32da0>,\n",
       " <folium.vector_layers.CircleMarker at 0x7efdfdc32dd8>,\n",
       " <folium.vector_layers.CircleMarker at 0x7efdfdc32e10>,\n",
       " <folium.vector_layers.CircleMarker at 0x7efdfdc32e48>,\n",
       " <folium.vector_layers.CircleMarker at 0x7efdfdc32e80>,\n",
       " <folium.vector_layers.CircleMarker at 0x7efdfdc32eb8>,\n",
       " <folium.vector_layers.CircleMarker at 0x7efdfdc32ef0>,\n",
       " <folium.vector_layers.CircleMarker at 0x7efdfdc32f28>,\n",
       " <folium.vector_layers.CircleMarker at 0x7efdfdc32f60>,\n",
       " <folium.vector_layers.CircleMarker at 0x7efdfdc32f98>,\n",
       " <folium.vector_layers.CircleMarker at 0x7efdfdc32fd0>,\n",
       " <folium.vector_layers.CircleMarker at 0x7efdfdc32048>,\n",
       " <folium.vector_layers.CircleMarker at 0x7efdfdbc0048>,\n",
       " <folium.vector_layers.CircleMarker at 0x7efdfdbc00b8>,\n",
       " <folium.vector_layers.CircleMarker at 0x7efdfdbc00f0>,\n",
       " <folium.vector_layers.CircleMarker at 0x7efdfdbc0128>,\n",
       " <folium.vector_layers.CircleMarker at 0x7efdfdbc0160>,\n",
       " <folium.vector_layers.CircleMarker at 0x7efdfdbc0198>,\n",
       " <folium.vector_layers.CircleMarker at 0x7efdfdbc01d0>,\n",
       " <folium.vector_layers.CircleMarker at 0x7efdfdbc0208>,\n",
       " <folium.vector_layers.CircleMarker at 0x7efdfdbc0240>,\n",
       " <folium.vector_layers.CircleMarker at 0x7efdfdbc0278>,\n",
       " <folium.vector_layers.CircleMarker at 0x7efdfdbc02b0>,\n",
       " <folium.vector_layers.CircleMarker at 0x7efdfdbc02e8>,\n",
       " <folium.vector_layers.CircleMarker at 0x7efdfdbc0320>,\n",
       " <folium.vector_layers.CircleMarker at 0x7efdfdbc0358>,\n",
       " <folium.vector_layers.CircleMarker at 0x7efdfdbc0390>,\n",
       " <folium.vector_layers.CircleMarker at 0x7efdfdbc03c8>,\n",
       " <folium.vector_layers.CircleMarker at 0x7efdfdbc0400>,\n",
       " <folium.vector_layers.CircleMarker at 0x7efdfdbc0438>,\n",
       " <folium.vector_layers.CircleMarker at 0x7efdfdbc0470>,\n",
       " <folium.vector_layers.CircleMarker at 0x7efdfdbc04a8>,\n",
       " <folium.vector_layers.CircleMarker at 0x7efdfdbc04e0>,\n",
       " <folium.vector_layers.CircleMarker at 0x7efdfdbc0518>,\n",
       " <folium.vector_layers.CircleMarker at 0x7efdfdbc0550>,\n",
       " <folium.vector_layers.CircleMarker at 0x7efdfdbc0588>,\n",
       " <folium.vector_layers.CircleMarker at 0x7efdfdbc05c0>,\n",
       " <folium.vector_layers.CircleMarker at 0x7efdfdbc05f8>,\n",
       " <folium.vector_layers.CircleMarker at 0x7efdfdbc0630>,\n",
       " <folium.vector_layers.CircleMarker at 0x7efdfdbc0668>,\n",
       " <folium.vector_layers.CircleMarker at 0x7efdfdbc06a0>,\n",
       " <folium.vector_layers.CircleMarker at 0x7efdfdbc06d8>,\n",
       " <folium.vector_layers.CircleMarker at 0x7efdfdbc0710>,\n",
       " <folium.vector_layers.CircleMarker at 0x7efdfdbc0748>,\n",
       " <folium.vector_layers.CircleMarker at 0x7efdfdbc0780>,\n",
       " <folium.vector_layers.CircleMarker at 0x7efdfdbc07b8>,\n",
       " <folium.vector_layers.CircleMarker at 0x7efdfdbc07f0>,\n",
       " <folium.vector_layers.CircleMarker at 0x7efdfdbc0828>,\n",
       " <folium.vector_layers.CircleMarker at 0x7efdfdbc0860>,\n",
       " <folium.vector_layers.CircleMarker at 0x7efdfdbc0898>,\n",
       " <folium.vector_layers.CircleMarker at 0x7efdfdbc08d0>,\n",
       " <folium.vector_layers.CircleMarker at 0x7efdfdbc0908>,\n",
       " <folium.vector_layers.CircleMarker at 0x7efdfdbc0940>,\n",
       " <folium.vector_layers.CircleMarker at 0x7efdfdbc0978>,\n",
       " <folium.vector_layers.CircleMarker at 0x7efdfdbc09b0>,\n",
       " <folium.vector_layers.CircleMarker at 0x7efdfdbc09e8>,\n",
       " <folium.vector_layers.CircleMarker at 0x7efdfdbc0a20>,\n",
       " <folium.vector_layers.CircleMarker at 0x7efdfdbc0a58>,\n",
       " <folium.vector_layers.CircleMarker at 0x7efdfdbc0a90>,\n",
       " <folium.vector_layers.CircleMarker at 0x7efdfdbc0ac8>,\n",
       " <folium.vector_layers.CircleMarker at 0x7efdfdbc0b00>,\n",
       " <folium.vector_layers.CircleMarker at 0x7efdfdbc0b38>,\n",
       " <folium.vector_layers.CircleMarker at 0x7efdfdbc0b70>,\n",
       " <folium.vector_layers.CircleMarker at 0x7efdfdbc0ba8>,\n",
       " <folium.vector_layers.CircleMarker at 0x7efdfdbc0be0>,\n",
       " <folium.vector_layers.CircleMarker at 0x7efdfdbc0c18>,\n",
       " <folium.vector_layers.CircleMarker at 0x7efdfdbc0c50>,\n",
       " <folium.vector_layers.CircleMarker at 0x7efdfdbc0c88>,\n",
       " <folium.vector_layers.CircleMarker at 0x7efdfdbc0cc0>,\n",
       " <folium.vector_layers.CircleMarker at 0x7efdfdbc0cf8>,\n",
       " <folium.vector_layers.CircleMarker at 0x7efdfdbc0d30>,\n",
       " <folium.vector_layers.CircleMarker at 0x7efdfdbc0d68>,\n",
       " <folium.vector_layers.CircleMarker at 0x7efdfdbc0da0>,\n",
       " <folium.vector_layers.CircleMarker at 0x7efdfdbc0dd8>,\n",
       " <folium.vector_layers.CircleMarker at 0x7efdfdbc0e10>,\n",
       " <folium.vector_layers.CircleMarker at 0x7efdfdbc0e48>,\n",
       " <folium.vector_layers.CircleMarker at 0x7efdfdbc0e80>,\n",
       " <folium.vector_layers.CircleMarker at 0x7efdfdbc0eb8>,\n",
       " <folium.vector_layers.CircleMarker at 0x7efdfdbc0ef0>,\n",
       " <folium.vector_layers.CircleMarker at 0x7efdfdbc0f28>,\n",
       " <folium.vector_layers.CircleMarker at 0x7efdfdbc0f60>,\n",
       " <folium.vector_layers.CircleMarker at 0x7efdfdbc0f98>,\n",
       " <folium.vector_layers.CircleMarker at 0x7efdfdbc0fd0>,\n",
       " <folium.vector_layers.CircleMarker at 0x7efdfdbc0080>,\n",
       " <folium.vector_layers.CircleMarker at 0x7efdfdbcd080>,\n",
       " <folium.vector_layers.CircleMarker at 0x7efdfdbcd0b8>,\n",
       " <folium.vector_layers.CircleMarker at 0x7efdfdbcd0f0>,\n",
       " <folium.vector_layers.CircleMarker at 0x7efdfdbcd128>,\n",
       " <folium.vector_layers.CircleMarker at 0x7efdfdbcd160>,\n",
       " <folium.vector_layers.CircleMarker at 0x7efdfdbcd198>,\n",
       " <folium.vector_layers.CircleMarker at 0x7efdfdbcd1d0>,\n",
       " <folium.vector_layers.CircleMarker at 0x7efdfdbcd208>,\n",
       " <folium.vector_layers.CircleMarker at 0x7efdfdbcd240>,\n",
       " <folium.vector_layers.CircleMarker at 0x7efdfdbcd278>,\n",
       " <folium.vector_layers.CircleMarker at 0x7efdfdbcd2b0>,\n",
       " <folium.vector_layers.CircleMarker at 0x7efdfdbcd2e8>,\n",
       " <folium.vector_layers.CircleMarker at 0x7efdfdbcd320>,\n",
       " <folium.vector_layers.CircleMarker at 0x7efdfdbcd358>,\n",
       " <folium.vector_layers.CircleMarker at 0x7efdfdbcd390>,\n",
       " <folium.vector_layers.CircleMarker at 0x7efdfdbcd3c8>,\n",
       " <folium.vector_layers.CircleMarker at 0x7efdfdbcd400>,\n",
       " <folium.vector_layers.CircleMarker at 0x7efdfdbcd438>,\n",
       " <folium.vector_layers.CircleMarker at 0x7efdfdbcd470>,\n",
       " <folium.vector_layers.CircleMarker at 0x7efdfdbcd4a8>,\n",
       " <folium.vector_layers.CircleMarker at 0x7efdfdbcd4e0>,\n",
       " <folium.vector_layers.CircleMarker at 0x7efdfdbcd518>,\n",
       " <folium.vector_layers.CircleMarker at 0x7efdfdbcd550>,\n",
       " <folium.vector_layers.CircleMarker at 0x7efdfdbcd588>,\n",
       " <folium.vector_layers.CircleMarker at 0x7efdfdbcd5c0>,\n",
       " <folium.vector_layers.CircleMarker at 0x7efdfdbcd5f8>,\n",
       " <folium.vector_layers.CircleMarker at 0x7efdfdbcd630>,\n",
       " <folium.vector_layers.CircleMarker at 0x7efdfdbcd668>,\n",
       " <folium.vector_layers.CircleMarker at 0x7efdfdbcd6a0>,\n",
       " <folium.vector_layers.CircleMarker at 0x7efdfdbcd6d8>,\n",
       " <folium.vector_layers.CircleMarker at 0x7efdfdbcd710>,\n",
       " <folium.vector_layers.CircleMarker at 0x7efdfdbcd748>,\n",
       " <folium.vector_layers.CircleMarker at 0x7efdfdbcd780>,\n",
       " <folium.vector_layers.CircleMarker at 0x7efdfdbcd7b8>,\n",
       " <folium.vector_layers.CircleMarker at 0x7efdfdbcd7f0>,\n",
       " <folium.vector_layers.CircleMarker at 0x7efdfdbcd828>,\n",
       " <folium.vector_layers.CircleMarker at 0x7efdfdbcd860>,\n",
       " <folium.vector_layers.CircleMarker at 0x7efdfdbcd898>,\n",
       " <folium.vector_layers.CircleMarker at 0x7efdfdbcd8d0>,\n",
       " <folium.vector_layers.CircleMarker at 0x7efdfdbcd908>,\n",
       " <folium.vector_layers.CircleMarker at 0x7efdfdbcd940>,\n",
       " <folium.vector_layers.CircleMarker at 0x7efdfdbcd978>,\n",
       " <folium.vector_layers.CircleMarker at 0x7efdfdbcd9b0>,\n",
       " <folium.vector_layers.CircleMarker at 0x7efdfdbcd9e8>,\n",
       " <folium.vector_layers.CircleMarker at 0x7efdfdbcda20>,\n",
       " <folium.vector_layers.CircleMarker at 0x7efdfdbcda58>,\n",
       " <folium.vector_layers.CircleMarker at 0x7efdfdbcda90>,\n",
       " <folium.vector_layers.CircleMarker at 0x7efdfdbcdac8>,\n",
       " <folium.vector_layers.CircleMarker at 0x7efdfdbcdb00>,\n",
       " <folium.vector_layers.CircleMarker at 0x7efdfdbcdb38>,\n",
       " <folium.vector_layers.CircleMarker at 0x7efdfdbcdb70>,\n",
       " <folium.vector_layers.CircleMarker at 0x7efdfdbcdba8>,\n",
       " <folium.vector_layers.CircleMarker at 0x7efdfdbcdbe0>,\n",
       " <folium.vector_layers.CircleMarker at 0x7efdfdbcdc18>,\n",
       " <folium.vector_layers.CircleMarker at 0x7efdfdbcdc50>,\n",
       " <folium.vector_layers.CircleMarker at 0x7efdfdbcdc88>,\n",
       " <folium.vector_layers.CircleMarker at 0x7efdfdbcdcc0>,\n",
       " <folium.vector_layers.CircleMarker at 0x7efdfdbcdcf8>,\n",
       " <folium.vector_layers.CircleMarker at 0x7efdfdbcdd30>,\n",
       " <folium.vector_layers.CircleMarker at 0x7efdfdbcdd68>,\n",
       " <folium.vector_layers.CircleMarker at 0x7efdfdbcdda0>,\n",
       " <folium.vector_layers.CircleMarker at 0x7efdfdbcddd8>,\n",
       " <folium.vector_layers.CircleMarker at 0x7efdfdbcde10>,\n",
       " <folium.vector_layers.CircleMarker at 0x7efdfdbcde48>,\n",
       " <folium.vector_layers.CircleMarker at 0x7efdfdbcde80>,\n",
       " <folium.vector_layers.CircleMarker at 0x7efdfdbcdeb8>,\n",
       " <folium.vector_layers.CircleMarker at 0x7efdfdbcdef0>,\n",
       " <folium.vector_layers.CircleMarker at 0x7efdfdbcdf28>,\n",
       " <folium.vector_layers.CircleMarker at 0x7efdfdbcdf60>,\n",
       " <folium.vector_layers.CircleMarker at 0x7efdfdbcdf98>,\n",
       " <folium.vector_layers.CircleMarker at 0x7efdfdbcdfd0>,\n",
       " <folium.vector_layers.CircleMarker at 0x7efdfdbcd048>,\n",
       " <folium.vector_layers.CircleMarker at 0x7efdfdbdc080>,\n",
       " <folium.vector_layers.CircleMarker at 0x7efdfdbdc0b8>,\n",
       " <folium.vector_layers.CircleMarker at 0x7efdfdbdc0f0>,\n",
       " <folium.vector_layers.CircleMarker at 0x7efdfdbdc128>,\n",
       " <folium.vector_layers.CircleMarker at 0x7efdfdbdc160>,\n",
       " <folium.vector_layers.CircleMarker at 0x7efdfdbdc198>,\n",
       " <folium.vector_layers.CircleMarker at 0x7efdfdbdc1d0>,\n",
       " <folium.vector_layers.CircleMarker at 0x7efdfdbdc208>,\n",
       " <folium.vector_layers.CircleMarker at 0x7efdfdbdc240>,\n",
       " <folium.vector_layers.CircleMarker at 0x7efdfdbdc278>,\n",
       " <folium.vector_layers.CircleMarker at 0x7efdfdbdc2b0>,\n",
       " <folium.vector_layers.CircleMarker at 0x7efdfdbdc2e8>,\n",
       " <folium.vector_layers.CircleMarker at 0x7efdfdbdc320>,\n",
       " <folium.vector_layers.CircleMarker at 0x7efdfdbdc358>,\n",
       " <folium.vector_layers.CircleMarker at 0x7efdfdbdc390>,\n",
       " <folium.vector_layers.CircleMarker at 0x7efdfdbdc3c8>,\n",
       " <folium.vector_layers.CircleMarker at 0x7efdfdbdc400>,\n",
       " <folium.vector_layers.CircleMarker at 0x7efdfdbdc438>,\n",
       " <folium.vector_layers.CircleMarker at 0x7efdfdbdc470>,\n",
       " <folium.vector_layers.CircleMarker at 0x7efdfdbdc4a8>,\n",
       " <folium.vector_layers.CircleMarker at 0x7efdfdbdc4e0>,\n",
       " <folium.vector_layers.CircleMarker at 0x7efdfdbdc518>,\n",
       " <folium.vector_layers.CircleMarker at 0x7efdfdbdc550>,\n",
       " <folium.vector_layers.CircleMarker at 0x7efdfdbdc588>,\n",
       " <folium.vector_layers.CircleMarker at 0x7efdfdbdc5c0>,\n",
       " <folium.vector_layers.CircleMarker at 0x7efdfdbdc5f8>,\n",
       " <folium.vector_layers.CircleMarker at 0x7efdfdbdc630>,\n",
       " <folium.vector_layers.CircleMarker at 0x7efdfdbdc668>,\n",
       " <folium.vector_layers.CircleMarker at 0x7efdfdbdc6a0>,\n",
       " <folium.vector_layers.CircleMarker at 0x7efdfdbdc6d8>,\n",
       " <folium.vector_layers.CircleMarker at 0x7efdfdbdc710>,\n",
       " <folium.vector_layers.CircleMarker at 0x7efdfdbdc748>,\n",
       " <folium.vector_layers.CircleMarker at 0x7efdfdbdc780>,\n",
       " <folium.vector_layers.CircleMarker at 0x7efdfdbdc7b8>,\n",
       " <folium.vector_layers.CircleMarker at 0x7efdfdbdc7f0>,\n",
       " <folium.vector_layers.CircleMarker at 0x7efdfdbdc828>,\n",
       " <folium.vector_layers.CircleMarker at 0x7efdfdbdc860>,\n",
       " <folium.vector_layers.CircleMarker at 0x7efdfdbdc898>,\n",
       " <folium.vector_layers.CircleMarker at 0x7efdfdbdc8d0>,\n",
       " <folium.vector_layers.CircleMarker at 0x7efdfdbdc908>,\n",
       " <folium.vector_layers.CircleMarker at 0x7efdfdbdc940>,\n",
       " <folium.vector_layers.CircleMarker at 0x7efdfdbdc978>,\n",
       " <folium.vector_layers.CircleMarker at 0x7efdfdbdc9b0>,\n",
       " <folium.vector_layers.CircleMarker at 0x7efdfdbdc9e8>,\n",
       " <folium.vector_layers.CircleMarker at 0x7efdfdbdca20>,\n",
       " <folium.vector_layers.CircleMarker at 0x7efdfdbdca58>,\n",
       " <folium.vector_layers.CircleMarker at 0x7efdfdbdca90>,\n",
       " <folium.vector_layers.CircleMarker at 0x7efdfdbdcac8>,\n",
       " <folium.vector_layers.CircleMarker at 0x7efdfdbdcb00>,\n",
       " <folium.vector_layers.CircleMarker at 0x7efdfdbdcb38>,\n",
       " <folium.vector_layers.CircleMarker at 0x7efdfdbdcb70>,\n",
       " <folium.vector_layers.CircleMarker at 0x7efdfdbdcba8>,\n",
       " <folium.vector_layers.CircleMarker at 0x7efdfdbdcbe0>,\n",
       " <folium.vector_layers.CircleMarker at 0x7efdfdbdcc18>,\n",
       " <folium.vector_layers.CircleMarker at 0x7efdfdbdcc50>,\n",
       " <folium.vector_layers.CircleMarker at 0x7efdfdbdcc88>,\n",
       " <folium.vector_layers.CircleMarker at 0x7efdfdbdccc0>,\n",
       " <folium.vector_layers.CircleMarker at 0x7efdfdbdccf8>,\n",
       " <folium.vector_layers.CircleMarker at 0x7efdfdbdcd30>,\n",
       " <folium.vector_layers.CircleMarker at 0x7efdfdbdcd68>,\n",
       " <folium.vector_layers.CircleMarker at 0x7efdfdbdcda0>,\n",
       " <folium.vector_layers.CircleMarker at 0x7efdfdbdcdd8>,\n",
       " <folium.vector_layers.CircleMarker at 0x7efdfdbdce10>,\n",
       " <folium.vector_layers.CircleMarker at 0x7efdfdbdce48>,\n",
       " <folium.vector_layers.CircleMarker at 0x7efdfdbdce80>,\n",
       " <folium.vector_layers.CircleMarker at 0x7efdfdbdceb8>,\n",
       " <folium.vector_layers.CircleMarker at 0x7efdfdbdcef0>,\n",
       " <folium.vector_layers.CircleMarker at 0x7efdfdbdcf28>,\n",
       " <folium.vector_layers.CircleMarker at 0x7efdfdbdcf60>,\n",
       " <folium.vector_layers.CircleMarker at 0x7efdfdbdcf98>,\n",
       " <folium.vector_layers.CircleMarker at 0x7efdfdbdcfd0>,\n",
       " <folium.vector_layers.CircleMarker at 0x7efdfdbdc048>,\n",
       " <folium.vector_layers.CircleMarker at 0x7efdfdbe9080>,\n",
       " <folium.vector_layers.CircleMarker at 0x7efdfdbe90b8>,\n",
       " <folium.vector_layers.CircleMarker at 0x7efdfdbe90f0>,\n",
       " <folium.vector_layers.CircleMarker at 0x7efdfdbe9128>,\n",
       " <folium.vector_layers.CircleMarker at 0x7efdfdbe9160>,\n",
       " <folium.vector_layers.CircleMarker at 0x7efdfdbe9198>,\n",
       " <folium.vector_layers.CircleMarker at 0x7efdfdbe91d0>,\n",
       " <folium.vector_layers.CircleMarker at 0x7efdfdbe9208>,\n",
       " <folium.vector_layers.CircleMarker at 0x7efdfdbe9240>,\n",
       " <folium.vector_layers.CircleMarker at 0x7efdfdbe9278>,\n",
       " <folium.vector_layers.CircleMarker at 0x7efdfdbe92b0>,\n",
       " <folium.vector_layers.CircleMarker at 0x7efdfdbe92e8>,\n",
       " <folium.vector_layers.CircleMarker at 0x7efdfdbe9320>,\n",
       " <folium.vector_layers.CircleMarker at 0x7efdfdbe9358>,\n",
       " <folium.vector_layers.CircleMarker at 0x7efdfdbe9390>,\n",
       " <folium.vector_layers.CircleMarker at 0x7efdfdbe93c8>,\n",
       " <folium.vector_layers.CircleMarker at 0x7efdfdbe9400>,\n",
       " <folium.vector_layers.CircleMarker at 0x7efdfdbe9438>,\n",
       " <folium.vector_layers.CircleMarker at 0x7efdfdbe9470>,\n",
       " <folium.vector_layers.CircleMarker at 0x7efdfdbe94a8>,\n",
       " <folium.vector_layers.CircleMarker at 0x7efdfdbe94e0>,\n",
       " <folium.vector_layers.CircleMarker at 0x7efdfdbe9518>,\n",
       " <folium.vector_layers.CircleMarker at 0x7efdfdbe9550>,\n",
       " <folium.vector_layers.CircleMarker at 0x7efdfdbe9588>,\n",
       " <folium.vector_layers.CircleMarker at 0x7efdfdbe95c0>,\n",
       " <folium.vector_layers.CircleMarker at 0x7efdfdbe95f8>,\n",
       " <folium.vector_layers.CircleMarker at 0x7efdfdbe9630>,\n",
       " <folium.vector_layers.CircleMarker at 0x7efdfdbe9668>,\n",
       " <folium.vector_layers.CircleMarker at 0x7efdfdbe96a0>,\n",
       " <folium.vector_layers.CircleMarker at 0x7efdfdbe96d8>,\n",
       " <folium.vector_layers.CircleMarker at 0x7efdfdbe9710>,\n",
       " <folium.vector_layers.CircleMarker at 0x7efdfdbe9748>,\n",
       " <folium.vector_layers.CircleMarker at 0x7efdfdbe9780>,\n",
       " <folium.vector_layers.CircleMarker at 0x7efdfdbe97b8>,\n",
       " <folium.vector_layers.CircleMarker at 0x7efdfdbe97f0>,\n",
       " <folium.vector_layers.CircleMarker at 0x7efdfdbe9828>,\n",
       " <folium.vector_layers.CircleMarker at 0x7efdfdbe9860>,\n",
       " <folium.vector_layers.CircleMarker at 0x7efdfdbe9898>,\n",
       " <folium.vector_layers.CircleMarker at 0x7efdfdbe98d0>,\n",
       " <folium.vector_layers.CircleMarker at 0x7efdfdbe9908>,\n",
       " <folium.vector_layers.CircleMarker at 0x7efdfdbe9940>,\n",
       " <folium.vector_layers.CircleMarker at 0x7efdfdbe9978>,\n",
       " <folium.vector_layers.CircleMarker at 0x7efdfdbe99b0>,\n",
       " <folium.vector_layers.CircleMarker at 0x7efdfdbe99e8>,\n",
       " <folium.vector_layers.CircleMarker at 0x7efdfdbe9a20>,\n",
       " <folium.vector_layers.CircleMarker at 0x7efdfdbe9a58>,\n",
       " <folium.vector_layers.CircleMarker at 0x7efdfdbe9a90>,\n",
       " <folium.vector_layers.CircleMarker at 0x7efdfdbe9ac8>,\n",
       " <folium.vector_layers.CircleMarker at 0x7efdfdbe9b00>,\n",
       " <folium.vector_layers.CircleMarker at 0x7efdfdbe9b38>,\n",
       " <folium.vector_layers.CircleMarker at 0x7efdfdbe9b70>,\n",
       " <folium.vector_layers.CircleMarker at 0x7efdfdbe9ba8>,\n",
       " <folium.vector_layers.CircleMarker at 0x7efdfdbe9be0>,\n",
       " <folium.vector_layers.CircleMarker at 0x7efdfdbe9c18>,\n",
       " <folium.vector_layers.CircleMarker at 0x7efdfdbe9c50>,\n",
       " <folium.vector_layers.CircleMarker at 0x7efdfdbe9c88>,\n",
       " <folium.vector_layers.CircleMarker at 0x7efdfdbe9cc0>,\n",
       " <folium.vector_layers.CircleMarker at 0x7efdfdbe9cf8>,\n",
       " <folium.vector_layers.CircleMarker at 0x7efdfdbe9d30>,\n",
       " <folium.vector_layers.CircleMarker at 0x7efdfdbe9d68>,\n",
       " <folium.vector_layers.CircleMarker at 0x7efdfdbe9da0>,\n",
       " <folium.vector_layers.CircleMarker at 0x7efdfdbe9dd8>,\n",
       " <folium.vector_layers.CircleMarker at 0x7efdfdbe9e10>,\n",
       " <folium.vector_layers.CircleMarker at 0x7efdfdbe9e48>,\n",
       " <folium.vector_layers.CircleMarker at 0x7efdfdbe9e80>,\n",
       " <folium.vector_layers.CircleMarker at 0x7efdfdbe9eb8>,\n",
       " <folium.vector_layers.CircleMarker at 0x7efdfdbe9ef0>,\n",
       " <folium.vector_layers.CircleMarker at 0x7efdfdbe9f28>,\n",
       " <folium.vector_layers.CircleMarker at 0x7efdfdbe9f60>,\n",
       " <folium.vector_layers.CircleMarker at 0x7efdfdbe9f98>,\n",
       " <folium.vector_layers.CircleMarker at 0x7efdfdbe9fd0>,\n",
       " <folium.vector_layers.CircleMarker at 0x7efdfdbe9048>,\n",
       " <folium.vector_layers.CircleMarker at 0x7efdfdb76048>,\n",
       " <folium.vector_layers.CircleMarker at 0x7efdfdb760b8>,\n",
       " <folium.vector_layers.CircleMarker at 0x7efdfdb760f0>,\n",
       " <folium.vector_layers.CircleMarker at 0x7efdfdb76128>,\n",
       " <folium.vector_layers.CircleMarker at 0x7efdfdb76160>,\n",
       " <folium.vector_layers.CircleMarker at 0x7efdfdb76198>,\n",
       " <folium.vector_layers.CircleMarker at 0x7efdfdb761d0>,\n",
       " <folium.vector_layers.CircleMarker at 0x7efdfdb76208>,\n",
       " <folium.vector_layers.CircleMarker at 0x7efdfdb76240>,\n",
       " <folium.vector_layers.CircleMarker at 0x7efdfdb76278>,\n",
       " <folium.vector_layers.CircleMarker at 0x7efdfdb762b0>,\n",
       " <folium.vector_layers.CircleMarker at 0x7efdfdb762e8>,\n",
       " <folium.vector_layers.CircleMarker at 0x7efdfdb76320>,\n",
       " <folium.vector_layers.CircleMarker at 0x7efdfdb76358>,\n",
       " <folium.vector_layers.CircleMarker at 0x7efdfdb76390>,\n",
       " <folium.vector_layers.CircleMarker at 0x7efdfdb763c8>,\n",
       " <folium.vector_layers.CircleMarker at 0x7efdfdb76400>,\n",
       " <folium.vector_layers.CircleMarker at 0x7efdfdb76438>,\n",
       " <folium.vector_layers.CircleMarker at 0x7efdfdb76470>,\n",
       " <folium.vector_layers.CircleMarker at 0x7efdfdb764a8>,\n",
       " <folium.vector_layers.CircleMarker at 0x7efdfdb764e0>,\n",
       " <folium.vector_layers.CircleMarker at 0x7efdfdb76518>,\n",
       " <folium.vector_layers.CircleMarker at 0x7efdfdb76550>,\n",
       " <folium.vector_layers.CircleMarker at 0x7efdfdb76588>,\n",
       " <folium.vector_layers.CircleMarker at 0x7efdfdb765c0>,\n",
       " <folium.vector_layers.CircleMarker at 0x7efdfdb765f8>,\n",
       " <folium.vector_layers.CircleMarker at 0x7efdfdb76630>,\n",
       " <folium.vector_layers.CircleMarker at 0x7efdfdb76668>,\n",
       " <folium.vector_layers.CircleMarker at 0x7efdfdb766a0>,\n",
       " <folium.vector_layers.CircleMarker at 0x7efdfdb766d8>,\n",
       " <folium.vector_layers.CircleMarker at 0x7efdfdb76710>,\n",
       " <folium.vector_layers.CircleMarker at 0x7efdfdb76748>,\n",
       " <folium.vector_layers.CircleMarker at 0x7efdfdb76780>,\n",
       " <folium.vector_layers.CircleMarker at 0x7efdfdb767b8>,\n",
       " <folium.vector_layers.CircleMarker at 0x7efdfdb767f0>,\n",
       " <folium.vector_layers.CircleMarker at 0x7efdfdb76828>,\n",
       " <folium.vector_layers.CircleMarker at 0x7efdfdb76860>,\n",
       " <folium.vector_layers.CircleMarker at 0x7efdfdb76898>,\n",
       " <folium.vector_layers.CircleMarker at 0x7efdfdb768d0>,\n",
       " <folium.vector_layers.CircleMarker at 0x7efdfdb76908>,\n",
       " <folium.vector_layers.CircleMarker at 0x7efdfdb76940>,\n",
       " <folium.vector_layers.CircleMarker at 0x7efdfdb76978>,\n",
       " <folium.vector_layers.CircleMarker at 0x7efdfdb769b0>,\n",
       " <folium.vector_layers.CircleMarker at 0x7efdfdb769e8>,\n",
       " <folium.vector_layers.CircleMarker at 0x7efdfdb76a20>,\n",
       " <folium.vector_layers.CircleMarker at 0x7efdfdb76a58>,\n",
       " <folium.vector_layers.CircleMarker at 0x7efdfdb76a90>,\n",
       " <folium.vector_layers.CircleMarker at 0x7efdfdb76ac8>,\n",
       " <folium.vector_layers.CircleMarker at 0x7efdfdb76b00>,\n",
       " <folium.vector_layers.CircleMarker at 0x7efdfdb76b38>,\n",
       " <folium.vector_layers.CircleMarker at 0x7efdfdb76b70>,\n",
       " <folium.vector_layers.CircleMarker at 0x7efdfdb76ba8>,\n",
       " <folium.vector_layers.CircleMarker at 0x7efdfdb76be0>,\n",
       " <folium.vector_layers.CircleMarker at 0x7efdfdb76c18>,\n",
       " <folium.vector_layers.CircleMarker at 0x7efdfdb76c50>,\n",
       " <folium.vector_layers.CircleMarker at 0x7efdfdb76c88>,\n",
       " <folium.vector_layers.CircleMarker at 0x7efdfdb76cc0>,\n",
       " <folium.vector_layers.CircleMarker at 0x7efdfdb76cf8>,\n",
       " <folium.vector_layers.CircleMarker at 0x7efdfdb76d30>,\n",
       " <folium.vector_layers.CircleMarker at 0x7efdfdb76d68>,\n",
       " <folium.vector_layers.CircleMarker at 0x7efdfdb76da0>,\n",
       " <folium.vector_layers.CircleMarker at 0x7efdfdb76dd8>,\n",
       " <folium.vector_layers.CircleMarker at 0x7efdfdb76e10>,\n",
       " <folium.vector_layers.CircleMarker at 0x7efdfdb76e48>,\n",
       " <folium.vector_layers.CircleMarker at 0x7efdfdb76e80>,\n",
       " <folium.vector_layers.CircleMarker at 0x7efdfdb76eb8>,\n",
       " <folium.vector_layers.CircleMarker at 0x7efdfdb76ef0>,\n",
       " <folium.vector_layers.CircleMarker at 0x7efdfdb76f28>,\n",
       " <folium.vector_layers.CircleMarker at 0x7efdfdb76f60>,\n",
       " <folium.vector_layers.CircleMarker at 0x7efdfdb76f98>,\n",
       " <folium.vector_layers.CircleMarker at 0x7efdfdb76fd0>,\n",
       " <folium.vector_layers.CircleMarker at 0x7efdfdb76080>,\n",
       " <folium.vector_layers.CircleMarker at 0x7efdfdb84080>,\n",
       " <folium.vector_layers.CircleMarker at 0x7efdfdb840b8>,\n",
       " <folium.vector_layers.CircleMarker at 0x7efdfdb840f0>,\n",
       " <folium.vector_layers.CircleMarker at 0x7efdfdb84128>,\n",
       " <folium.vector_layers.CircleMarker at 0x7efdfdb84160>,\n",
       " <folium.vector_layers.CircleMarker at 0x7efdfdb84198>,\n",
       " <folium.vector_layers.CircleMarker at 0x7efdfdb841d0>,\n",
       " <folium.vector_layers.CircleMarker at 0x7efdfdb84208>,\n",
       " <folium.vector_layers.CircleMarker at 0x7efdfdb84240>,\n",
       " <folium.vector_layers.CircleMarker at 0x7efdfdb84278>,\n",
       " <folium.vector_layers.CircleMarker at 0x7efdfdb842b0>,\n",
       " <folium.vector_layers.CircleMarker at 0x7efdfdb842e8>,\n",
       " <folium.vector_layers.CircleMarker at 0x7efdfdb84320>,\n",
       " <folium.vector_layers.CircleMarker at 0x7efdfdb84358>,\n",
       " <folium.vector_layers.CircleMarker at 0x7efdfdb84390>,\n",
       " <folium.vector_layers.CircleMarker at 0x7efdfdb843c8>,\n",
       " <folium.vector_layers.CircleMarker at 0x7efdfdb84400>,\n",
       " <folium.vector_layers.CircleMarker at 0x7efdfdb84438>,\n",
       " <folium.vector_layers.CircleMarker at 0x7efdfdb84470>,\n",
       " <folium.vector_layers.CircleMarker at 0x7efdfdb844a8>,\n",
       " <folium.vector_layers.CircleMarker at 0x7efdfdb844e0>,\n",
       " <folium.vector_layers.CircleMarker at 0x7efdfdb84518>,\n",
       " <folium.vector_layers.CircleMarker at 0x7efdfdb84550>,\n",
       " <folium.vector_layers.CircleMarker at 0x7efdfdb84588>,\n",
       " <folium.vector_layers.CircleMarker at 0x7efdfdb845c0>,\n",
       " <folium.vector_layers.CircleMarker at 0x7efdfdb845f8>,\n",
       " <folium.vector_layers.CircleMarker at 0x7efdfdb84630>,\n",
       " <folium.vector_layers.CircleMarker at 0x7efdfdb84668>,\n",
       " <folium.vector_layers.CircleMarker at 0x7efdfdb846a0>,\n",
       " <folium.vector_layers.CircleMarker at 0x7efdfdb846d8>,\n",
       " <folium.vector_layers.CircleMarker at 0x7efdfdb84710>,\n",
       " <folium.vector_layers.CircleMarker at 0x7efdfdb84748>,\n",
       " <folium.vector_layers.CircleMarker at 0x7efdfdb84780>,\n",
       " <folium.vector_layers.CircleMarker at 0x7efdfdb847b8>]"
      ]
     },
     "execution_count": 28,
     "metadata": {},
     "output_type": "execute_result"
    }
   ],
   "source": [
    "map_with_markers"
   ]
  },
  {
   "cell_type": "markdown",
   "metadata": {},
   "source": [
    "### Using Nearest Neighbors"
   ]
  },
  {
   "cell_type": "markdown",
   "metadata": {},
   "source": [
    "Ok, let's write a function that given a latitude and longitude will predict the distance for us.  We'll do this by first finding the nearest trips given a latitude and longitude. "
   ]
  },
  {
   "cell_type": "markdown",
   "metadata": {},
   "source": [
    "Here we once again apply the nearest neighbors formula. As a first step, write a function named `distance_location` that calculates the distance in pickup location between two trips."
   ]
  },
  {
   "cell_type": "code",
   "execution_count": 29,
   "metadata": {},
   "outputs": [],
   "source": [
    "import math\n",
    "\n",
    "def distance_location(selected_trip, neighbor_trip):\n",
    "        y = (selected_trip['pickup_latitude']- neighbor_trip['pickup_latitude'])**2\n",
    "        x = (selected_trip['pickup_longitude'] - neighbor_trip['pickup_longitude'])**2\n",
    "        distance = math.sqrt(x+y)\n",
    "        return distance"
   ]
  },
  {
   "cell_type": "code",
   "execution_count": 30,
   "metadata": {},
   "outputs": [
    {
     "data": {
      "text/plain": [
       "0.235"
      ]
     },
     "execution_count": 30,
     "metadata": {},
     "output_type": "execute_result"
    }
   ],
   "source": [
    "first_trip = {'pickup_latitude': 40.64499, 'pickup_longitude': -73.78115, 'trip_distance': 18.38}\n",
    "second_trip = {'pickup_latitude': 40.766931, 'pickup_longitude': -73.982098, 'trip_distance': 1.3}\n",
    "distance_first_and_second = distance_location(first_trip, second_trip)\n",
    "\n",
    "distance_first_and_second and round(distance_first_and_second, 3) # 0.235"
   ]
  },
  {
   "cell_type": "markdown",
   "metadata": {},
   "source": [
    "Ok, next write a function called `distance_between_neighbors` that adds a new key-value pair, called `distance_from_selected`, that calculates the distance of the `neighbor_trip` from the `selected_trip`."
   ]
  },
  {
   "cell_type": "code",
   "execution_count": 31,
   "metadata": {},
   "outputs": [],
   "source": [
    "def distance_between_neighbors(selected_trip, neighbor_trip):\n",
    "    neighbor_with_distance = neighbor_trip.copy()\n",
    "    neighbor_with_distance['distance_from_selected'] = distance_location(selected_trip, neighbor_trip)\n",
    "    return neighbor_with_distance"
   ]
  },
  {
   "cell_type": "code",
   "execution_count": 32,
   "metadata": {},
   "outputs": [
    {
     "data": {
      "text/plain": [
       "{'pickup_latitude': 40.766931,\n",
       " 'pickup_longitude': -73.982098,\n",
       " 'trip_distance': 1.3,\n",
       " 'distance_from_selected': 0.23505256047318146}"
      ]
     },
     "execution_count": 32,
     "metadata": {},
     "output_type": "execute_result"
    }
   ],
   "source": [
    "distance_between_neighbors(first_trip, second_trip)\n",
    "\n",
    "# {'distance_from_selected': 0.23505256047318146,\n",
    "#  'pickup_latitude': 40.766931,\n",
    "#  'pickup_longitude': -73.982098,\n",
    "#  'trip_distance': 1.3}"
   ]
  },
  {
   "cell_type": "markdown",
   "metadata": {},
   "source": [
    "Ok, now our `neighbor_trip` has another attribute called `distance_from_selected`, that indicates the distance from the `neighbor_trip`'s pickup location from the `selected_trip`."
   ]
  },
  {
   "cell_type": "markdown",
   "metadata": {},
   "source": [
    "> ** Understand the data:** Our dictionary now has a few attributes, two of which say distance.  Let's make sure we understand the difference. \n",
    "> * **`distance_from_selected`:** This is our calculation of the distance of the neighbor's pickup location from the selected trip.\n",
    "> * **`trip_distance`:** This is the attribute we were provided initially.  It tells us the length of the neighbor's taxi trip from pickup to drop-off.  "
   ]
  },
  {
   "cell_type": "markdown",
   "metadata": {},
   "source": [
    "Next, write a function called `distance_all` that provided a list of neighbors, returns each of those neighbors with their respective `distance_from_selected` numbers."
   ]
  },
  {
   "cell_type": "code",
   "execution_count": 33,
   "metadata": {},
   "outputs": [],
   "source": [
    "def distance_all(selected_trip, neighbors):\n",
    "    remaining_neighbors = filter(lambda neighbor: neighbor != selected_trip, neighbors)\n",
    "    return list(map(lambda neighbor: distance_between_neighbors(selected_trip, neighbor), remaining_neighbors))"
   ]
  },
  {
   "cell_type": "code",
   "execution_count": 34,
   "metadata": {},
   "outputs": [
    {
     "data": {
      "text/plain": [
       "[{'pickup_latitude': 40.766931,\n",
       "  'pickup_longitude': -73.982098,\n",
       "  'trip_distance': 1.3,\n",
       "  'distance_from_selected': 0.23505256047318146},\n",
       " {'pickup_latitude': 40.77773,\n",
       "  'pickup_longitude': -73.951902,\n",
       "  'trip_distance': 4.5,\n",
       "  'distance_from_selected': 0.2162779533470808},\n",
       " {'pickup_latitude': 40.795678,\n",
       "  'pickup_longitude': -73.971049,\n",
       "  'trip_distance': 2.4,\n",
       "  'distance_from_selected': 0.24242215976473674}]"
      ]
     },
     "execution_count": 34,
     "metadata": {},
     "output_type": "execute_result"
    }
   ],
   "source": [
    "distance_all(first_trip, cleaned_trips[0:4])"
   ]
  },
  {
   "cell_type": "markdown",
   "metadata": {},
   "source": [
    "Now write the nearest neighbors formula to calculate the distance of the `selected_trip` from all of the `cleaned_trips` in our dataset.  If no number is provided, it should return the top 3 neighbors."
   ]
  },
  {
   "cell_type": "code",
   "execution_count": 53,
   "metadata": {},
   "outputs": [],
   "source": [
    "def nearest_neighbors(selected_trip, trips, number = 3):\n",
    "    neighbor_distances = distance_all(selected_trip,trips)\n",
    "    sorted_neighbors = sorted(neighbor_distances, key=lambda neighbor: neighbor['distance_from_selected'])\n",
    "    return sorted_neighbors[:number]\n"
   ]
  },
  {
   "cell_type": "code",
   "execution_count": 54,
   "metadata": {},
   "outputs": [
    {
     "data": {
      "text/plain": [
       "[{'pickup_latitude': 40.64483,\n",
       "  'pickup_longitude': -73.781578,\n",
       "  'trip_distance': 7.78,\n",
       "  'distance_from_selected': 0.0004569288784918792},\n",
       " {'pickup_latitude': 40.644657,\n",
       "  'pickup_longitude': -73.782229,\n",
       "  'trip_distance': 12.7,\n",
       "  'distance_from_selected': 0.0011292165425673159},\n",
       " {'pickup_latitude': 40.648509,\n",
       "  'pickup_longitude': -73.783508,\n",
       "  'trip_distance': 17.3,\n",
       "  'distance_from_selected': 0.0042359798158141185}]"
      ]
     },
     "execution_count": 54,
     "metadata": {},
     "output_type": "execute_result"
    }
   ],
   "source": [
    "new_trip = {'pickup_latitude': 40.64499,\n",
    "'pickup_longitude': -73.78115,\n",
    "'trip_distance': 18.38}\n",
    "\n",
    "nearest_three_neighbors = nearest_neighbors(new_trip, cleaned_trips or [], number = 3)\n",
    "nearest_three_neighbors\n",
    "# [{'distance_from_selected': 0.0004569288784918792,\n",
    "#   'pickup_latitude': 40.64483,\n",
    "#   'pickup_longitude': -73.781578,\n",
    "#   'trip_distance': 7.78},\n",
    "#  {'distance_from_selected': 0.0011292165425673159,\n",
    "#   'pickup_latitude': 40.644657,\n",
    "#   'pickup_longitude': -73.782229,\n",
    "#   'trip_distance': 12.7},\n",
    "#  {'distance_from_selected': 0.0042359798158141185,\n",
    "#   'pickup_latitude': 40.648509,\n",
    "#   'pickup_longitude': -73.783508,\n",
    "#   'trip_distance': 17.3}]"
   ]
  },
  {
   "cell_type": "markdown",
   "metadata": {},
   "source": [
    "Ok great! Now that we can provide a new trip location, and find the distances of the three nearest trips, we can take  calculate an estimate of the trip distance for that new trip location.  \n",
    "\n",
    "We do so simply by calculating the average of it's nearest neighbors."
   ]
  },
  {
   "cell_type": "code",
   "execution_count": null,
   "metadata": {},
   "outputs": [],
   "source": [
    "import statistics\n",
    "def mean_distance(neighbors):\n",
    "    nearest_distances = list(map(lambda neighbor: neighbor['trip_distance'], neighbors))\n",
    "    return round(statistics.mean(nearest_distances), 3)\n",
    "\n",
    "nearest_three_neighbors = nearest_neighbors(new_trip, cleaned_trips or [], number = 3)\n",
    "distance_estimate_of_selected_trip = mean_distance(nearest_three_neighbors) # 12.593\n",
    "distance_estimate_of_selected_trip"
   ]
  },
  {
   "cell_type": "markdown",
   "metadata": {},
   "source": [
    "### Choosing the correct number of neighbors"
   ]
  },
  {
   "cell_type": "markdown",
   "metadata": {},
   "source": [
    "Now, as we know from the last lesson, one tricky element is to determine how many neighbors to choose, our $k$ value,  before calculating the average.  We want to choose our value of $k$ such that it properly matches actual data, and so that it applies to new data.  There are fancy formulas to ensure that we **train** our algorithm so that our formula is optimized for all data, but here let's see different $k$ values manually.  This is the gist of choosing our $k$ value:\n",
    "\n",
    "* If we choose a $k$ value too low, our formula will be too heavily influenced by a single neighbor, whereas if our $k$ value is too high, we will be choosing so many neighbors that our nearest neighbors formula will not be adjust enough according to locations.\n",
    "\n",
    "Ok, let's experiment with this."
   ]
  },
  {
   "cell_type": "markdown",
   "metadata": {},
   "source": [
    "First, let's choose a midtown location, to see what the trip distance would be.  A Google search reveals the coordinates of 51st and 7th avenue to be the following."
   ]
  },
  {
   "cell_type": "code",
   "execution_count": 59,
   "metadata": {},
   "outputs": [],
   "source": [
    "midtown_trip = dict(pickup_latitude=40.761710, pickup_longitude=-73.982760)"
   ]
  },
  {
   "cell_type": "code",
   "execution_count": 60,
   "metadata": {},
   "outputs": [
    {
     "data": {
      "text/plain": [
       "[{'pickup_latitude': 40.761372,\n",
       "  'pickup_longitude': -73.982602,\n",
       "  'trip_distance': 0.58,\n",
       "  'distance_from_selected': 0.00037310588309379025},\n",
       " {'pickup_latitude': 40.762444,\n",
       "  'pickup_longitude': -73.98244,\n",
       "  'trip_distance': 0.8,\n",
       "  'distance_from_selected': 0.00080072217404248},\n",
       " {'pickup_latitude': 40.762767,\n",
       "  'pickup_longitude': -73.982293,\n",
       "  'trip_distance': 1.4,\n",
       "  'distance_from_selected': 0.0011555682584735844},\n",
       " {'pickup_latitude': 40.762868,\n",
       "  'pickup_longitude': -73.983233,\n",
       "  'trip_distance': 8.3,\n",
       "  'distance_from_selected': 0.0012508768924205918},\n",
       " {'pickup_latitude': 40.760057,\n",
       "  'pickup_longitude': -73.983502,\n",
       "  'trip_distance': 1.26,\n",
       "  'distance_from_selected': 0.0018118976240381972},\n",
       " {'pickup_latitude': 40.760644,\n",
       "  'pickup_longitude': -73.984531,\n",
       "  'trip_distance': 0.0,\n",
       "  'distance_from_selected': 0.002067074502774709},\n",
       " {'pickup_latitude': 40.762107,\n",
       "  'pickup_longitude': -73.98479,\n",
       "  'trip_distance': 1.72,\n",
       "  'distance_from_selected': 0.0020684557041472677}]"
      ]
     },
     "execution_count": 60,
     "metadata": {},
     "output_type": "execute_result"
    }
   ],
   "source": [
    "seven_closest = nearest_neighbors(midtown_trip, cleaned_trips, number = 7)\n",
    "seven_closest\n",
    "# [{'trip_distance': 0.58,\n",
    "#   'pickup_latitude': 40.761372,\n",
    "#   'pickup_longitude': -73.982602,\n",
    "#   'distance_from_selected': 0.00037310588309379025},\n",
    "#  {'trip_distance': 0.8,\n",
    "#   'pickup_latitude': 40.762444,\n",
    "#   'pickup_longitude': -73.98244,\n",
    "#   'distance_from_selected': 0.00080072217404248},\n",
    "#  {'trip_distance': 1.4,\n",
    "#   'pickup_latitude': 40.762767,\n",
    "#   'pickup_longitude': -73.982293,\n",
    "#   'distance_from_selected': 0.0011555682584735844},\n",
    "#  {'trip_distance': 8.3,\n",
    "#   'pickup_latitude': 40.762868,\n",
    "#   'pickup_longitude': -73.983233,\n",
    "#   'distance_from_selected': 0.0012508768924205918},\n",
    "#  {'trip_distance': 1.26,\n",
    "#   'pickup_latitude': 40.760057,\n",
    "#   'pickup_longitude': -73.983502,\n",
    "#   'distance_from_selected': 0.0018118976240381972},\n",
    "#  {'trip_distance': 0.0,\n",
    "#   'pickup_latitude': 40.760644,\n",
    "#   'pickup_longitude': -73.984531,\n",
    "#   'distance_from_selected': 0.002067074502774709},\n",
    "#  {'trip_distance': 1.72,\n",
    "#   'pickup_latitude': 40.762107,\n",
    "#   'pickup_longitude': -73.98479,\n",
    "#   'distance_from_selected': 0.0020684557041472677}]"
   ]
  },
  {
   "cell_type": "markdown",
   "metadata": {},
   "source": [
    "Looking at the `distance_from_selected` it appears that our our trips are still fairly close to our selected trip.  Notice that most of the data is within a distance of .002 away, so going to the top 7 nearest neighbors didn't seem to give us neighbors too far from each other, which is a good sign.\n",
    "\n",
    "Still, it's hard to know what distance in latitude and longitude really look like, so let's map the data. "
   ]
  },
  {
   "cell_type": "code",
   "execution_count": 64,
   "metadata": {},
   "outputs": [
    {
     "data": {
      "text/html": [
       "<div style=\"width:100%;\"><div style=\"position:relative;width:100%;height:0;padding-bottom:60%;\"><iframe src=\"data:text/html;charset=utf-8;base64,PCFET0NUWVBFIGh0bWw+CjxoZWFkPiAgICAKICAgIDxtZXRhIGh0dHAtZXF1aXY9ImNvbnRlbnQtdHlwZSIgY29udGVudD0idGV4dC9odG1sOyBjaGFyc2V0PVVURi04IiAvPgogICAgCiAgICAgICAgPHNjcmlwdD4KICAgICAgICAgICAgTF9OT19UT1VDSCA9IGZhbHNlOwogICAgICAgICAgICBMX0RJU0FCTEVfM0QgPSBmYWxzZTsKICAgICAgICA8L3NjcmlwdD4KICAgIAogICAgPHNjcmlwdCBzcmM9Imh0dHBzOi8vY2RuLmpzZGVsaXZyLm5ldC9ucG0vbGVhZmxldEAxLjUuMS9kaXN0L2xlYWZsZXQuanMiPjwvc2NyaXB0PgogICAgPHNjcmlwdCBzcmM9Imh0dHBzOi8vY29kZS5qcXVlcnkuY29tL2pxdWVyeS0xLjEyLjQubWluLmpzIj48L3NjcmlwdD4KICAgIDxzY3JpcHQgc3JjPSJodHRwczovL21heGNkbi5ib290c3RyYXBjZG4uY29tL2Jvb3RzdHJhcC8zLjIuMC9qcy9ib290c3RyYXAubWluLmpzIj48L3NjcmlwdD4KICAgIDxzY3JpcHQgc3JjPSJodHRwczovL2NkbmpzLmNsb3VkZmxhcmUuY29tL2FqYXgvbGlicy9MZWFmbGV0LmF3ZXNvbWUtbWFya2Vycy8yLjAuMi9sZWFmbGV0LmF3ZXNvbWUtbWFya2Vycy5qcyI+PC9zY3JpcHQ+CiAgICA8bGluayByZWw9InN0eWxlc2hlZXQiIGhyZWY9Imh0dHBzOi8vY2RuLmpzZGVsaXZyLm5ldC9ucG0vbGVhZmxldEAxLjUuMS9kaXN0L2xlYWZsZXQuY3NzIi8+CiAgICA8bGluayByZWw9InN0eWxlc2hlZXQiIGhyZWY9Imh0dHBzOi8vbWF4Y2RuLmJvb3RzdHJhcGNkbi5jb20vYm9vdHN0cmFwLzMuMi4wL2Nzcy9ib290c3RyYXAubWluLmNzcyIvPgogICAgPGxpbmsgcmVsPSJzdHlsZXNoZWV0IiBocmVmPSJodHRwczovL21heGNkbi5ib290c3RyYXBjZG4uY29tL2Jvb3RzdHJhcC8zLjIuMC9jc3MvYm9vdHN0cmFwLXRoZW1lLm1pbi5jc3MiLz4KICAgIDxsaW5rIHJlbD0ic3R5bGVzaGVldCIgaHJlZj0iaHR0cHM6Ly9tYXhjZG4uYm9vdHN0cmFwY2RuLmNvbS9mb250LWF3ZXNvbWUvNC42LjMvY3NzL2ZvbnQtYXdlc29tZS5taW4uY3NzIi8+CiAgICA8bGluayByZWw9InN0eWxlc2hlZXQiIGhyZWY9Imh0dHBzOi8vY2RuanMuY2xvdWRmbGFyZS5jb20vYWpheC9saWJzL0xlYWZsZXQuYXdlc29tZS1tYXJrZXJzLzIuMC4yL2xlYWZsZXQuYXdlc29tZS1tYXJrZXJzLmNzcyIvPgogICAgPGxpbmsgcmVsPSJzdHlsZXNoZWV0IiBocmVmPSJodHRwczovL3Jhd2Nkbi5naXRoYWNrLmNvbS9weXRob24tdmlzdWFsaXphdGlvbi9mb2xpdW0vbWFzdGVyL2ZvbGl1bS90ZW1wbGF0ZXMvbGVhZmxldC5hd2Vzb21lLnJvdGF0ZS5jc3MiLz4KICAgIDxzdHlsZT5odG1sLCBib2R5IHt3aWR0aDogMTAwJTtoZWlnaHQ6IDEwMCU7bWFyZ2luOiAwO3BhZGRpbmc6IDA7fTwvc3R5bGU+CiAgICA8c3R5bGU+I21hcCB7cG9zaXRpb246YWJzb2x1dGU7dG9wOjA7Ym90dG9tOjA7cmlnaHQ6MDtsZWZ0OjA7fTwvc3R5bGU+CiAgICAKICAgICAgICAgICAgPG1ldGEgbmFtZT0idmlld3BvcnQiIGNvbnRlbnQ9IndpZHRoPWRldmljZS13aWR0aCwKICAgICAgICAgICAgICAgIGluaXRpYWwtc2NhbGU9MS4wLCBtYXhpbXVtLXNjYWxlPTEuMCwgdXNlci1zY2FsYWJsZT1ubyIgLz4KICAgICAgICAgICAgPHN0eWxlPgogICAgICAgICAgICAgICAgI21hcF9iYmIwNWFhNWMwNDU0YWIxOTEzZjc1MmQ1NmM4MjczNiB7CiAgICAgICAgICAgICAgICAgICAgcG9zaXRpb246IHJlbGF0aXZlOwogICAgICAgICAgICAgICAgICAgIHdpZHRoOiAxMDAuMCU7CiAgICAgICAgICAgICAgICAgICAgaGVpZ2h0OiAxMDAuMCU7CiAgICAgICAgICAgICAgICAgICAgbGVmdDogMC4wJTsKICAgICAgICAgICAgICAgICAgICB0b3A6IDAuMCU7CiAgICAgICAgICAgICAgICB9CiAgICAgICAgICAgIDwvc3R5bGU+CiAgICAgICAgCjwvaGVhZD4KPGJvZHk+ICAgIAogICAgCiAgICAgICAgICAgIDxkaXYgY2xhc3M9ImZvbGl1bS1tYXAiIGlkPSJtYXBfYmJiMDVhYTVjMDQ1NGFiMTkxM2Y3NTJkNTZjODI3MzYiID48L2Rpdj4KICAgICAgICAKPC9ib2R5Pgo8c2NyaXB0PiAgICAKICAgIAogICAgICAgICAgICB2YXIgbWFwX2JiYjA1YWE1YzA0NTRhYjE5MTNmNzUyZDU2YzgyNzM2ID0gTC5tYXAoCiAgICAgICAgICAgICAgICAibWFwX2JiYjA1YWE1YzA0NTRhYjE5MTNmNzUyZDU2YzgyNzM2IiwKICAgICAgICAgICAgICAgIHsKICAgICAgICAgICAgICAgICAgICBjZW50ZXI6IFs0MC43NjE3MSwgLTczLjk4Mjc2XSwKICAgICAgICAgICAgICAgICAgICBjcnM6IEwuQ1JTLkVQU0czODU3LAogICAgICAgICAgICAgICAgICAgIHpvb206IDE2LAogICAgICAgICAgICAgICAgICAgIHpvb21Db250cm9sOiB0cnVlLAogICAgICAgICAgICAgICAgICAgIHByZWZlckNhbnZhczogZmFsc2UsCiAgICAgICAgICAgICAgICB9CiAgICAgICAgICAgICk7CgogICAgICAgICAgICAKCiAgICAgICAgCiAgICAKICAgICAgICAgICAgdmFyIHRpbGVfbGF5ZXJfMzc0N2QzY2Q4YjdlNDM4ZThjNjI4MmIwMTdiYzEwYzQgPSBMLnRpbGVMYXllcigKICAgICAgICAgICAgICAgICJodHRwczovL3tzfS50aWxlLm9wZW5zdHJlZXRtYXAub3JnL3t6fS97eH0ve3l9LnBuZyIsCiAgICAgICAgICAgICAgICB7ImF0dHJpYnV0aW9uIjogIkRhdGEgYnkgXHUwMDI2Y29weTsgXHUwMDNjYSBocmVmPVwiaHR0cDovL29wZW5zdHJlZXRtYXAub3JnXCJcdTAwM2VPcGVuU3RyZWV0TWFwXHUwMDNjL2FcdTAwM2UsIHVuZGVyIFx1MDAzY2EgaHJlZj1cImh0dHA6Ly93d3cub3BlbnN0cmVldG1hcC5vcmcvY29weXJpZ2h0XCJcdTAwM2VPRGJMXHUwMDNjL2FcdTAwM2UuIiwgImRldGVjdFJldGluYSI6IGZhbHNlLCAibWF4TmF0aXZlWm9vbSI6IDE4LCAibWF4Wm9vbSI6IDE4LCAibWluWm9vbSI6IDAsICJub1dyYXAiOiBmYWxzZSwgIm9wYWNpdHkiOiAxLCAic3ViZG9tYWlucyI6ICJhYmMiLCAidG1zIjogZmFsc2V9CiAgICAgICAgICAgICkuYWRkVG8obWFwX2JiYjA1YWE1YzA0NTRhYjE5MTNmNzUyZDU2YzgyNzM2KTsKICAgICAgICAKICAgIAogICAgICAgICAgICB2YXIgY2lyY2xlX21hcmtlcl85NjUzZTkzNjFlYmE0ZWYxOWUxNzIxN2Q3Y2Q2MDUwZSA9IEwuY2lyY2xlTWFya2VyKAogICAgICAgICAgICAgICAgWzQwLjc2MTM3MiwgLTczLjk4MjYwMl0sCiAgICAgICAgICAgICAgICB7ImJ1YmJsaW5nTW91c2VFdmVudHMiOiB0cnVlLCAiY29sb3IiOiAiIzMzODhmZiIsICJkYXNoQXJyYXkiOiBudWxsLCAiZGFzaE9mZnNldCI6IG51bGwsICJmaWxsIjogZmFsc2UsICJmaWxsQ29sb3IiOiAiIzMzODhmZiIsICJmaWxsT3BhY2l0eSI6IDAuMiwgImZpbGxSdWxlIjogImV2ZW5vZGQiLCAibGluZUNhcCI6ICJyb3VuZCIsICJsaW5lSm9pbiI6ICJyb3VuZCIsICJvcGFjaXR5IjogMS4wLCAicmFkaXVzIjogNiwgInN0cm9rZSI6IHRydWUsICJ3ZWlnaHQiOiAzfQogICAgICAgICAgICApLmFkZFRvKG1hcF9iYmIwNWFhNWMwNDU0YWIxOTEzZjc1MmQ1NmM4MjczNik7CiAgICAgICAgCiAgICAKICAgICAgICAgICAgdmFyIGNpcmNsZV9tYXJrZXJfOWIwOTZjMjY0NmVlNGQzNmE5N2U0MjJjMzYwNzE4ZjQgPSBMLmNpcmNsZU1hcmtlcigKICAgICAgICAgICAgICAgIFs0MC43NjI0NDQsIC03My45ODI0NF0sCiAgICAgICAgICAgICAgICB7ImJ1YmJsaW5nTW91c2VFdmVudHMiOiB0cnVlLCAiY29sb3IiOiAiIzMzODhmZiIsICJkYXNoQXJyYXkiOiBudWxsLCAiZGFzaE9mZnNldCI6IG51bGwsICJmaWxsIjogZmFsc2UsICJmaWxsQ29sb3IiOiAiIzMzODhmZiIsICJmaWxsT3BhY2l0eSI6IDAuMiwgImZpbGxSdWxlIjogImV2ZW5vZGQiLCAibGluZUNhcCI6ICJyb3VuZCIsICJsaW5lSm9pbiI6ICJyb3VuZCIsICJvcGFjaXR5IjogMS4wLCAicmFkaXVzIjogNiwgInN0cm9rZSI6IHRydWUsICJ3ZWlnaHQiOiAzfQogICAgICAgICAgICApLmFkZFRvKG1hcF9iYmIwNWFhNWMwNDU0YWIxOTEzZjc1MmQ1NmM4MjczNik7CiAgICAgICAgCiAgICAKICAgICAgICAgICAgdmFyIGNpcmNsZV9tYXJrZXJfYmY1MTNmY2VkZDkwNDM4YzliODhhM2Q1NTc5OGQ0MWUgPSBMLmNpcmNsZU1hcmtlcigKICAgICAgICAgICAgICAgIFs0MC43NjI3NjcsIC03My45ODIyOTNdLAogICAgICAgICAgICAgICAgeyJidWJibGluZ01vdXNlRXZlbnRzIjogdHJ1ZSwgImNvbG9yIjogIiMzMzg4ZmYiLCAiZGFzaEFycmF5IjogbnVsbCwgImRhc2hPZmZzZXQiOiBudWxsLCAiZmlsbCI6IGZhbHNlLCAiZmlsbENvbG9yIjogIiMzMzg4ZmYiLCAiZmlsbE9wYWNpdHkiOiAwLjIsICJmaWxsUnVsZSI6ICJldmVub2RkIiwgImxpbmVDYXAiOiAicm91bmQiLCAibGluZUpvaW4iOiAicm91bmQiLCAib3BhY2l0eSI6IDEuMCwgInJhZGl1cyI6IDYsICJzdHJva2UiOiB0cnVlLCAid2VpZ2h0IjogM30KICAgICAgICAgICAgKS5hZGRUbyhtYXBfYmJiMDVhYTVjMDQ1NGFiMTkxM2Y3NTJkNTZjODI3MzYpOwogICAgICAgIAogICAgCiAgICAgICAgICAgIHZhciBjaXJjbGVfbWFya2VyXzM3ZWFhNjNmNjYxYTQzNmE4YTI1Yzg3MTRjYTBlOGE2ID0gTC5jaXJjbGVNYXJrZXIoCiAgICAgICAgICAgICAgICBbNDAuNzYyODY4LCAtNzMuOTgzMjMzXSwKICAgICAgICAgICAgICAgIHsiYnViYmxpbmdNb3VzZUV2ZW50cyI6IHRydWUsICJjb2xvciI6ICIjMzM4OGZmIiwgImRhc2hBcnJheSI6IG51bGwsICJkYXNoT2Zmc2V0IjogbnVsbCwgImZpbGwiOiBmYWxzZSwgImZpbGxDb2xvciI6ICIjMzM4OGZmIiwgImZpbGxPcGFjaXR5IjogMC4yLCAiZmlsbFJ1bGUiOiAiZXZlbm9kZCIsICJsaW5lQ2FwIjogInJvdW5kIiwgImxpbmVKb2luIjogInJvdW5kIiwgIm9wYWNpdHkiOiAxLjAsICJyYWRpdXMiOiA2LCAic3Ryb2tlIjogdHJ1ZSwgIndlaWdodCI6IDN9CiAgICAgICAgICAgICkuYWRkVG8obWFwX2JiYjA1YWE1YzA0NTRhYjE5MTNmNzUyZDU2YzgyNzM2KTsKICAgICAgICAKICAgIAogICAgICAgICAgICB2YXIgY2lyY2xlX21hcmtlcl8wZWQzOWM5NTI5Yzk0ZmNlOWE3ZmQ1NTU2OTRiOGU0OCA9IEwuY2lyY2xlTWFya2VyKAogICAgICAgICAgICAgICAgWzQwLjc2MDA1NywgLTczLjk4MzUwMl0sCiAgICAgICAgICAgICAgICB7ImJ1YmJsaW5nTW91c2VFdmVudHMiOiB0cnVlLCAiY29sb3IiOiAiIzMzODhmZiIsICJkYXNoQXJyYXkiOiBudWxsLCAiZGFzaE9mZnNldCI6IG51bGwsICJmaWxsIjogZmFsc2UsICJmaWxsQ29sb3IiOiAiIzMzODhmZiIsICJmaWxsT3BhY2l0eSI6IDAuMiwgImZpbGxSdWxlIjogImV2ZW5vZGQiLCAibGluZUNhcCI6ICJyb3VuZCIsICJsaW5lSm9pbiI6ICJyb3VuZCIsICJvcGFjaXR5IjogMS4wLCAicmFkaXVzIjogNiwgInN0cm9rZSI6IHRydWUsICJ3ZWlnaHQiOiAzfQogICAgICAgICAgICApLmFkZFRvKG1hcF9iYmIwNWFhNWMwNDU0YWIxOTEzZjc1MmQ1NmM4MjczNik7CiAgICAgICAgCiAgICAKICAgICAgICAgICAgdmFyIGNpcmNsZV9tYXJrZXJfZjI3ZDA2ZjliNDQ0NDBkYWFiNzVmYzg1ZjUwOWRmNTMgPSBMLmNpcmNsZU1hcmtlcigKICAgICAgICAgICAgICAgIFs0MC43NjA2NDQsIC03My45ODQ1MzFdLAogICAgICAgICAgICAgICAgeyJidWJibGluZ01vdXNlRXZlbnRzIjogdHJ1ZSwgImNvbG9yIjogIiMzMzg4ZmYiLCAiZGFzaEFycmF5IjogbnVsbCwgImRhc2hPZmZzZXQiOiBudWxsLCAiZmlsbCI6IGZhbHNlLCAiZmlsbENvbG9yIjogIiMzMzg4ZmYiLCAiZmlsbE9wYWNpdHkiOiAwLjIsICJmaWxsUnVsZSI6ICJldmVub2RkIiwgImxpbmVDYXAiOiAicm91bmQiLCAibGluZUpvaW4iOiAicm91bmQiLCAib3BhY2l0eSI6IDEuMCwgInJhZGl1cyI6IDYsICJzdHJva2UiOiB0cnVlLCAid2VpZ2h0IjogM30KICAgICAgICAgICAgKS5hZGRUbyhtYXBfYmJiMDVhYTVjMDQ1NGFiMTkxM2Y3NTJkNTZjODI3MzYpOwogICAgICAgIAogICAgCiAgICAgICAgICAgIHZhciBjaXJjbGVfbWFya2VyXzQyOGYzNDM0MDMwMDQwZGE5NTU2MjYzMGQ1YTZkY2MzID0gTC5jaXJjbGVNYXJrZXIoCiAgICAgICAgICAgICAgICBbNDAuNzYyMTA3LCAtNzMuOTg0NzldLAogICAgICAgICAgICAgICAgeyJidWJibGluZ01vdXNlRXZlbnRzIjogdHJ1ZSwgImNvbG9yIjogIiMzMzg4ZmYiLCAiZGFzaEFycmF5IjogbnVsbCwgImRhc2hPZmZzZXQiOiBudWxsLCAiZmlsbCI6IGZhbHNlLCAiZmlsbENvbG9yIjogIiMzMzg4ZmYiLCAiZmlsbE9wYWNpdHkiOiAwLjIsICJmaWxsUnVsZSI6ICJldmVub2RkIiwgImxpbmVDYXAiOiAicm91bmQiLCAibGluZUpvaW4iOiAicm91bmQiLCAib3BhY2l0eSI6IDEuMCwgInJhZGl1cyI6IDYsICJzdHJva2UiOiB0cnVlLCAid2VpZ2h0IjogM30KICAgICAgICAgICAgKS5hZGRUbyhtYXBfYmJiMDVhYTVjMDQ1NGFiMTkxM2Y3NTJkNTZjODI3MzYpOwogICAgICAgIAo8L3NjcmlwdD4=\" style=\"position:absolute;width:100%;height:100%;left:0;top:0;border:none !important;\" allowfullscreen webkitallowfullscreen mozallowfullscreen></iframe></div></div>"
      ],
      "text/plain": [
       "<folium.folium.Map at 0x7f78b691c5c0>"
      ]
     },
     "execution_count": 64,
     "metadata": {},
     "output_type": "execute_result"
    }
   ],
   "source": [
    "midtown_location = location(midtown_trip) # [40.76171, -73.98276]\n",
    "midtown_map = map_from(midtown_location, 16)\n",
    "closest_markers = markers_from_trips(seven_closest)\n",
    "\n",
    "add_markers(closest_markers, midtown_map)\n",
    "midtown_map"
   ]
  },
  {
   "cell_type": "markdown",
   "metadata": {},
   "source": [
    "Ok.  These locations stay fairly close to our estimated location of 51st street and 7th Avenue.  So they could be a good estimate of a trip distance."
   ]
  },
  {
   "cell_type": "code",
   "execution_count": 68,
   "metadata": {},
   "outputs": [
    {
     "data": {
      "text/plain": [
       "2.0085714285714285"
      ]
     },
     "execution_count": 68,
     "metadata": {},
     "output_type": "execute_result"
    }
   ],
   "source": [
    "def mean_distance(seven_closest):# 2.009\n",
    "    sum = 0\n",
    "    for closest in seven_closest:\n",
    "        sum+=closest['trip_distance']\n",
    "    return sum/len(seven_closest)\n",
    "\n",
    "mean_distance(seven_closest)\n",
    "        "
   ]
  },
  {
   "cell_type": "markdown",
   "metadata": {},
   "source": [
    "Ok, now let's try a different location"
   ]
  },
  {
   "cell_type": "code",
   "execution_count": 69,
   "metadata": {},
   "outputs": [],
   "source": [
    "charging_bull_closest = nearest_neighbors({'pickup_latitude': 40.7049, 'pickup_longitude': -74.0137}, cleaned_trips, number = 12)"
   ]
  },
  {
   "cell_type": "code",
   "execution_count": 70,
   "metadata": {
    "scrolled": true
   },
   "outputs": [
    {
     "data": {
      "text/plain": [
       "3.145"
      ]
     },
     "execution_count": 70,
     "metadata": {},
     "output_type": "execute_result"
    }
   ],
   "source": [
    "mean_distance(charging_bull_closest) # 3.145"
   ]
  },
  {
   "cell_type": "markdown",
   "metadata": {},
   "source": [
    "Ok, so there appears to be a significant difference between choosing a location near Times Square versus choosing a location at Wall Street."
   ]
  },
  {
   "cell_type": "markdown",
   "metadata": {},
   "source": [
    "### Summary"
   ]
  },
  {
   "cell_type": "markdown",
   "metadata": {},
   "source": [
    "In this lab, we used the nearest neighbors function to predict the length of a taxi ride.  To do so, we selected a location, then found a number of taxi rides closest to that location, and finally took the average trip lengths of the nearest taxi rides to find an estimate of the new ride's trip length.  You can see that even with just a little bit of math and programming we can begin to make meaningful predictions with data."
   ]
  }
 ],
 "metadata": {
  "kernelspec": {
   "display_name": "Python 3",
   "language": "python",
   "name": "python3"
  },
  "language_info": {
   "codemirror_mode": {
    "name": "ipython",
    "version": 3
   },
   "file_extension": ".py",
   "mimetype": "text/x-python",
   "name": "python",
   "nbconvert_exporter": "python",
   "pygments_lexer": "ipython3",
   "version": "3.6.9"
  }
 },
 "nbformat": 4,
 "nbformat_minor": 2
}
