{
 "cells": [
  {
   "cell_type": "markdown",
   "metadata": {},
   "source": [
    "# Nearest Neighbors Lab"
   ]
  },
  {
   "cell_type": "markdown",
   "metadata": {},
   "source": [
    "### Introduction\n",
    "\n",
    "In this lab, you apply nearest neighbors technique to help a taxi company predict the length of their rides.  Imagine that we are hired to consult for LiftOff, a limo and taxi service that is just opening up in NYC.  Liftoff wants it's taxi drivers to target longer rides, as the longer the ride the more money it makes.  LiftOff has the following theory:\n",
    "\n",
    "* the pickup location of a taxi ride can help predict the length of the ride.  \n",
    "\n",
    "\n",
    "\n",
    "LiftOff asks us to do some analysis to write a function that will allow it to **predict the length of a taxi ride for any given location **.\n",
    "\n",
    "Our technique will be the following:\n",
    "  * **Collect** Obtain the data containing all of the taxi information, and only select the attributes of taxi trips that we need \n",
    "  * ** Explore ** Examine the attributes of our data, and plot some of our data on a map\n",
    "  * ** Train ** Write our nearest neighbors formula, and change the number of nearby trips to predict the length of a new trip\n",
    "  * ** Predict ** Use our function to predict trip lengths of new locations"
   ]
  },
  {
   "cell_type": "markdown",
   "metadata": {},
   "source": [
    "### Collect and Explore the data"
   ]
  },
  {
   "cell_type": "markdown",
   "metadata": {},
   "source": [
    "#### Collect the Data"
   ]
  },
  {
   "cell_type": "markdown",
   "metadata": {},
   "source": [
    "Luckily for us, [NYC Open Data](https://opendata.cityofnewyork.us/) collects information about NYC taxi trips and provides this data on [its website](https://data.cityofnewyork.us/Transportation/2014-Yellow-Taxi-Trip-Data/gn7m-em8n)."
   ]
  },
  {
   "cell_type": "markdown",
   "metadata": {},
   "source": [
    "\n",
    "![](./nyc-taxi.png)"
   ]
  },
  {
   "cell_type": "markdown",
   "metadata": {},
   "source": [
    "\n",
    "For your reading pleasure, the data has already been downloaded into the [trips.json](https://github.com/learn-co-curriculum/nearest-neighbors-lab/blob/master/trips.json) file in this lab which you can find here.  We'll use Python's `json` library to take the data from the `trips.json` file and store it as a variable in our notebook."
   ]
  },
  {
   "cell_type": "code",
   "execution_count": 1,
   "metadata": {},
   "outputs": [],
   "source": [
    "\n",
    "import json\n",
    "# First, read the file\n",
    "trips_file = open('trips.json')\n",
    "# Then, convert contents to list of dictionaries \n",
    "trips = json.load(trips_file)"
   ]
  },
  {
   "cell_type": "markdown",
   "metadata": {},
   "source": [
    "\n",
    "> Press shift + enter"
   ]
  },
  {
   "cell_type": "markdown",
   "metadata": {},
   "source": [
    "#### Explore the data"
   ]
  },
  {
   "cell_type": "markdown",
   "metadata": {},
   "source": [
    "The next step is to explore the data.  First, let's see how many trips we have."
   ]
  },
  {
   "cell_type": "code",
   "execution_count": 2,
   "metadata": {},
   "outputs": [
    {
     "data": {
      "text/plain": [
       "1000"
      ]
     },
     "execution_count": 2,
     "metadata": {},
     "output_type": "execute_result"
    }
   ],
   "source": [
    "len(trips)"
   ]
  },
  {
   "cell_type": "markdown",
   "metadata": {},
   "source": [
    "Not bad at all.  Now let's see what each individual trip looks like.  Each trip is a dictionary, so we can see the attributes of each trip with the `keys` function."
   ]
  },
  {
   "cell_type": "code",
   "execution_count": 3,
   "metadata": {
    "scrolled": true
   },
   "outputs": [
    {
     "data": {
      "text/plain": [
       "dict_keys(['dropoff_datetime', 'dropoff_latitude', 'dropoff_longitude', 'fare_amount', 'imp_surcharge', 'mta_tax', 'passenger_count', 'payment_type', 'pickup_datetime', 'pickup_latitude', 'pickup_longitude', 'rate_code', 'tip_amount', 'tolls_amount', 'total_amount', 'trip_distance', 'vendor_id'])"
      ]
     },
     "execution_count": 3,
     "metadata": {},
     "output_type": "execute_result"
    }
   ],
   "source": [
    "trips[0].keys()"
   ]
  },
  {
   "cell_type": "markdown",
   "metadata": {},
   "source": [
    "#### Limit our data"
   ]
  },
  {
   "cell_type": "markdown",
   "metadata": {},
   "source": [
    "Ok, now that we have explored some of our data, let's begin to think through what data is relevant for our task."
   ]
  },
  {
   "cell_type": "markdown",
   "metadata": {
    "collapsed": true
   },
   "source": [
    "Remember that our task is to **use the trip location to predict the length of a trip**.  So let's select the `pickup_latitude`, `pickup_longitude`, and `trip_distance` from each trip.  That will give us the trip location and related `trip_distance` for each trip.  Then based on these **actual** trip distances we can use nearest neighbors to predict an **expected** trip distance for a trip, provided an **actual** location."
   ]
  },
  {
   "cell_type": "markdown",
   "metadata": {},
   "source": [
    "** Add in about trip distance ** "
   ]
  },
  {
   "cell_type": "markdown",
   "metadata": {},
   "source": [
    "Write a function called `parse_trips(trips)` that returns a list of the trips with only the following attributes: \n",
    "* `trip_distance`\n",
    "* `pickup_latitude`\n",
    "* `pickup_longitude`"
   ]
  },
  {
   "cell_type": "code",
   "execution_count": 4,
   "metadata": {},
   "outputs": [],
   "source": [
    "def parse_trips(trips):\n",
    "    cab_trips = list(map(lambda trip:dict(pickup_latitude= trip['pickup_latitude'],pickup_longitude=trip['pickup_longitude'],trip_distance=trip['trip_distance']),trips))\n",
    "    return cab_trips                                    \n",
    "                                          \n",
    "                                          "
   ]
  },
  {
   "cell_type": "code",
   "execution_count": 5,
   "metadata": {},
   "outputs": [
    {
     "data": {
      "text/plain": [
       "{'pickup_latitude': '40.64499',\n",
       " 'pickup_longitude': '-73.781149999999997',\n",
       " 'trip_distance': '18.379999999999999'}"
      ]
     },
     "execution_count": 5,
     "metadata": {},
     "output_type": "execute_result"
    }
   ],
   "source": [
    "parsed_trips = parse_trips(trips)\n",
    "parsed_trips and parsed_trips[0]\n",
    "\n",
    "# {'pickup_latitude': '40.64499',\n",
    "#  'pickup_longitude': '-73.78115',\n",
    "#  'trip_distance': '18.38'}"
   ]
  },
  {
   "cell_type": "markdown",
   "metadata": {},
   "source": [
    "Now, there's just one change to make.  If you look at one of the trips, all of the values are strings.  Let's change them to be floats."
   ]
  },
  {
   "cell_type": "code",
   "execution_count": 6,
   "metadata": {},
   "outputs": [],
   "source": [
    "def float_values(trips):    \n",
    "    cab_trips = parse_trips(trips)\n",
    "    for trip in cab_trips:\n",
    "     trip['pickup_latitude'] = float(trip['pickup_latitude'])\n",
    "     trip['pickup_longitude']= float(trip['pickup_longitude'])   \n",
    "     trip['trip_distance']= float(trip['trip_distance'])\n",
    "    return cab_trips\n",
    "        "
   ]
  },
  {
   "cell_type": "code",
   "execution_count": 7,
   "metadata": {},
   "outputs": [],
   "source": [
    "cleaned_trips = float_values(parsed_trips)"
   ]
  },
  {
   "cell_type": "code",
   "execution_count": 8,
   "metadata": {},
   "outputs": [
    {
     "data": {
      "text/plain": [
       "{'pickup_latitude': 40.64499,\n",
       " 'pickup_longitude': -73.78115,\n",
       " 'trip_distance': 18.38}"
      ]
     },
     "execution_count": 8,
     "metadata": {},
     "output_type": "execute_result"
    }
   ],
   "source": [
    "cleaned_trips[0]\n",
    "\n",
    "# {'pickup_latitude': 40.64499,\n",
    "#  'pickup_longitude': -73.78115,\n",
    "#  'trip_distance': 18.38}"
   ]
  },
  {
   "cell_type": "markdown",
   "metadata": {},
   "source": [
    "### Exploring the Data"
   ]
  },
  {
   "cell_type": "markdown",
   "metadata": {},
   "source": [
    "Now that we have paired down our data, let's get a sense of our trip data.  We can use the `folium` Python library to plot a map of Manhattan, and our data.  First we must import `folium`, and then use the `Map` function to pass through a `location`, and `zoom_start`.  If a map isn't showing up below, copy and paste the command `pip install -r requirements.txt` into your terminal to install `folium` then try again."
   ]
  },
  {
   "cell_type": "code",
   "execution_count": null,
   "metadata": {},
   "outputs": [],
   "source": [
    "import folium\n",
    "manhattan_map = folium.Map(location=[40.7589, -73.9851], zoom_start=11)"
   ]
  },
  {
   "cell_type": "code",
   "execution_count": null,
   "metadata": {
    "scrolled": true
   },
   "outputs": [],
   "source": [
    "manhattan_map"
   ]
  },
  {
   "cell_type": "markdown",
   "metadata": {},
   "source": [
    "Ok, now let's see how we could add a dot to mark a specific location.  We'll start with Times Square."
   ]
  },
  {
   "cell_type": "code",
   "execution_count": 10,
   "metadata": {},
   "outputs": [
    {
     "data": {
      "text/plain": [
       "<folium.vector_layers.CircleMarker at 0x7f6fdcc0c898>"
      ]
     },
     "execution_count": 10,
     "metadata": {},
     "output_type": "execute_result"
    }
   ],
   "source": [
    "marker = folium.CircleMarker(location = [40.7589, -73.9851], radius=10)\n",
    "marker.add_to(manhattan_map)"
   ]
  },
  {
   "cell_type": "markdown",
   "metadata": {},
   "source": [
    "Above, we first create a marker.  Then we add that circle marker to the `manhattan_map` we created earlier. "
   ]
  },
  {
   "cell_type": "code",
   "execution_count": 11,
   "metadata": {
    "scrolled": false
   },
   "outputs": [
    {
     "data": {
      "text/html": [
       "<div style=\"width:100%;\"><div style=\"position:relative;width:100%;height:0;padding-bottom:60%;\"><iframe src=\"data:text/html;charset=utf-8;base64,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\" style=\"position:absolute;width:100%;height:100%;left:0;top:0;border:none !important;\" allowfullscreen webkitallowfullscreen mozallowfullscreen></iframe></div></div>"
      ],
      "text/plain": [
       "<folium.folium.Map at 0x7f700805fbe0>"
      ]
     },
     "execution_count": 11,
     "metadata": {},
     "output_type": "execute_result"
    }
   ],
   "source": [
    "manhattan_map"
   ]
  },
  {
   "cell_type": "markdown",
   "metadata": {},
   "source": [
    "Do you see that blue dot near Time's Square?  That is our marker.  \n",
    "\n",
    "So now that we can plot one marker on a map, we should have a sense of how we can plot many markers on a map to display our taxi ride data.  We simply plot a map, and then we add a marker for each location of a taxi trip.\n",
    "\n",
    "Now let's write some functions to allow us to plot maps and add markers a little more easily.  "
   ]
  },
  {
   "cell_type": "markdown",
   "metadata": {},
   "source": [
    "#### Writing some map plotting functions"
   ]
  },
  {
   "cell_type": "markdown",
   "metadata": {},
   "source": [
    "As a first step towards this, note that the functions to create both a marker and map each take in a location as two element list, representing the latitude and longitude values.  Take another look:\n",
    "\n",
    "```python\n",
    "marker = folium.CircleMarker(location = [40.7589, -73.9851])\n",
    "manhattan_map = folium.Map(location=[40.7589, -73.9851])\n",
    "```\n",
    "\n",
    "So let's write a function called to create this two element list from a trip.  Write a function called `location` that  takes in a trip as an argument and returns a list where the first element is the latitude and the second is the longitude.  Remember that a location looks like the following:"
   ]
  },
  {
   "cell_type": "code",
   "execution_count": 12,
   "metadata": {},
   "outputs": [
    {
     "data": {
      "text/plain": [
       "{'pickup_latitude': 40.64499,\n",
       " 'pickup_longitude': -73.78115,\n",
       " 'trip_distance': 18.38}"
      ]
     },
     "execution_count": 12,
     "metadata": {},
     "output_type": "execute_result"
    }
   ],
   "source": [
    "first_trip = {'pickup_latitude': 40.64499, 'pickup_longitude': -73.78115,  'trip_distance': 18.38}\n",
    "first_trip"
   ]
  },
  {
   "cell_type": "code",
   "execution_count": 13,
   "metadata": {},
   "outputs": [],
   "source": [
    "def location(trip):\n",
    "    loc = [trip['pickup_latitude'],trip['pickup_longitude']]\n",
    "    return loc"
   ]
  },
  {
   "cell_type": "code",
   "execution_count": 14,
   "metadata": {},
   "outputs": [
    {
     "data": {
      "text/plain": [
       "[40.64499, -73.78115]"
      ]
     },
     "execution_count": 14,
     "metadata": {},
     "output_type": "execute_result"
    }
   ],
   "source": [
    "first_location = location(first_trip) # [40.64499, -73.78115]\n",
    "first_location # [40.64499, -73.78115]"
   ]
  },
  {
   "cell_type": "markdown",
   "metadata": {},
   "source": [
    "Ok, now that we can turn a trip into a location, let's turn a location into a marker.  Write a function called `to_marker` that takes in a location (in the form of a list) as an argument, and returns a folium `circleMarker` for that location.  The radius of the marker should always equal 6."
   ]
  },
  {
   "cell_type": "code",
   "execution_count": 15,
   "metadata": {},
   "outputs": [],
   "source": [
    "def to_marker(location):\n",
    "    return folium.CircleMarker(location, radius = 6)\n",
    "\n",
    "\n",
    "    "
   ]
  },
  {
   "cell_type": "code",
   "execution_count": 16,
   "metadata": {},
   "outputs": [
    {
     "ename": "TypeError",
     "evalue": "the JSON object must be str, bytes or bytearray, not 'dict'",
     "output_type": "error",
     "traceback": [
      "\u001b[0;31m\u001b[0m",
      "\u001b[0;31mTypeError\u001b[0mTraceback (most recent call last)",
      "\u001b[0;32m<ipython-input-16-aea535683066>\u001b[0m in \u001b[0;36m<module>\u001b[0;34m\u001b[0m\n\u001b[1;32m      3\u001b[0m \u001b[0;34m\u001b[0m\u001b[0m\n\u001b[1;32m      4\u001b[0m \u001b[0mtimes_square_marker\u001b[0m \u001b[0;32mand\u001b[0m \u001b[0mtimes_square_marker\u001b[0m\u001b[0;34m.\u001b[0m\u001b[0mlocation\u001b[0m \u001b[0;31m# [40.7589, -73.9851]\u001b[0m\u001b[0;34m\u001b[0m\u001b[0;34m\u001b[0m\u001b[0m\n\u001b[0;32m----> 5\u001b[0;31m \u001b[0mtimes_square_marker\u001b[0m \u001b[0;32mand\u001b[0m \u001b[0mjson\u001b[0m\u001b[0;34m.\u001b[0m\u001b[0mloads\u001b[0m\u001b[0;34m(\u001b[0m\u001b[0mtimes_square_marker\u001b[0m\u001b[0;34m.\u001b[0m\u001b[0moptions\u001b[0m\u001b[0;34m)\u001b[0m\u001b[0;34m[\u001b[0m\u001b[0;34m'radius'\u001b[0m\u001b[0;34m]\u001b[0m \u001b[0;31m# 6\u001b[0m\u001b[0;34m\u001b[0m\u001b[0;34m\u001b[0m\u001b[0m\n\u001b[0m",
      "\u001b[0;32m/opt/conda/envs/learn-env/lib/python3.6/json/__init__.py\u001b[0m in \u001b[0;36mloads\u001b[0;34m(s, encoding, cls, object_hook, parse_float, parse_int, parse_constant, object_pairs_hook, **kw)\u001b[0m\n\u001b[1;32m    346\u001b[0m         \u001b[0;32mif\u001b[0m \u001b[0;32mnot\u001b[0m \u001b[0misinstance\u001b[0m\u001b[0;34m(\u001b[0m\u001b[0ms\u001b[0m\u001b[0;34m,\u001b[0m \u001b[0;34m(\u001b[0m\u001b[0mbytes\u001b[0m\u001b[0;34m,\u001b[0m \u001b[0mbytearray\u001b[0m\u001b[0;34m)\u001b[0m\u001b[0;34m)\u001b[0m\u001b[0;34m:\u001b[0m\u001b[0;34m\u001b[0m\u001b[0;34m\u001b[0m\u001b[0m\n\u001b[1;32m    347\u001b[0m             raise TypeError('the JSON object must be str, bytes or bytearray, '\n\u001b[0;32m--> 348\u001b[0;31m                             'not {!r}'.format(s.__class__.__name__))\n\u001b[0m\u001b[1;32m    349\u001b[0m         \u001b[0ms\u001b[0m \u001b[0;34m=\u001b[0m \u001b[0ms\u001b[0m\u001b[0;34m.\u001b[0m\u001b[0mdecode\u001b[0m\u001b[0;34m(\u001b[0m\u001b[0mdetect_encoding\u001b[0m\u001b[0;34m(\u001b[0m\u001b[0ms\u001b[0m\u001b[0;34m)\u001b[0m\u001b[0;34m,\u001b[0m \u001b[0;34m'surrogatepass'\u001b[0m\u001b[0;34m)\u001b[0m\u001b[0;34m\u001b[0m\u001b[0;34m\u001b[0m\u001b[0m\n\u001b[1;32m    350\u001b[0m \u001b[0;34m\u001b[0m\u001b[0m\n",
      "\u001b[0;31mTypeError\u001b[0m: the JSON object must be str, bytes or bytearray, not 'dict'"
     ]
    }
   ],
   "source": [
    "import json\n",
    "times_square_marker = to_marker([40.7589, -73.9851])\n",
    "\n",
    "times_square_marker and times_square_marker.location # [40.7589, -73.9851]\n",
    "times_square_marker and json.loads(times_square_marker.options)['radius'] # 6"
   ]
  },
  {
   "cell_type": "markdown",
   "metadata": {},
   "source": [
    "Ok, now that we know how to produce a single marker, let's write a function to produce lots.  We can write a function called `markers_from_trips` that takes in a list of trips, and returns a marker object for each trip.  "
   ]
  },
  {
   "cell_type": "code",
   "execution_count": 17,
   "metadata": {},
   "outputs": [],
   "source": [
    "def markers_from_trips(trips):\n",
    "    locations = list(map(lambda trip: location(trip), trips))\n",
    "    return list(map(lambda location: to_marker(location),locations))"
   ]
  },
  {
   "cell_type": "code",
   "execution_count": 18,
   "metadata": {},
   "outputs": [
    {
     "ename": "NameError",
     "evalue": "name 'cleaned_trips' is not defined",
     "output_type": "error",
     "traceback": [
      "\u001b[0;31m\u001b[0m",
      "\u001b[0;31mNameError\u001b[0mTraceback (most recent call last)",
      "\u001b[0;32m<ipython-input-18-de7583b527a3>\u001b[0m in \u001b[0;36m<module>\u001b[0;34m\u001b[0m\n\u001b[0;32m----> 1\u001b[0;31m \u001b[0mtrip_markers\u001b[0m \u001b[0;34m=\u001b[0m \u001b[0mmarkers_from_trips\u001b[0m\u001b[0;34m(\u001b[0m\u001b[0mcleaned_trips\u001b[0m\u001b[0;34m)\u001b[0m\u001b[0;34m\u001b[0m\u001b[0;34m\u001b[0m\u001b[0m\n\u001b[0m",
      "\u001b[0;31mNameError\u001b[0m: name 'cleaned_trips' is not defined"
     ]
    }
   ],
   "source": [
    "trip_markers = markers_from_trips(cleaned_trips)"
   ]
  },
  {
   "cell_type": "code",
   "execution_count": 19,
   "metadata": {},
   "outputs": [
    {
     "ename": "NameError",
     "evalue": "name 'cleaned_trips' is not defined",
     "output_type": "error",
     "traceback": [
      "\u001b[0;31m\u001b[0m",
      "\u001b[0;31mNameError\u001b[0mTraceback (most recent call last)",
      "\u001b[0;32m<ipython-input-19-aada55058401>\u001b[0m in \u001b[0;36m<module>\u001b[0;34m\u001b[0m\n\u001b[0;32m----> 1\u001b[0;31m \u001b[0mcleaned_trips\u001b[0m\u001b[0;34m[\u001b[0m\u001b[0;36m0\u001b[0m\u001b[0;34m:\u001b[0m\u001b[0;36m4\u001b[0m\u001b[0;34m]\u001b[0m\u001b[0;34m\u001b[0m\u001b[0;34m\u001b[0m\u001b[0m\n\u001b[0m",
      "\u001b[0;31mNameError\u001b[0m: name 'cleaned_trips' is not defined"
     ]
    }
   ],
   "source": [
    "cleaned_trips[0:4]"
   ]
  },
  {
   "cell_type": "code",
   "execution_count": 20,
   "metadata": {},
   "outputs": [
    {
     "ename": "NameError",
     "evalue": "name 'trip_markers' is not defined",
     "output_type": "error",
     "traceback": [
      "\u001b[0;31m\u001b[0m",
      "\u001b[0;31mNameError\u001b[0mTraceback (most recent call last)",
      "\u001b[0;32m<ipython-input-20-4a11b57fb65a>\u001b[0m in \u001b[0;36m<module>\u001b[0;34m\u001b[0m\n\u001b[0;32m----> 1\u001b[0;31m \u001b[0mtrip_markers\u001b[0m \u001b[0;32mand\u001b[0m \u001b[0mlen\u001b[0m\u001b[0;34m(\u001b[0m\u001b[0mtrip_markers\u001b[0m\u001b[0;34m)\u001b[0m \u001b[0;31m# 1000\u001b[0m\u001b[0;34m\u001b[0m\u001b[0;34m\u001b[0m\u001b[0m\n\u001b[0m\u001b[1;32m      2\u001b[0m \u001b[0;34m\u001b[0m\u001b[0m\n\u001b[1;32m      3\u001b[0m \u001b[0;34m\u001b[0m\u001b[0m\n\u001b[1;32m      4\u001b[0m \u001b[0mlist\u001b[0m\u001b[0;34m(\u001b[0m\u001b[0mmap\u001b[0m\u001b[0;34m(\u001b[0m\u001b[0;32mlambda\u001b[0m \u001b[0mmarker\u001b[0m\u001b[0;34m:\u001b[0m \u001b[0mmarker\u001b[0m\u001b[0;34m.\u001b[0m\u001b[0mlocation\u001b[0m\u001b[0;34m,\u001b[0m \u001b[0mtrip_markers\u001b[0m\u001b[0;34m[\u001b[0m\u001b[0;36m0\u001b[0m\u001b[0;34m:\u001b[0m\u001b[0;36m4\u001b[0m\u001b[0;34m]\u001b[0m\u001b[0;34m)\u001b[0m\u001b[0;34m)\u001b[0m\u001b[0;34m\u001b[0m\u001b[0;34m\u001b[0m\u001b[0m\n\u001b[1;32m      5\u001b[0m \u001b[0;31m# [[40.64499, -73.78115],\u001b[0m\u001b[0;34m\u001b[0m\u001b[0;34m\u001b[0m\u001b[0;34m\u001b[0m\u001b[0m\n",
      "\u001b[0;31mNameError\u001b[0m: name 'trip_markers' is not defined"
     ]
    }
   ],
   "source": [
    "trip_markers and len(trip_markers) # 1000\n",
    "\n",
    "\n",
    "list(map(lambda marker: marker.location, trip_markers[0:4]))\n",
    "# [[40.64499, -73.78115],\n",
    "#  [40.766931, -73.982098],\n",
    "#  [40.77773, -73.951902],\n",
    "#  [40.795678, -73.971049]]"
   ]
  },
  {
   "cell_type": "markdown",
   "metadata": {},
   "source": [
    "Ok, now that we have a function that creates locations, and a function that creates markers, it is time to write a function to plot a map. \n",
    "\n",
    "Write a function called `map_from` that, provided the first argument of a list location and second argument an integer representing the `zoom_start`, returns a `folium` map the corresponding location and `zoom_start` attributes.\n",
    "\n",
    "> Hint: The following is how to write a map with folium:\n",
    "> ```python \n",
    "    folium.Map(location=location, zoom_start=zoom_amount)\n",
    "> ```"
   ]
  },
  {
   "cell_type": "code",
   "execution_count": 21,
   "metadata": {},
   "outputs": [],
   "source": [
    "def map_from(location, zoom_amount):\n",
    "    return folium.Map(location = location,zoom_start = zoom_amount)"
   ]
  },
  {
   "cell_type": "code",
   "execution_count": 22,
   "metadata": {},
   "outputs": [
    {
     "data": {
      "text/html": [
       "<div style=\"width:100%;\"><div style=\"position:relative;width:100%;height:0;padding-bottom:60%;\"><iframe src=\"data:text/html;charset=utf-8;base64,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\" style=\"position:absolute;width:100%;height:100%;left:0;top:0;border:none !important;\" allowfullscreen webkitallowfullscreen mozallowfullscreen></iframe></div></div>"
      ],
      "text/plain": [
       "<folium.folium.Map at 0x7f6fdcc0c400>"
      ]
     },
     "execution_count": 22,
     "metadata": {},
     "output_type": "execute_result"
    }
   ],
   "source": [
    "times_square_map = map_from([40.7589, -73.9851], 15)\n",
    "times_square_map"
   ]
  },
  {
   "cell_type": "code",
   "execution_count": 24,
   "metadata": {
    "scrolled": true
   },
   "outputs": [
    {
     "data": {
      "text/html": [
       "<div style=\"width:100%;\"><div style=\"position:relative;width:100%;height:0;padding-bottom:60%;\"><iframe src=\"data:text/html;charset=utf-8;base64,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\" style=\"position:absolute;width:100%;height:100%;left:0;top:0;border:none !important;\" allowfullscreen webkitallowfullscreen mozallowfullscreen></iframe></div></div>"
      ],
      "text/plain": [
       "<folium.folium.Map at 0x7f78b6932b00>"
      ]
     },
     "execution_count": 24,
     "metadata": {},
     "output_type": "execute_result"
    }
   ],
   "source": [
    "times_square_marker and times_square_marker.add_to(times_square_map)\n",
    "times_square_map"
   ]
  },
  {
   "cell_type": "markdown",
   "metadata": {},
   "source": [
    "Now that we have a marker and a map, now let's write a function that adds a lot of markers to a map.  This function should add each marker in the list to the map object then return the updated map object."
   ]
  },
  {
   "cell_type": "code",
   "execution_count": 25,
   "metadata": {},
   "outputs": [],
   "source": [
    "manhattan_map = map_from([40.7589, -73.9851], 13)"
   ]
  },
  {
   "cell_type": "code",
   "execution_count": 26,
   "metadata": {},
   "outputs": [],
   "source": [
    "def add_markers(markers, map_obj):\n",
    "    return list(map(lambda marker:marker.add_to(map_obj),markers))"
   ]
  },
  {
   "cell_type": "code",
   "execution_count": 27,
   "metadata": {
    "scrolled": false
   },
   "outputs": [],
   "source": [
    "map_with_markers = add_markers(trip_markers, manhattan_map)"
   ]
  },
  {
   "cell_type": "code",
   "execution_count": 28,
   "metadata": {},
   "outputs": [
    {
     "data": {
      "text/plain": [
       "[<folium.vector_layers.CircleMarker at 0x7f78b6ab8208>,\n",
       " <folium.vector_layers.CircleMarker at 0x7f78b6ab8470>,\n",
       " <folium.vector_layers.CircleMarker at 0x7f78b6ab8358>,\n",
       " <folium.vector_layers.CircleMarker at 0x7f78b6ab8128>,\n",
       " <folium.vector_layers.CircleMarker at 0x7f78b6ab8240>,\n",
       " <folium.vector_layers.CircleMarker at 0x7f78e42c8a58>,\n",
       " <folium.vector_layers.CircleMarker at 0x7f78b6ab80f0>,\n",
       " <folium.vector_layers.CircleMarker at 0x7f78b6ab85c0>,\n",
       " <folium.vector_layers.CircleMarker at 0x7f78b6ab8048>,\n",
       " <folium.vector_layers.CircleMarker at 0x7f78b6ab8320>,\n",
       " <folium.vector_layers.CircleMarker at 0x7f78b6ab8668>,\n",
       " <folium.vector_layers.CircleMarker at 0x7f78b6ab8080>,\n",
       " <folium.vector_layers.CircleMarker at 0x7f78b6ab83c8>,\n",
       " <folium.vector_layers.CircleMarker at 0x7f78b6ab84a8>,\n",
       " <folium.vector_layers.CircleMarker at 0x7f78b6ab86a0>,\n",
       " <folium.vector_layers.CircleMarker at 0x7f78b6ab85f8>,\n",
       " <folium.vector_layers.CircleMarker at 0x7f78b6ab8860>,\n",
       " <folium.vector_layers.CircleMarker at 0x7f78b6ab81d0>,\n",
       " <folium.vector_layers.CircleMarker at 0x7f78b6ab87b8>,\n",
       " <folium.vector_layers.CircleMarker at 0x7f78b6ab8780>,\n",
       " <folium.vector_layers.CircleMarker at 0x7f78b6ab8748>,\n",
       " <folium.vector_layers.CircleMarker at 0x7f78b6ab8ef0>,\n",
       " <folium.vector_layers.CircleMarker at 0x7f78b6ab86d8>,\n",
       " <folium.vector_layers.CircleMarker at 0x7f78b6ab87f0>,\n",
       " <folium.vector_layers.CircleMarker at 0x7f78b6ab8f28>,\n",
       " <folium.vector_layers.CircleMarker at 0x7f78b6ab8f60>,\n",
       " <folium.vector_layers.CircleMarker at 0x7f78b6ab8f98>,\n",
       " <folium.vector_layers.CircleMarker at 0x7f78b6ab8fd0>,\n",
       " <folium.vector_layers.CircleMarker at 0x7f78b6ab8710>,\n",
       " <folium.vector_layers.CircleMarker at 0x7f78b6ab8518>,\n",
       " <folium.vector_layers.CircleMarker at 0x7f78b69ff080>,\n",
       " <folium.vector_layers.CircleMarker at 0x7f78b69ff0b8>,\n",
       " <folium.vector_layers.CircleMarker at 0x7f78b69ff0f0>,\n",
       " <folium.vector_layers.CircleMarker at 0x7f78b69ff128>,\n",
       " <folium.vector_layers.CircleMarker at 0x7f78b69ff160>,\n",
       " <folium.vector_layers.CircleMarker at 0x7f78b69ff198>,\n",
       " <folium.vector_layers.CircleMarker at 0x7f78b69ff1d0>,\n",
       " <folium.vector_layers.CircleMarker at 0x7f78b69ff208>,\n",
       " <folium.vector_layers.CircleMarker at 0x7f78b69ff240>,\n",
       " <folium.vector_layers.CircleMarker at 0x7f78b69ff278>,\n",
       " <folium.vector_layers.CircleMarker at 0x7f78b69ff2b0>,\n",
       " <folium.vector_layers.CircleMarker at 0x7f78b69ff2e8>,\n",
       " <folium.vector_layers.CircleMarker at 0x7f78b69ff320>,\n",
       " <folium.vector_layers.CircleMarker at 0x7f78b69ff358>,\n",
       " <folium.vector_layers.CircleMarker at 0x7f78b69ff390>,\n",
       " <folium.vector_layers.CircleMarker at 0x7f78b69ff3c8>,\n",
       " <folium.vector_layers.CircleMarker at 0x7f78b69ff400>,\n",
       " <folium.vector_layers.CircleMarker at 0x7f78b69ff438>,\n",
       " <folium.vector_layers.CircleMarker at 0x7f78b69ff470>,\n",
       " <folium.vector_layers.CircleMarker at 0x7f78b69ff4a8>,\n",
       " <folium.vector_layers.CircleMarker at 0x7f78b69ff4e0>,\n",
       " <folium.vector_layers.CircleMarker at 0x7f78b69ff518>,\n",
       " <folium.vector_layers.CircleMarker at 0x7f78b69ff550>,\n",
       " <folium.vector_layers.CircleMarker at 0x7f78b69ff588>,\n",
       " <folium.vector_layers.CircleMarker at 0x7f78b69ff5c0>,\n",
       " <folium.vector_layers.CircleMarker at 0x7f78b69ff5f8>,\n",
       " <folium.vector_layers.CircleMarker at 0x7f78b69ff630>,\n",
       " <folium.vector_layers.CircleMarker at 0x7f78b69ff668>,\n",
       " <folium.vector_layers.CircleMarker at 0x7f78b69ff6a0>,\n",
       " <folium.vector_layers.CircleMarker at 0x7f78b69ff6d8>,\n",
       " <folium.vector_layers.CircleMarker at 0x7f78b69ff710>,\n",
       " <folium.vector_layers.CircleMarker at 0x7f78b69ff748>,\n",
       " <folium.vector_layers.CircleMarker at 0x7f78b69ff780>,\n",
       " <folium.vector_layers.CircleMarker at 0x7f78b6ab80b8>,\n",
       " <folium.vector_layers.CircleMarker at 0x7f78b6ab8550>,\n",
       " <folium.vector_layers.CircleMarker at 0x7f78b69ff7b8>,\n",
       " <folium.vector_layers.CircleMarker at 0x7f78b69ff7f0>,\n",
       " <folium.vector_layers.CircleMarker at 0x7f78b69ff828>,\n",
       " <folium.vector_layers.CircleMarker at 0x7f78b69ff860>,\n",
       " <folium.vector_layers.CircleMarker at 0x7f78b69ff898>,\n",
       " <folium.vector_layers.CircleMarker at 0x7f78b69ff8d0>,\n",
       " <folium.vector_layers.CircleMarker at 0x7f78b69ff908>,\n",
       " <folium.vector_layers.CircleMarker at 0x7f78b69ff940>,\n",
       " <folium.vector_layers.CircleMarker at 0x7f78b69ff978>,\n",
       " <folium.vector_layers.CircleMarker at 0x7f78b69ff9b0>,\n",
       " <folium.vector_layers.CircleMarker at 0x7f78b69ff9e8>,\n",
       " <folium.vector_layers.CircleMarker at 0x7f78b69ffa20>,\n",
       " <folium.vector_layers.CircleMarker at 0x7f78b69ffa58>,\n",
       " <folium.vector_layers.CircleMarker at 0x7f78b69ffa90>,\n",
       " <folium.vector_layers.CircleMarker at 0x7f78b69ffac8>,\n",
       " <folium.vector_layers.CircleMarker at 0x7f78b69ffb00>,\n",
       " <folium.vector_layers.CircleMarker at 0x7f78b69ffb38>,\n",
       " <folium.vector_layers.CircleMarker at 0x7f78b69ffb70>,\n",
       " <folium.vector_layers.CircleMarker at 0x7f78b69ffba8>,\n",
       " <folium.vector_layers.CircleMarker at 0x7f78b69ffbe0>,\n",
       " <folium.vector_layers.CircleMarker at 0x7f78b69ffc18>,\n",
       " <folium.vector_layers.CircleMarker at 0x7f78b69ffc50>,\n",
       " <folium.vector_layers.CircleMarker at 0x7f78b69ffc88>,\n",
       " <folium.vector_layers.CircleMarker at 0x7f78b69ffcc0>,\n",
       " <folium.vector_layers.CircleMarker at 0x7f78b69ffcf8>,\n",
       " <folium.vector_layers.CircleMarker at 0x7f78b69ffd30>,\n",
       " <folium.vector_layers.CircleMarker at 0x7f78b69ffd68>,\n",
       " <folium.vector_layers.CircleMarker at 0x7f78b69ffda0>,\n",
       " <folium.vector_layers.CircleMarker at 0x7f78b69ffdd8>,\n",
       " <folium.vector_layers.CircleMarker at 0x7f78b69ffe10>,\n",
       " <folium.vector_layers.CircleMarker at 0x7f78b69ffe48>,\n",
       " <folium.vector_layers.CircleMarker at 0x7f78b69ffe80>,\n",
       " <folium.vector_layers.CircleMarker at 0x7f78b69ffeb8>,\n",
       " <folium.vector_layers.CircleMarker at 0x7f78b69ffef0>,\n",
       " <folium.vector_layers.CircleMarker at 0x7f78b69fff28>,\n",
       " <folium.vector_layers.CircleMarker at 0x7f78b69fff60>,\n",
       " <folium.vector_layers.CircleMarker at 0x7f78b69fff98>,\n",
       " <folium.vector_layers.CircleMarker at 0x7f78b69fffd0>,\n",
       " <folium.vector_layers.CircleMarker at 0x7f78b69ff048>,\n",
       " <folium.vector_layers.CircleMarker at 0x7f78b6a0e080>,\n",
       " <folium.vector_layers.CircleMarker at 0x7f78b6a0e0b8>,\n",
       " <folium.vector_layers.CircleMarker at 0x7f78b6a0e0f0>,\n",
       " <folium.vector_layers.CircleMarker at 0x7f78b6a0e128>,\n",
       " <folium.vector_layers.CircleMarker at 0x7f78b6a0e160>,\n",
       " <folium.vector_layers.CircleMarker at 0x7f78b6a0e198>,\n",
       " <folium.vector_layers.CircleMarker at 0x7f78b6a0e1d0>,\n",
       " <folium.vector_layers.CircleMarker at 0x7f78b6a0e208>,\n",
       " <folium.vector_layers.CircleMarker at 0x7f78b6a0e240>,\n",
       " <folium.vector_layers.CircleMarker at 0x7f78b6a0e278>,\n",
       " <folium.vector_layers.CircleMarker at 0x7f78b6a0e2b0>,\n",
       " <folium.vector_layers.CircleMarker at 0x7f78b6a0e2e8>,\n",
       " <folium.vector_layers.CircleMarker at 0x7f78b6a0e320>,\n",
       " <folium.vector_layers.CircleMarker at 0x7f78b6a0e358>,\n",
       " <folium.vector_layers.CircleMarker at 0x7f78b6a0e390>,\n",
       " <folium.vector_layers.CircleMarker at 0x7f78b6a0e3c8>,\n",
       " <folium.vector_layers.CircleMarker at 0x7f78b6a0e400>,\n",
       " <folium.vector_layers.CircleMarker at 0x7f78b6a0e438>,\n",
       " <folium.vector_layers.CircleMarker at 0x7f78b6a0e470>,\n",
       " <folium.vector_layers.CircleMarker at 0x7f78b6a0e4a8>,\n",
       " <folium.vector_layers.CircleMarker at 0x7f78b6a0e4e0>,\n",
       " <folium.vector_layers.CircleMarker at 0x7f78b6a0e518>,\n",
       " <folium.vector_layers.CircleMarker at 0x7f78b6a0e550>,\n",
       " <folium.vector_layers.CircleMarker at 0x7f78b6a0e588>,\n",
       " <folium.vector_layers.CircleMarker at 0x7f78b6a0e5c0>,\n",
       " <folium.vector_layers.CircleMarker at 0x7f78b6a0e5f8>,\n",
       " <folium.vector_layers.CircleMarker at 0x7f78b6a0e630>,\n",
       " <folium.vector_layers.CircleMarker at 0x7f78b6a0e668>,\n",
       " <folium.vector_layers.CircleMarker at 0x7f78b6a0e6a0>,\n",
       " <folium.vector_layers.CircleMarker at 0x7f78b6a0e6d8>,\n",
       " <folium.vector_layers.CircleMarker at 0x7f78b6a0e710>,\n",
       " <folium.vector_layers.CircleMarker at 0x7f78b6a0e748>,\n",
       " <folium.vector_layers.CircleMarker at 0x7f78b6a0e780>,\n",
       " <folium.vector_layers.CircleMarker at 0x7f78b6a0e7b8>,\n",
       " <folium.vector_layers.CircleMarker at 0x7f78b6a0e7f0>,\n",
       " <folium.vector_layers.CircleMarker at 0x7f78b6a0e828>,\n",
       " <folium.vector_layers.CircleMarker at 0x7f78b6a0e860>,\n",
       " <folium.vector_layers.CircleMarker at 0x7f78b6a0e898>,\n",
       " <folium.vector_layers.CircleMarker at 0x7f78b6a0e8d0>,\n",
       " <folium.vector_layers.CircleMarker at 0x7f78b6a0e908>,\n",
       " <folium.vector_layers.CircleMarker at 0x7f78b6a0e940>,\n",
       " <folium.vector_layers.CircleMarker at 0x7f78b6a0e978>,\n",
       " <folium.vector_layers.CircleMarker at 0x7f78b6a0e9b0>,\n",
       " <folium.vector_layers.CircleMarker at 0x7f78b6a0e9e8>,\n",
       " <folium.vector_layers.CircleMarker at 0x7f78b6a0ea20>,\n",
       " <folium.vector_layers.CircleMarker at 0x7f78b6a0ea58>,\n",
       " <folium.vector_layers.CircleMarker at 0x7f78b6a0ea90>,\n",
       " <folium.vector_layers.CircleMarker at 0x7f78b6a0eac8>,\n",
       " <folium.vector_layers.CircleMarker at 0x7f78b6a0eb00>,\n",
       " <folium.vector_layers.CircleMarker at 0x7f78b6a0eb38>,\n",
       " <folium.vector_layers.CircleMarker at 0x7f78b6a0eb70>,\n",
       " <folium.vector_layers.CircleMarker at 0x7f78b6a0eba8>,\n",
       " <folium.vector_layers.CircleMarker at 0x7f78b6a0ebe0>,\n",
       " <folium.vector_layers.CircleMarker at 0x7f78b6a0ec18>,\n",
       " <folium.vector_layers.CircleMarker at 0x7f78b6a0ec50>,\n",
       " <folium.vector_layers.CircleMarker at 0x7f78b6a0ec88>,\n",
       " <folium.vector_layers.CircleMarker at 0x7f78b6a0ecc0>,\n",
       " <folium.vector_layers.CircleMarker at 0x7f78b6a0ecf8>,\n",
       " <folium.vector_layers.CircleMarker at 0x7f78b6a0ed30>,\n",
       " <folium.vector_layers.CircleMarker at 0x7f78b6a0ed68>,\n",
       " <folium.vector_layers.CircleMarker at 0x7f78b6a0eda0>,\n",
       " <folium.vector_layers.CircleMarker at 0x7f78b6a0edd8>,\n",
       " <folium.vector_layers.CircleMarker at 0x7f78b6a0ee10>,\n",
       " <folium.vector_layers.CircleMarker at 0x7f78b6a0ee48>,\n",
       " <folium.vector_layers.CircleMarker at 0x7f78b6a0ee80>,\n",
       " <folium.vector_layers.CircleMarker at 0x7f78b6a0eeb8>,\n",
       " <folium.vector_layers.CircleMarker at 0x7f78b6a0eef0>,\n",
       " <folium.vector_layers.CircleMarker at 0x7f78b6a0ef28>,\n",
       " <folium.vector_layers.CircleMarker at 0x7f78b6a0ef60>,\n",
       " <folium.vector_layers.CircleMarker at 0x7f78b6a0ef98>,\n",
       " <folium.vector_layers.CircleMarker at 0x7f78b6a0efd0>,\n",
       " <folium.vector_layers.CircleMarker at 0x7f78b6a0e048>,\n",
       " <folium.vector_layers.CircleMarker at 0x7f78b6a1a080>,\n",
       " <folium.vector_layers.CircleMarker at 0x7f78b6a1a0b8>,\n",
       " <folium.vector_layers.CircleMarker at 0x7f78b6a1a0f0>,\n",
       " <folium.vector_layers.CircleMarker at 0x7f78b6a1a128>,\n",
       " <folium.vector_layers.CircleMarker at 0x7f78b6a1a160>,\n",
       " <folium.vector_layers.CircleMarker at 0x7f78b6a1a198>,\n",
       " <folium.vector_layers.CircleMarker at 0x7f78b6a1a1d0>,\n",
       " <folium.vector_layers.CircleMarker at 0x7f78b6a1a208>,\n",
       " <folium.vector_layers.CircleMarker at 0x7f78b6a1a240>,\n",
       " <folium.vector_layers.CircleMarker at 0x7f78b6a1a278>,\n",
       " <folium.vector_layers.CircleMarker at 0x7f78b6a1a2b0>,\n",
       " <folium.vector_layers.CircleMarker at 0x7f78b6a1a2e8>,\n",
       " <folium.vector_layers.CircleMarker at 0x7f78b6a1a320>,\n",
       " <folium.vector_layers.CircleMarker at 0x7f78b6a1a358>,\n",
       " <folium.vector_layers.CircleMarker at 0x7f78b6a1a390>,\n",
       " <folium.vector_layers.CircleMarker at 0x7f78b6a1a3c8>,\n",
       " <folium.vector_layers.CircleMarker at 0x7f78b6a1a400>,\n",
       " <folium.vector_layers.CircleMarker at 0x7f78b6a1a438>,\n",
       " <folium.vector_layers.CircleMarker at 0x7f78b6a1a470>,\n",
       " <folium.vector_layers.CircleMarker at 0x7f78b6a1a4a8>,\n",
       " <folium.vector_layers.CircleMarker at 0x7f78b6a1a4e0>,\n",
       " <folium.vector_layers.CircleMarker at 0x7f78b6a1a518>,\n",
       " <folium.vector_layers.CircleMarker at 0x7f78b6a1a550>,\n",
       " <folium.vector_layers.CircleMarker at 0x7f78b6a1a588>,\n",
       " <folium.vector_layers.CircleMarker at 0x7f78b6a1a5c0>,\n",
       " <folium.vector_layers.CircleMarker at 0x7f78b6a1a5f8>,\n",
       " <folium.vector_layers.CircleMarker at 0x7f78b6a1a630>,\n",
       " <folium.vector_layers.CircleMarker at 0x7f78b6a1a668>,\n",
       " <folium.vector_layers.CircleMarker at 0x7f78b6a1a6a0>,\n",
       " <folium.vector_layers.CircleMarker at 0x7f78b6a1a6d8>,\n",
       " <folium.vector_layers.CircleMarker at 0x7f78b6a1a710>,\n",
       " <folium.vector_layers.CircleMarker at 0x7f78b6a1a748>,\n",
       " <folium.vector_layers.CircleMarker at 0x7f78b6a1a780>,\n",
       " <folium.vector_layers.CircleMarker at 0x7f78b6a1a7b8>,\n",
       " <folium.vector_layers.CircleMarker at 0x7f78b6a1a7f0>,\n",
       " <folium.vector_layers.CircleMarker at 0x7f78b6a1a828>,\n",
       " <folium.vector_layers.CircleMarker at 0x7f78b6a1a860>,\n",
       " <folium.vector_layers.CircleMarker at 0x7f78b6a1a898>,\n",
       " <folium.vector_layers.CircleMarker at 0x7f78b6a1a8d0>,\n",
       " <folium.vector_layers.CircleMarker at 0x7f78b6a1a908>,\n",
       " <folium.vector_layers.CircleMarker at 0x7f78b6a1a940>,\n",
       " <folium.vector_layers.CircleMarker at 0x7f78b6a1a978>,\n",
       " <folium.vector_layers.CircleMarker at 0x7f78b6a1a9b0>,\n",
       " <folium.vector_layers.CircleMarker at 0x7f78b6a1a9e8>,\n",
       " <folium.vector_layers.CircleMarker at 0x7f78b6a1aa20>,\n",
       " <folium.vector_layers.CircleMarker at 0x7f78b6a1aa58>,\n",
       " <folium.vector_layers.CircleMarker at 0x7f78b6a1aa90>,\n",
       " <folium.vector_layers.CircleMarker at 0x7f78b6a1aac8>,\n",
       " <folium.vector_layers.CircleMarker at 0x7f78b6a1ab00>,\n",
       " <folium.vector_layers.CircleMarker at 0x7f78b6a1ab38>,\n",
       " <folium.vector_layers.CircleMarker at 0x7f78b6a1ab70>,\n",
       " <folium.vector_layers.CircleMarker at 0x7f78b6a1aba8>,\n",
       " <folium.vector_layers.CircleMarker at 0x7f78b6a1abe0>,\n",
       " <folium.vector_layers.CircleMarker at 0x7f78b6a1ac18>,\n",
       " <folium.vector_layers.CircleMarker at 0x7f78b6a1ac50>,\n",
       " <folium.vector_layers.CircleMarker at 0x7f78b6a1ac88>,\n",
       " <folium.vector_layers.CircleMarker at 0x7f78b6a1acc0>,\n",
       " <folium.vector_layers.CircleMarker at 0x7f78b6a1acf8>,\n",
       " <folium.vector_layers.CircleMarker at 0x7f78b6a1ad30>,\n",
       " <folium.vector_layers.CircleMarker at 0x7f78b6a1ad68>,\n",
       " <folium.vector_layers.CircleMarker at 0x7f78b6a1ada0>,\n",
       " <folium.vector_layers.CircleMarker at 0x7f78b6a1add8>,\n",
       " <folium.vector_layers.CircleMarker at 0x7f78b6a1ae10>,\n",
       " <folium.vector_layers.CircleMarker at 0x7f78b6a1ae48>,\n",
       " <folium.vector_layers.CircleMarker at 0x7f78b6a1ae80>,\n",
       " <folium.vector_layers.CircleMarker at 0x7f78b6a1aeb8>,\n",
       " <folium.vector_layers.CircleMarker at 0x7f78b6a1aef0>,\n",
       " <folium.vector_layers.CircleMarker at 0x7f78b6a1af28>,\n",
       " <folium.vector_layers.CircleMarker at 0x7f78b6a1af60>,\n",
       " <folium.vector_layers.CircleMarker at 0x7f78b6a1af98>,\n",
       " <folium.vector_layers.CircleMarker at 0x7f78b6a1afd0>,\n",
       " <folium.vector_layers.CircleMarker at 0x7f78b6a1a048>,\n",
       " <folium.vector_layers.CircleMarker at 0x7f78b69a9080>,\n",
       " <folium.vector_layers.CircleMarker at 0x7f78b69a90b8>,\n",
       " <folium.vector_layers.CircleMarker at 0x7f78b69a90f0>,\n",
       " <folium.vector_layers.CircleMarker at 0x7f78b69a9128>,\n",
       " <folium.vector_layers.CircleMarker at 0x7f78b69a9160>,\n",
       " <folium.vector_layers.CircleMarker at 0x7f78b69a9198>,\n",
       " <folium.vector_layers.CircleMarker at 0x7f78b69a91d0>,\n",
       " <folium.vector_layers.CircleMarker at 0x7f78b69a9208>,\n",
       " <folium.vector_layers.CircleMarker at 0x7f78b69a9240>,\n",
       " <folium.vector_layers.CircleMarker at 0x7f78b69a9278>,\n",
       " <folium.vector_layers.CircleMarker at 0x7f78b69a92b0>,\n",
       " <folium.vector_layers.CircleMarker at 0x7f78b69a92e8>,\n",
       " <folium.vector_layers.CircleMarker at 0x7f78b69a9320>,\n",
       " <folium.vector_layers.CircleMarker at 0x7f78b69a9358>,\n",
       " <folium.vector_layers.CircleMarker at 0x7f78b69a9390>,\n",
       " <folium.vector_layers.CircleMarker at 0x7f78b69a93c8>,\n",
       " <folium.vector_layers.CircleMarker at 0x7f78b69a9400>,\n",
       " <folium.vector_layers.CircleMarker at 0x7f78b69a9438>,\n",
       " <folium.vector_layers.CircleMarker at 0x7f78b69a9470>,\n",
       " <folium.vector_layers.CircleMarker at 0x7f78b69a94a8>,\n",
       " <folium.vector_layers.CircleMarker at 0x7f78b69a94e0>,\n",
       " <folium.vector_layers.CircleMarker at 0x7f78b69a9518>,\n",
       " <folium.vector_layers.CircleMarker at 0x7f78b69a9550>,\n",
       " <folium.vector_layers.CircleMarker at 0x7f78b69a9588>,\n",
       " <folium.vector_layers.CircleMarker at 0x7f78b69a95c0>,\n",
       " <folium.vector_layers.CircleMarker at 0x7f78b69a95f8>,\n",
       " <folium.vector_layers.CircleMarker at 0x7f78b69a9630>,\n",
       " <folium.vector_layers.CircleMarker at 0x7f78b69a9668>,\n",
       " <folium.vector_layers.CircleMarker at 0x7f78b69a96a0>,\n",
       " <folium.vector_layers.CircleMarker at 0x7f78b69a96d8>,\n",
       " <folium.vector_layers.CircleMarker at 0x7f78b69a9710>,\n",
       " <folium.vector_layers.CircleMarker at 0x7f78b69a9748>,\n",
       " <folium.vector_layers.CircleMarker at 0x7f78b69a9780>,\n",
       " <folium.vector_layers.CircleMarker at 0x7f78b69a97b8>,\n",
       " <folium.vector_layers.CircleMarker at 0x7f78b69a97f0>,\n",
       " <folium.vector_layers.CircleMarker at 0x7f78b69a9828>,\n",
       " <folium.vector_layers.CircleMarker at 0x7f78b69a9860>,\n",
       " <folium.vector_layers.CircleMarker at 0x7f78b69a9898>,\n",
       " <folium.vector_layers.CircleMarker at 0x7f78b69a98d0>,\n",
       " <folium.vector_layers.CircleMarker at 0x7f78b69a9908>,\n",
       " <folium.vector_layers.CircleMarker at 0x7f78b69a9940>,\n",
       " <folium.vector_layers.CircleMarker at 0x7f78b69a9978>,\n",
       " <folium.vector_layers.CircleMarker at 0x7f78b69a99b0>,\n",
       " <folium.vector_layers.CircleMarker at 0x7f78b69a99e8>,\n",
       " <folium.vector_layers.CircleMarker at 0x7f78b69a9a20>,\n",
       " <folium.vector_layers.CircleMarker at 0x7f78b69a9a58>,\n",
       " <folium.vector_layers.CircleMarker at 0x7f78b69a9a90>,\n",
       " <folium.vector_layers.CircleMarker at 0x7f78b69a9ac8>,\n",
       " <folium.vector_layers.CircleMarker at 0x7f78b69a9b00>,\n",
       " <folium.vector_layers.CircleMarker at 0x7f78b69a9b38>,\n",
       " <folium.vector_layers.CircleMarker at 0x7f78b69a9b70>,\n",
       " <folium.vector_layers.CircleMarker at 0x7f78b69a9ba8>,\n",
       " <folium.vector_layers.CircleMarker at 0x7f78b69a9be0>,\n",
       " <folium.vector_layers.CircleMarker at 0x7f78b69a9c18>,\n",
       " <folium.vector_layers.CircleMarker at 0x7f78b69a9c50>,\n",
       " <folium.vector_layers.CircleMarker at 0x7f78b69a9c88>,\n",
       " <folium.vector_layers.CircleMarker at 0x7f78b69a9cc0>,\n",
       " <folium.vector_layers.CircleMarker at 0x7f78b69a9cf8>,\n",
       " <folium.vector_layers.CircleMarker at 0x7f78b69a9d30>,\n",
       " <folium.vector_layers.CircleMarker at 0x7f78b69a9d68>,\n",
       " <folium.vector_layers.CircleMarker at 0x7f78b69a9da0>,\n",
       " <folium.vector_layers.CircleMarker at 0x7f78b69a9dd8>,\n",
       " <folium.vector_layers.CircleMarker at 0x7f78b69a9e10>,\n",
       " <folium.vector_layers.CircleMarker at 0x7f78b69a9e48>,\n",
       " <folium.vector_layers.CircleMarker at 0x7f78b69a9e80>,\n",
       " <folium.vector_layers.CircleMarker at 0x7f78b69a9eb8>,\n",
       " <folium.vector_layers.CircleMarker at 0x7f78b69a9ef0>,\n",
       " <folium.vector_layers.CircleMarker at 0x7f78b69a9f28>,\n",
       " <folium.vector_layers.CircleMarker at 0x7f78b69a9f60>,\n",
       " <folium.vector_layers.CircleMarker at 0x7f78b69a9f98>,\n",
       " <folium.vector_layers.CircleMarker at 0x7f78b69a9fd0>,\n",
       " <folium.vector_layers.CircleMarker at 0x7f78b69a9048>,\n",
       " <folium.vector_layers.CircleMarker at 0x7f78b69b6080>,\n",
       " <folium.vector_layers.CircleMarker at 0x7f78b69b60b8>,\n",
       " <folium.vector_layers.CircleMarker at 0x7f78b69b60f0>,\n",
       " <folium.vector_layers.CircleMarker at 0x7f78b69b6128>,\n",
       " <folium.vector_layers.CircleMarker at 0x7f78b69b6160>,\n",
       " <folium.vector_layers.CircleMarker at 0x7f78b69b6198>,\n",
       " <folium.vector_layers.CircleMarker at 0x7f78b69b61d0>,\n",
       " <folium.vector_layers.CircleMarker at 0x7f78b69b6208>,\n",
       " <folium.vector_layers.CircleMarker at 0x7f78b69b6240>,\n",
       " <folium.vector_layers.CircleMarker at 0x7f78b69b6278>,\n",
       " <folium.vector_layers.CircleMarker at 0x7f78b69b62b0>,\n",
       " <folium.vector_layers.CircleMarker at 0x7f78b69b62e8>,\n",
       " <folium.vector_layers.CircleMarker at 0x7f78b69b6320>,\n",
       " <folium.vector_layers.CircleMarker at 0x7f78b69b6358>,\n",
       " <folium.vector_layers.CircleMarker at 0x7f78b69b6390>,\n",
       " <folium.vector_layers.CircleMarker at 0x7f78b69b63c8>,\n",
       " <folium.vector_layers.CircleMarker at 0x7f78b69b6400>,\n",
       " <folium.vector_layers.CircleMarker at 0x7f78b69b6438>,\n",
       " <folium.vector_layers.CircleMarker at 0x7f78b69b6470>,\n",
       " <folium.vector_layers.CircleMarker at 0x7f78b69b64a8>,\n",
       " <folium.vector_layers.CircleMarker at 0x7f78b69b64e0>,\n",
       " <folium.vector_layers.CircleMarker at 0x7f78b69b6518>,\n",
       " <folium.vector_layers.CircleMarker at 0x7f78b69b6550>,\n",
       " <folium.vector_layers.CircleMarker at 0x7f78b69b6588>,\n",
       " <folium.vector_layers.CircleMarker at 0x7f78b69b65c0>,\n",
       " <folium.vector_layers.CircleMarker at 0x7f78b69b65f8>,\n",
       " <folium.vector_layers.CircleMarker at 0x7f78b69b6630>,\n",
       " <folium.vector_layers.CircleMarker at 0x7f78b69b6668>,\n",
       " <folium.vector_layers.CircleMarker at 0x7f78b69b66a0>,\n",
       " <folium.vector_layers.CircleMarker at 0x7f78b69b66d8>,\n",
       " <folium.vector_layers.CircleMarker at 0x7f78b69b6710>,\n",
       " <folium.vector_layers.CircleMarker at 0x7f78b69b6748>,\n",
       " <folium.vector_layers.CircleMarker at 0x7f78b69b6780>,\n",
       " <folium.vector_layers.CircleMarker at 0x7f78b69b67b8>,\n",
       " <folium.vector_layers.CircleMarker at 0x7f78b69b67f0>,\n",
       " <folium.vector_layers.CircleMarker at 0x7f78b69b6828>,\n",
       " <folium.vector_layers.CircleMarker at 0x7f78b69b6860>,\n",
       " <folium.vector_layers.CircleMarker at 0x7f78b69b6898>,\n",
       " <folium.vector_layers.CircleMarker at 0x7f78b69b68d0>,\n",
       " <folium.vector_layers.CircleMarker at 0x7f78b69b6908>,\n",
       " <folium.vector_layers.CircleMarker at 0x7f78b69b6940>,\n",
       " <folium.vector_layers.CircleMarker at 0x7f78b69b6978>,\n",
       " <folium.vector_layers.CircleMarker at 0x7f78b69b69b0>,\n",
       " <folium.vector_layers.CircleMarker at 0x7f78b69b69e8>,\n",
       " <folium.vector_layers.CircleMarker at 0x7f78b69b6a20>,\n",
       " <folium.vector_layers.CircleMarker at 0x7f78b69b6a58>,\n",
       " <folium.vector_layers.CircleMarker at 0x7f78b69b6a90>,\n",
       " <folium.vector_layers.CircleMarker at 0x7f78b69b6ac8>,\n",
       " <folium.vector_layers.CircleMarker at 0x7f78b69b6b00>,\n",
       " <folium.vector_layers.CircleMarker at 0x7f78b69b6b38>,\n",
       " <folium.vector_layers.CircleMarker at 0x7f78b69b6b70>,\n",
       " <folium.vector_layers.CircleMarker at 0x7f78b69b6ba8>,\n",
       " <folium.vector_layers.CircleMarker at 0x7f78b69b6be0>,\n",
       " <folium.vector_layers.CircleMarker at 0x7f78b69b6c18>,\n",
       " <folium.vector_layers.CircleMarker at 0x7f78b69b6c50>,\n",
       " <folium.vector_layers.CircleMarker at 0x7f78b69b6c88>,\n",
       " <folium.vector_layers.CircleMarker at 0x7f78b69b6cc0>,\n",
       " <folium.vector_layers.CircleMarker at 0x7f78b69b6cf8>,\n",
       " <folium.vector_layers.CircleMarker at 0x7f78b69b6d30>,\n",
       " <folium.vector_layers.CircleMarker at 0x7f78b69b6d68>,\n",
       " <folium.vector_layers.CircleMarker at 0x7f78b69b6da0>,\n",
       " <folium.vector_layers.CircleMarker at 0x7f78b69b6dd8>,\n",
       " <folium.vector_layers.CircleMarker at 0x7f78b69b6e10>,\n",
       " <folium.vector_layers.CircleMarker at 0x7f78b69b6e48>,\n",
       " <folium.vector_layers.CircleMarker at 0x7f78b69b6e80>,\n",
       " <folium.vector_layers.CircleMarker at 0x7f78b69b6eb8>,\n",
       " <folium.vector_layers.CircleMarker at 0x7f78b69b6ef0>,\n",
       " <folium.vector_layers.CircleMarker at 0x7f78b69b6f28>,\n",
       " <folium.vector_layers.CircleMarker at 0x7f78b69b6f60>,\n",
       " <folium.vector_layers.CircleMarker at 0x7f78b69b6f98>,\n",
       " <folium.vector_layers.CircleMarker at 0x7f78b69b6fd0>,\n",
       " <folium.vector_layers.CircleMarker at 0x7f78b69b6048>,\n",
       " <folium.vector_layers.CircleMarker at 0x7f78b69c5080>,\n",
       " <folium.vector_layers.CircleMarker at 0x7f78b69c50b8>,\n",
       " <folium.vector_layers.CircleMarker at 0x7f78b69c50f0>,\n",
       " <folium.vector_layers.CircleMarker at 0x7f78b69c5128>,\n",
       " <folium.vector_layers.CircleMarker at 0x7f78b69c5160>,\n",
       " <folium.vector_layers.CircleMarker at 0x7f78b69c5198>,\n",
       " <folium.vector_layers.CircleMarker at 0x7f78b69c51d0>,\n",
       " <folium.vector_layers.CircleMarker at 0x7f78b69c5208>,\n",
       " <folium.vector_layers.CircleMarker at 0x7f78b69c5240>,\n",
       " <folium.vector_layers.CircleMarker at 0x7f78b69c5278>,\n",
       " <folium.vector_layers.CircleMarker at 0x7f78b69c52b0>,\n",
       " <folium.vector_layers.CircleMarker at 0x7f78b69c52e8>,\n",
       " <folium.vector_layers.CircleMarker at 0x7f78b69c5320>,\n",
       " <folium.vector_layers.CircleMarker at 0x7f78b69c5358>,\n",
       " <folium.vector_layers.CircleMarker at 0x7f78b69c5390>,\n",
       " <folium.vector_layers.CircleMarker at 0x7f78b69c53c8>,\n",
       " <folium.vector_layers.CircleMarker at 0x7f78b69c5400>,\n",
       " <folium.vector_layers.CircleMarker at 0x7f78b69c5438>,\n",
       " <folium.vector_layers.CircleMarker at 0x7f78b69c5470>,\n",
       " <folium.vector_layers.CircleMarker at 0x7f78b69c54a8>,\n",
       " <folium.vector_layers.CircleMarker at 0x7f78b69c54e0>,\n",
       " <folium.vector_layers.CircleMarker at 0x7f78b69c5518>,\n",
       " <folium.vector_layers.CircleMarker at 0x7f78b69c5550>,\n",
       " <folium.vector_layers.CircleMarker at 0x7f78b69c5588>,\n",
       " <folium.vector_layers.CircleMarker at 0x7f78b69c55c0>,\n",
       " <folium.vector_layers.CircleMarker at 0x7f78b69c55f8>,\n",
       " <folium.vector_layers.CircleMarker at 0x7f78b69c5630>,\n",
       " <folium.vector_layers.CircleMarker at 0x7f78b69c5668>,\n",
       " <folium.vector_layers.CircleMarker at 0x7f78b69c56a0>,\n",
       " <folium.vector_layers.CircleMarker at 0x7f78b69c56d8>,\n",
       " <folium.vector_layers.CircleMarker at 0x7f78b69c5710>,\n",
       " <folium.vector_layers.CircleMarker at 0x7f78b69c5748>,\n",
       " <folium.vector_layers.CircleMarker at 0x7f78b69c5780>,\n",
       " <folium.vector_layers.CircleMarker at 0x7f78b69c57b8>,\n",
       " <folium.vector_layers.CircleMarker at 0x7f78b69c57f0>,\n",
       " <folium.vector_layers.CircleMarker at 0x7f78b69c5828>,\n",
       " <folium.vector_layers.CircleMarker at 0x7f78b69c5860>,\n",
       " <folium.vector_layers.CircleMarker at 0x7f78b69c5898>,\n",
       " <folium.vector_layers.CircleMarker at 0x7f78b69c58d0>,\n",
       " <folium.vector_layers.CircleMarker at 0x7f78b69c5908>,\n",
       " <folium.vector_layers.CircleMarker at 0x7f78b69c5940>,\n",
       " <folium.vector_layers.CircleMarker at 0x7f78b69c5978>,\n",
       " <folium.vector_layers.CircleMarker at 0x7f78b69c59b0>,\n",
       " <folium.vector_layers.CircleMarker at 0x7f78b69c59e8>,\n",
       " <folium.vector_layers.CircleMarker at 0x7f78b69c5a20>,\n",
       " <folium.vector_layers.CircleMarker at 0x7f78b69c5a58>,\n",
       " <folium.vector_layers.CircleMarker at 0x7f78b69c5a90>,\n",
       " <folium.vector_layers.CircleMarker at 0x7f78b69c5ac8>,\n",
       " <folium.vector_layers.CircleMarker at 0x7f78b69c5b00>,\n",
       " <folium.vector_layers.CircleMarker at 0x7f78b69c5b38>,\n",
       " <folium.vector_layers.CircleMarker at 0x7f78b69c5b70>,\n",
       " <folium.vector_layers.CircleMarker at 0x7f78b69c5ba8>,\n",
       " <folium.vector_layers.CircleMarker at 0x7f78b69c5be0>,\n",
       " <folium.vector_layers.CircleMarker at 0x7f78b69c5c18>,\n",
       " <folium.vector_layers.CircleMarker at 0x7f78b69c5c50>,\n",
       " <folium.vector_layers.CircleMarker at 0x7f78b69c5c88>,\n",
       " <folium.vector_layers.CircleMarker at 0x7f78b69c5cc0>,\n",
       " <folium.vector_layers.CircleMarker at 0x7f78b69c5cf8>,\n",
       " <folium.vector_layers.CircleMarker at 0x7f78b69c5d30>,\n",
       " <folium.vector_layers.CircleMarker at 0x7f78b69c5d68>,\n",
       " <folium.vector_layers.CircleMarker at 0x7f78b69c5da0>,\n",
       " <folium.vector_layers.CircleMarker at 0x7f78b69c5dd8>,\n",
       " <folium.vector_layers.CircleMarker at 0x7f78b69c5e10>,\n",
       " <folium.vector_layers.CircleMarker at 0x7f78b69c5e48>,\n",
       " <folium.vector_layers.CircleMarker at 0x7f78b69c5e80>,\n",
       " <folium.vector_layers.CircleMarker at 0x7f78b69c5eb8>,\n",
       " <folium.vector_layers.CircleMarker at 0x7f78b69c5ef0>,\n",
       " <folium.vector_layers.CircleMarker at 0x7f78b69c5f28>,\n",
       " <folium.vector_layers.CircleMarker at 0x7f78b69c5f60>,\n",
       " <folium.vector_layers.CircleMarker at 0x7f78b69c5f98>,\n",
       " <folium.vector_layers.CircleMarker at 0x7f78b69c5fd0>,\n",
       " <folium.vector_layers.CircleMarker at 0x7f78b69c5048>,\n",
       " <folium.vector_layers.CircleMarker at 0x7f78b69d2080>,\n",
       " <folium.vector_layers.CircleMarker at 0x7f78b69d20b8>,\n",
       " <folium.vector_layers.CircleMarker at 0x7f78b69d20f0>,\n",
       " <folium.vector_layers.CircleMarker at 0x7f78b69d2128>,\n",
       " <folium.vector_layers.CircleMarker at 0x7f78b69d2160>,\n",
       " <folium.vector_layers.CircleMarker at 0x7f78b69d2198>,\n",
       " <folium.vector_layers.CircleMarker at 0x7f78b69d21d0>,\n",
       " <folium.vector_layers.CircleMarker at 0x7f78b69d2208>,\n",
       " <folium.vector_layers.CircleMarker at 0x7f78b69d2240>,\n",
       " <folium.vector_layers.CircleMarker at 0x7f78b69d2278>,\n",
       " <folium.vector_layers.CircleMarker at 0x7f78b69d22b0>,\n",
       " <folium.vector_layers.CircleMarker at 0x7f78b69d22e8>,\n",
       " <folium.vector_layers.CircleMarker at 0x7f78b69d2320>,\n",
       " <folium.vector_layers.CircleMarker at 0x7f78b69d2358>,\n",
       " <folium.vector_layers.CircleMarker at 0x7f78b69d2390>,\n",
       " <folium.vector_layers.CircleMarker at 0x7f78b69d23c8>,\n",
       " <folium.vector_layers.CircleMarker at 0x7f78b69d2400>,\n",
       " <folium.vector_layers.CircleMarker at 0x7f78b69d2438>,\n",
       " <folium.vector_layers.CircleMarker at 0x7f78b69d2470>,\n",
       " <folium.vector_layers.CircleMarker at 0x7f78b69d24a8>,\n",
       " <folium.vector_layers.CircleMarker at 0x7f78b69d24e0>,\n",
       " <folium.vector_layers.CircleMarker at 0x7f78b69d2518>,\n",
       " <folium.vector_layers.CircleMarker at 0x7f78b69d2550>,\n",
       " <folium.vector_layers.CircleMarker at 0x7f78b69d2588>,\n",
       " <folium.vector_layers.CircleMarker at 0x7f78b69d25c0>,\n",
       " <folium.vector_layers.CircleMarker at 0x7f78b69d25f8>,\n",
       " <folium.vector_layers.CircleMarker at 0x7f78b69d2630>,\n",
       " <folium.vector_layers.CircleMarker at 0x7f78b69d2668>,\n",
       " <folium.vector_layers.CircleMarker at 0x7f78b69d26a0>,\n",
       " <folium.vector_layers.CircleMarker at 0x7f78b69d26d8>,\n",
       " <folium.vector_layers.CircleMarker at 0x7f78b69d2710>,\n",
       " <folium.vector_layers.CircleMarker at 0x7f78b69d2748>,\n",
       " <folium.vector_layers.CircleMarker at 0x7f78b69d2780>,\n",
       " <folium.vector_layers.CircleMarker at 0x7f78b69d27b8>,\n",
       " <folium.vector_layers.CircleMarker at 0x7f78b69d27f0>,\n",
       " <folium.vector_layers.CircleMarker at 0x7f78b69d2828>,\n",
       " <folium.vector_layers.CircleMarker at 0x7f78b69d2860>,\n",
       " <folium.vector_layers.CircleMarker at 0x7f78b69d2898>,\n",
       " <folium.vector_layers.CircleMarker at 0x7f78b69d28d0>,\n",
       " <folium.vector_layers.CircleMarker at 0x7f78b69d2908>,\n",
       " <folium.vector_layers.CircleMarker at 0x7f78b69d2940>,\n",
       " <folium.vector_layers.CircleMarker at 0x7f78b69d2978>,\n",
       " <folium.vector_layers.CircleMarker at 0x7f78b69d29b0>,\n",
       " <folium.vector_layers.CircleMarker at 0x7f78b69d29e8>,\n",
       " <folium.vector_layers.CircleMarker at 0x7f78b69d2a20>,\n",
       " <folium.vector_layers.CircleMarker at 0x7f78b69d2a58>,\n",
       " <folium.vector_layers.CircleMarker at 0x7f78b69d2a90>,\n",
       " <folium.vector_layers.CircleMarker at 0x7f78b69d2ac8>,\n",
       " <folium.vector_layers.CircleMarker at 0x7f78b69d2b00>,\n",
       " <folium.vector_layers.CircleMarker at 0x7f78b69d2b38>,\n",
       " <folium.vector_layers.CircleMarker at 0x7f78b69d2b70>,\n",
       " <folium.vector_layers.CircleMarker at 0x7f78b69d2ba8>,\n",
       " <folium.vector_layers.CircleMarker at 0x7f78b69d2be0>,\n",
       " <folium.vector_layers.CircleMarker at 0x7f78b69d2c18>,\n",
       " <folium.vector_layers.CircleMarker at 0x7f78b69d2c50>,\n",
       " <folium.vector_layers.CircleMarker at 0x7f78b69d2c88>,\n",
       " <folium.vector_layers.CircleMarker at 0x7f78b69d2cc0>,\n",
       " <folium.vector_layers.CircleMarker at 0x7f78b69d2cf8>,\n",
       " <folium.vector_layers.CircleMarker at 0x7f78b69d2d30>,\n",
       " <folium.vector_layers.CircleMarker at 0x7f78b69d2d68>,\n",
       " <folium.vector_layers.CircleMarker at 0x7f78b69d2da0>,\n",
       " <folium.vector_layers.CircleMarker at 0x7f78b69d2dd8>,\n",
       " <folium.vector_layers.CircleMarker at 0x7f78b69d2e10>,\n",
       " <folium.vector_layers.CircleMarker at 0x7f78b69d2e48>,\n",
       " <folium.vector_layers.CircleMarker at 0x7f78b69d2e80>,\n",
       " <folium.vector_layers.CircleMarker at 0x7f78b69d2eb8>,\n",
       " <folium.vector_layers.CircleMarker at 0x7f78b69d2ef0>,\n",
       " <folium.vector_layers.CircleMarker at 0x7f78b69d2f28>,\n",
       " <folium.vector_layers.CircleMarker at 0x7f78b69d2f60>,\n",
       " <folium.vector_layers.CircleMarker at 0x7f78b69d2f98>,\n",
       " <folium.vector_layers.CircleMarker at 0x7f78b69d2fd0>,\n",
       " <folium.vector_layers.CircleMarker at 0x7f78b69d2048>,\n",
       " <folium.vector_layers.CircleMarker at 0x7f78b69e0080>,\n",
       " <folium.vector_layers.CircleMarker at 0x7f78b69e00b8>,\n",
       " <folium.vector_layers.CircleMarker at 0x7f78b69e00f0>,\n",
       " <folium.vector_layers.CircleMarker at 0x7f78b69e0128>,\n",
       " <folium.vector_layers.CircleMarker at 0x7f78b69e0160>,\n",
       " <folium.vector_layers.CircleMarker at 0x7f78b69e0198>,\n",
       " <folium.vector_layers.CircleMarker at 0x7f78b69e01d0>,\n",
       " <folium.vector_layers.CircleMarker at 0x7f78b69e0208>,\n",
       " <folium.vector_layers.CircleMarker at 0x7f78b69e0240>,\n",
       " <folium.vector_layers.CircleMarker at 0x7f78b69e0278>,\n",
       " <folium.vector_layers.CircleMarker at 0x7f78b69e02b0>,\n",
       " <folium.vector_layers.CircleMarker at 0x7f78b69e02e8>,\n",
       " <folium.vector_layers.CircleMarker at 0x7f78b69e0320>,\n",
       " <folium.vector_layers.CircleMarker at 0x7f78b69e0358>,\n",
       " <folium.vector_layers.CircleMarker at 0x7f78b69e0390>,\n",
       " <folium.vector_layers.CircleMarker at 0x7f78b69e03c8>,\n",
       " <folium.vector_layers.CircleMarker at 0x7f78b69e0400>,\n",
       " <folium.vector_layers.CircleMarker at 0x7f78b69e0438>,\n",
       " <folium.vector_layers.CircleMarker at 0x7f78b69e0470>,\n",
       " <folium.vector_layers.CircleMarker at 0x7f78b69e04a8>,\n",
       " <folium.vector_layers.CircleMarker at 0x7f78b69e04e0>,\n",
       " <folium.vector_layers.CircleMarker at 0x7f78b69e0518>,\n",
       " <folium.vector_layers.CircleMarker at 0x7f78b69e0550>,\n",
       " <folium.vector_layers.CircleMarker at 0x7f78b69e0588>,\n",
       " <folium.vector_layers.CircleMarker at 0x7f78b69e05c0>,\n",
       " <folium.vector_layers.CircleMarker at 0x7f78b69e05f8>,\n",
       " <folium.vector_layers.CircleMarker at 0x7f78b69e0630>,\n",
       " <folium.vector_layers.CircleMarker at 0x7f78b69e0668>,\n",
       " <folium.vector_layers.CircleMarker at 0x7f78b69e06a0>,\n",
       " <folium.vector_layers.CircleMarker at 0x7f78b69e06d8>,\n",
       " <folium.vector_layers.CircleMarker at 0x7f78b69e0710>,\n",
       " <folium.vector_layers.CircleMarker at 0x7f78b69e0748>,\n",
       " <folium.vector_layers.CircleMarker at 0x7f78b69e0780>,\n",
       " <folium.vector_layers.CircleMarker at 0x7f78b69e07b8>,\n",
       " <folium.vector_layers.CircleMarker at 0x7f78b69e07f0>,\n",
       " <folium.vector_layers.CircleMarker at 0x7f78b69e0828>,\n",
       " <folium.vector_layers.CircleMarker at 0x7f78b69e0860>,\n",
       " <folium.vector_layers.CircleMarker at 0x7f78b69e0898>,\n",
       " <folium.vector_layers.CircleMarker at 0x7f78b69e08d0>,\n",
       " <folium.vector_layers.CircleMarker at 0x7f78b69e0908>,\n",
       " <folium.vector_layers.CircleMarker at 0x7f78b69e0940>,\n",
       " <folium.vector_layers.CircleMarker at 0x7f78b69e0978>,\n",
       " <folium.vector_layers.CircleMarker at 0x7f78b69e09b0>,\n",
       " <folium.vector_layers.CircleMarker at 0x7f78b69e09e8>,\n",
       " <folium.vector_layers.CircleMarker at 0x7f78b69e0a20>,\n",
       " <folium.vector_layers.CircleMarker at 0x7f78b69e0a58>,\n",
       " <folium.vector_layers.CircleMarker at 0x7f78b69e0a90>,\n",
       " <folium.vector_layers.CircleMarker at 0x7f78b69e0ac8>,\n",
       " <folium.vector_layers.CircleMarker at 0x7f78b69e0b00>,\n",
       " <folium.vector_layers.CircleMarker at 0x7f78b69e0b38>,\n",
       " <folium.vector_layers.CircleMarker at 0x7f78b69e0b70>,\n",
       " <folium.vector_layers.CircleMarker at 0x7f78b69e0ba8>,\n",
       " <folium.vector_layers.CircleMarker at 0x7f78b69e0be0>,\n",
       " <folium.vector_layers.CircleMarker at 0x7f78b69e0c18>,\n",
       " <folium.vector_layers.CircleMarker at 0x7f78b69e0c50>,\n",
       " <folium.vector_layers.CircleMarker at 0x7f78b69e0c88>,\n",
       " <folium.vector_layers.CircleMarker at 0x7f78b69e0cc0>,\n",
       " <folium.vector_layers.CircleMarker at 0x7f78b69e0cf8>,\n",
       " <folium.vector_layers.CircleMarker at 0x7f78b69e0d30>,\n",
       " <folium.vector_layers.CircleMarker at 0x7f78b69e0d68>,\n",
       " <folium.vector_layers.CircleMarker at 0x7f78b69e0da0>,\n",
       " <folium.vector_layers.CircleMarker at 0x7f78b69e0dd8>,\n",
       " <folium.vector_layers.CircleMarker at 0x7f78b69e0e10>,\n",
       " <folium.vector_layers.CircleMarker at 0x7f78b69e0e48>,\n",
       " <folium.vector_layers.CircleMarker at 0x7f78b69e0e80>,\n",
       " <folium.vector_layers.CircleMarker at 0x7f78b69e0eb8>,\n",
       " <folium.vector_layers.CircleMarker at 0x7f78b69e0ef0>,\n",
       " <folium.vector_layers.CircleMarker at 0x7f78b69e0f28>,\n",
       " <folium.vector_layers.CircleMarker at 0x7f78b69e0f60>,\n",
       " <folium.vector_layers.CircleMarker at 0x7f78b69e0f98>,\n",
       " <folium.vector_layers.CircleMarker at 0x7f78b69e0fd0>,\n",
       " <folium.vector_layers.CircleMarker at 0x7f78b69e0048>,\n",
       " <folium.vector_layers.CircleMarker at 0x7f78b696e080>,\n",
       " <folium.vector_layers.CircleMarker at 0x7f78b696e0b8>,\n",
       " <folium.vector_layers.CircleMarker at 0x7f78b696e0f0>,\n",
       " <folium.vector_layers.CircleMarker at 0x7f78b696e128>,\n",
       " <folium.vector_layers.CircleMarker at 0x7f78b696e160>,\n",
       " <folium.vector_layers.CircleMarker at 0x7f78b696e198>,\n",
       " <folium.vector_layers.CircleMarker at 0x7f78b696e1d0>,\n",
       " <folium.vector_layers.CircleMarker at 0x7f78b696e208>,\n",
       " <folium.vector_layers.CircleMarker at 0x7f78b696e240>,\n",
       " <folium.vector_layers.CircleMarker at 0x7f78b696e278>,\n",
       " <folium.vector_layers.CircleMarker at 0x7f78b696e2b0>,\n",
       " <folium.vector_layers.CircleMarker at 0x7f78b696e2e8>,\n",
       " <folium.vector_layers.CircleMarker at 0x7f78b696e320>,\n",
       " <folium.vector_layers.CircleMarker at 0x7f78b696e358>,\n",
       " <folium.vector_layers.CircleMarker at 0x7f78b696e390>,\n",
       " <folium.vector_layers.CircleMarker at 0x7f78b696e3c8>,\n",
       " <folium.vector_layers.CircleMarker at 0x7f78b696e400>,\n",
       " <folium.vector_layers.CircleMarker at 0x7f78b696e438>,\n",
       " <folium.vector_layers.CircleMarker at 0x7f78b696e470>,\n",
       " <folium.vector_layers.CircleMarker at 0x7f78b696e4a8>,\n",
       " <folium.vector_layers.CircleMarker at 0x7f78b696e4e0>,\n",
       " <folium.vector_layers.CircleMarker at 0x7f78b696e518>,\n",
       " <folium.vector_layers.CircleMarker at 0x7f78b696e550>,\n",
       " <folium.vector_layers.CircleMarker at 0x7f78b696e588>,\n",
       " <folium.vector_layers.CircleMarker at 0x7f78b696e5c0>,\n",
       " <folium.vector_layers.CircleMarker at 0x7f78b696e5f8>,\n",
       " <folium.vector_layers.CircleMarker at 0x7f78b696e630>,\n",
       " <folium.vector_layers.CircleMarker at 0x7f78b696e668>,\n",
       " <folium.vector_layers.CircleMarker at 0x7f78b696e6a0>,\n",
       " <folium.vector_layers.CircleMarker at 0x7f78b696e6d8>,\n",
       " <folium.vector_layers.CircleMarker at 0x7f78b696e710>,\n",
       " <folium.vector_layers.CircleMarker at 0x7f78b696e748>,\n",
       " <folium.vector_layers.CircleMarker at 0x7f78b696e780>,\n",
       " <folium.vector_layers.CircleMarker at 0x7f78b696e7b8>,\n",
       " <folium.vector_layers.CircleMarker at 0x7f78b696e7f0>,\n",
       " <folium.vector_layers.CircleMarker at 0x7f78b696e828>,\n",
       " <folium.vector_layers.CircleMarker at 0x7f78b696e860>,\n",
       " <folium.vector_layers.CircleMarker at 0x7f78b696e898>,\n",
       " <folium.vector_layers.CircleMarker at 0x7f78b696e8d0>,\n",
       " <folium.vector_layers.CircleMarker at 0x7f78b696e908>,\n",
       " <folium.vector_layers.CircleMarker at 0x7f78b696e940>,\n",
       " <folium.vector_layers.CircleMarker at 0x7f78b696e978>,\n",
       " <folium.vector_layers.CircleMarker at 0x7f78b696e9b0>,\n",
       " <folium.vector_layers.CircleMarker at 0x7f78b696e9e8>,\n",
       " <folium.vector_layers.CircleMarker at 0x7f78b696ea20>,\n",
       " <folium.vector_layers.CircleMarker at 0x7f78b696ea58>,\n",
       " <folium.vector_layers.CircleMarker at 0x7f78b696ea90>,\n",
       " <folium.vector_layers.CircleMarker at 0x7f78b696eac8>,\n",
       " <folium.vector_layers.CircleMarker at 0x7f78b696eb00>,\n",
       " <folium.vector_layers.CircleMarker at 0x7f78b696eb38>,\n",
       " <folium.vector_layers.CircleMarker at 0x7f78b696eb70>,\n",
       " <folium.vector_layers.CircleMarker at 0x7f78b696eba8>,\n",
       " <folium.vector_layers.CircleMarker at 0x7f78b696ebe0>,\n",
       " <folium.vector_layers.CircleMarker at 0x7f78b696ec18>,\n",
       " <folium.vector_layers.CircleMarker at 0x7f78b696ec50>,\n",
       " <folium.vector_layers.CircleMarker at 0x7f78b696ec88>,\n",
       " <folium.vector_layers.CircleMarker at 0x7f78b696ecc0>,\n",
       " <folium.vector_layers.CircleMarker at 0x7f78b696ecf8>,\n",
       " <folium.vector_layers.CircleMarker at 0x7f78b696ed30>,\n",
       " <folium.vector_layers.CircleMarker at 0x7f78b696ed68>,\n",
       " <folium.vector_layers.CircleMarker at 0x7f78b696eda0>,\n",
       " <folium.vector_layers.CircleMarker at 0x7f78b696edd8>,\n",
       " <folium.vector_layers.CircleMarker at 0x7f78b696ee10>,\n",
       " <folium.vector_layers.CircleMarker at 0x7f78b696ee48>,\n",
       " <folium.vector_layers.CircleMarker at 0x7f78b696ee80>,\n",
       " <folium.vector_layers.CircleMarker at 0x7f78b696eeb8>,\n",
       " <folium.vector_layers.CircleMarker at 0x7f78b696eef0>,\n",
       " <folium.vector_layers.CircleMarker at 0x7f78b696ef28>,\n",
       " <folium.vector_layers.CircleMarker at 0x7f78b696ef60>,\n",
       " <folium.vector_layers.CircleMarker at 0x7f78b696ef98>,\n",
       " <folium.vector_layers.CircleMarker at 0x7f78b696efd0>,\n",
       " <folium.vector_layers.CircleMarker at 0x7f78b696e048>,\n",
       " <folium.vector_layers.CircleMarker at 0x7f78b697b080>,\n",
       " <folium.vector_layers.CircleMarker at 0x7f78b697b0b8>,\n",
       " <folium.vector_layers.CircleMarker at 0x7f78b697b0f0>,\n",
       " <folium.vector_layers.CircleMarker at 0x7f78b697b128>,\n",
       " <folium.vector_layers.CircleMarker at 0x7f78b697b160>,\n",
       " <folium.vector_layers.CircleMarker at 0x7f78b697b198>,\n",
       " <folium.vector_layers.CircleMarker at 0x7f78b697b1d0>,\n",
       " <folium.vector_layers.CircleMarker at 0x7f78b697b208>,\n",
       " <folium.vector_layers.CircleMarker at 0x7f78b697b240>,\n",
       " <folium.vector_layers.CircleMarker at 0x7f78b697b278>,\n",
       " <folium.vector_layers.CircleMarker at 0x7f78b697b2b0>,\n",
       " <folium.vector_layers.CircleMarker at 0x7f78b697b2e8>,\n",
       " <folium.vector_layers.CircleMarker at 0x7f78b697b320>,\n",
       " <folium.vector_layers.CircleMarker at 0x7f78b697b358>,\n",
       " <folium.vector_layers.CircleMarker at 0x7f78b697b390>,\n",
       " <folium.vector_layers.CircleMarker at 0x7f78b697b3c8>,\n",
       " <folium.vector_layers.CircleMarker at 0x7f78b697b400>,\n",
       " <folium.vector_layers.CircleMarker at 0x7f78b697b438>,\n",
       " <folium.vector_layers.CircleMarker at 0x7f78b697b470>,\n",
       " <folium.vector_layers.CircleMarker at 0x7f78b697b4a8>,\n",
       " <folium.vector_layers.CircleMarker at 0x7f78b697b4e0>,\n",
       " <folium.vector_layers.CircleMarker at 0x7f78b697b518>,\n",
       " <folium.vector_layers.CircleMarker at 0x7f78b697b550>,\n",
       " <folium.vector_layers.CircleMarker at 0x7f78b697b588>,\n",
       " <folium.vector_layers.CircleMarker at 0x7f78b697b5c0>,\n",
       " <folium.vector_layers.CircleMarker at 0x7f78b697b5f8>,\n",
       " <folium.vector_layers.CircleMarker at 0x7f78b697b630>,\n",
       " <folium.vector_layers.CircleMarker at 0x7f78b697b668>,\n",
       " <folium.vector_layers.CircleMarker at 0x7f78b697b6a0>,\n",
       " <folium.vector_layers.CircleMarker at 0x7f78b697b6d8>,\n",
       " <folium.vector_layers.CircleMarker at 0x7f78b697b710>,\n",
       " <folium.vector_layers.CircleMarker at 0x7f78b697b748>,\n",
       " <folium.vector_layers.CircleMarker at 0x7f78b697b780>,\n",
       " <folium.vector_layers.CircleMarker at 0x7f78b697b7b8>,\n",
       " <folium.vector_layers.CircleMarker at 0x7f78b697b7f0>,\n",
       " <folium.vector_layers.CircleMarker at 0x7f78b697b828>,\n",
       " <folium.vector_layers.CircleMarker at 0x7f78b697b860>,\n",
       " <folium.vector_layers.CircleMarker at 0x7f78b697b898>,\n",
       " <folium.vector_layers.CircleMarker at 0x7f78b697b8d0>,\n",
       " <folium.vector_layers.CircleMarker at 0x7f78b697b908>,\n",
       " <folium.vector_layers.CircleMarker at 0x7f78b697b940>,\n",
       " <folium.vector_layers.CircleMarker at 0x7f78b697b978>,\n",
       " <folium.vector_layers.CircleMarker at 0x7f78b697b9b0>,\n",
       " <folium.vector_layers.CircleMarker at 0x7f78b697b9e8>,\n",
       " <folium.vector_layers.CircleMarker at 0x7f78b697ba20>,\n",
       " <folium.vector_layers.CircleMarker at 0x7f78b697ba58>,\n",
       " <folium.vector_layers.CircleMarker at 0x7f78b697ba90>,\n",
       " <folium.vector_layers.CircleMarker at 0x7f78b697bac8>,\n",
       " <folium.vector_layers.CircleMarker at 0x7f78b697bb00>,\n",
       " <folium.vector_layers.CircleMarker at 0x7f78b697bb38>,\n",
       " <folium.vector_layers.CircleMarker at 0x7f78b697bb70>,\n",
       " <folium.vector_layers.CircleMarker at 0x7f78b697bba8>,\n",
       " <folium.vector_layers.CircleMarker at 0x7f78b697bbe0>,\n",
       " <folium.vector_layers.CircleMarker at 0x7f78b697bc18>,\n",
       " <folium.vector_layers.CircleMarker at 0x7f78b697bc50>,\n",
       " <folium.vector_layers.CircleMarker at 0x7f78b697bc88>,\n",
       " <folium.vector_layers.CircleMarker at 0x7f78b697bcc0>,\n",
       " <folium.vector_layers.CircleMarker at 0x7f78b697bcf8>,\n",
       " <folium.vector_layers.CircleMarker at 0x7f78b697bd30>,\n",
       " <folium.vector_layers.CircleMarker at 0x7f78b697bd68>,\n",
       " <folium.vector_layers.CircleMarker at 0x7f78b697bda0>,\n",
       " <folium.vector_layers.CircleMarker at 0x7f78b697bdd8>,\n",
       " <folium.vector_layers.CircleMarker at 0x7f78b697be10>,\n",
       " <folium.vector_layers.CircleMarker at 0x7f78b697be48>,\n",
       " <folium.vector_layers.CircleMarker at 0x7f78b697be80>,\n",
       " <folium.vector_layers.CircleMarker at 0x7f78b697beb8>,\n",
       " <folium.vector_layers.CircleMarker at 0x7f78b697bef0>,\n",
       " <folium.vector_layers.CircleMarker at 0x7f78b697bf28>,\n",
       " <folium.vector_layers.CircleMarker at 0x7f78b697bf60>,\n",
       " <folium.vector_layers.CircleMarker at 0x7f78b697bf98>,\n",
       " <folium.vector_layers.CircleMarker at 0x7f78b697bfd0>,\n",
       " <folium.vector_layers.CircleMarker at 0x7f78b697b048>,\n",
       " <folium.vector_layers.CircleMarker at 0x7f78b698a080>,\n",
       " <folium.vector_layers.CircleMarker at 0x7f78b698a0b8>,\n",
       " <folium.vector_layers.CircleMarker at 0x7f78b698a0f0>,\n",
       " <folium.vector_layers.CircleMarker at 0x7f78b698a128>,\n",
       " <folium.vector_layers.CircleMarker at 0x7f78b698a160>,\n",
       " <folium.vector_layers.CircleMarker at 0x7f78b698a198>,\n",
       " <folium.vector_layers.CircleMarker at 0x7f78b698a1d0>,\n",
       " <folium.vector_layers.CircleMarker at 0x7f78b698a208>,\n",
       " <folium.vector_layers.CircleMarker at 0x7f78b698a240>,\n",
       " <folium.vector_layers.CircleMarker at 0x7f78b698a278>,\n",
       " <folium.vector_layers.CircleMarker at 0x7f78b698a2b0>,\n",
       " <folium.vector_layers.CircleMarker at 0x7f78b698a2e8>,\n",
       " <folium.vector_layers.CircleMarker at 0x7f78b698a320>,\n",
       " <folium.vector_layers.CircleMarker at 0x7f78b698a358>,\n",
       " <folium.vector_layers.CircleMarker at 0x7f78b698a390>,\n",
       " <folium.vector_layers.CircleMarker at 0x7f78b698a3c8>,\n",
       " <folium.vector_layers.CircleMarker at 0x7f78b698a400>,\n",
       " <folium.vector_layers.CircleMarker at 0x7f78b698a438>,\n",
       " <folium.vector_layers.CircleMarker at 0x7f78b698a470>,\n",
       " <folium.vector_layers.CircleMarker at 0x7f78b698a4a8>,\n",
       " <folium.vector_layers.CircleMarker at 0x7f78b698a4e0>,\n",
       " <folium.vector_layers.CircleMarker at 0x7f78b698a518>,\n",
       " <folium.vector_layers.CircleMarker at 0x7f78b698a550>,\n",
       " <folium.vector_layers.CircleMarker at 0x7f78b698a588>,\n",
       " <folium.vector_layers.CircleMarker at 0x7f78b698a5c0>,\n",
       " <folium.vector_layers.CircleMarker at 0x7f78b698a5f8>,\n",
       " <folium.vector_layers.CircleMarker at 0x7f78b698a630>,\n",
       " <folium.vector_layers.CircleMarker at 0x7f78b698a668>,\n",
       " <folium.vector_layers.CircleMarker at 0x7f78b698a6a0>,\n",
       " <folium.vector_layers.CircleMarker at 0x7f78b698a6d8>,\n",
       " <folium.vector_layers.CircleMarker at 0x7f78b698a710>,\n",
       " <folium.vector_layers.CircleMarker at 0x7f78b698a748>,\n",
       " <folium.vector_layers.CircleMarker at 0x7f78b698a780>,\n",
       " <folium.vector_layers.CircleMarker at 0x7f78b698a7b8>,\n",
       " <folium.vector_layers.CircleMarker at 0x7f78b698a7f0>,\n",
       " <folium.vector_layers.CircleMarker at 0x7f78b698a828>,\n",
       " <folium.vector_layers.CircleMarker at 0x7f78b698a860>,\n",
       " <folium.vector_layers.CircleMarker at 0x7f78b698a898>,\n",
       " <folium.vector_layers.CircleMarker at 0x7f78b698a8d0>,\n",
       " <folium.vector_layers.CircleMarker at 0x7f78b698a908>,\n",
       " <folium.vector_layers.CircleMarker at 0x7f78b698a940>,\n",
       " <folium.vector_layers.CircleMarker at 0x7f78b698a978>,\n",
       " <folium.vector_layers.CircleMarker at 0x7f78b698a9b0>,\n",
       " <folium.vector_layers.CircleMarker at 0x7f78b698a9e8>,\n",
       " <folium.vector_layers.CircleMarker at 0x7f78b698aa20>,\n",
       " <folium.vector_layers.CircleMarker at 0x7f78b698aa58>,\n",
       " <folium.vector_layers.CircleMarker at 0x7f78b698aa90>,\n",
       " <folium.vector_layers.CircleMarker at 0x7f78b698aac8>,\n",
       " <folium.vector_layers.CircleMarker at 0x7f78b698ab00>,\n",
       " <folium.vector_layers.CircleMarker at 0x7f78b698ab38>,\n",
       " <folium.vector_layers.CircleMarker at 0x7f78b698ab70>,\n",
       " <folium.vector_layers.CircleMarker at 0x7f78b698aba8>,\n",
       " <folium.vector_layers.CircleMarker at 0x7f78b698abe0>,\n",
       " <folium.vector_layers.CircleMarker at 0x7f78b698ac18>,\n",
       " <folium.vector_layers.CircleMarker at 0x7f78b698ac50>,\n",
       " <folium.vector_layers.CircleMarker at 0x7f78b698ac88>,\n",
       " <folium.vector_layers.CircleMarker at 0x7f78b698acc0>,\n",
       " <folium.vector_layers.CircleMarker at 0x7f78b698acf8>,\n",
       " <folium.vector_layers.CircleMarker at 0x7f78b698ad30>,\n",
       " <folium.vector_layers.CircleMarker at 0x7f78b698ad68>,\n",
       " <folium.vector_layers.CircleMarker at 0x7f78b698ada0>,\n",
       " <folium.vector_layers.CircleMarker at 0x7f78b698add8>,\n",
       " <folium.vector_layers.CircleMarker at 0x7f78b698ae10>,\n",
       " <folium.vector_layers.CircleMarker at 0x7f78b698ae48>,\n",
       " <folium.vector_layers.CircleMarker at 0x7f78b698ae80>,\n",
       " <folium.vector_layers.CircleMarker at 0x7f78b698aeb8>,\n",
       " <folium.vector_layers.CircleMarker at 0x7f78b698aef0>,\n",
       " <folium.vector_layers.CircleMarker at 0x7f78b698af28>,\n",
       " <folium.vector_layers.CircleMarker at 0x7f78b698af60>,\n",
       " <folium.vector_layers.CircleMarker at 0x7f78b698af98>,\n",
       " <folium.vector_layers.CircleMarker at 0x7f78b698afd0>,\n",
       " <folium.vector_layers.CircleMarker at 0x7f78b698a048>,\n",
       " <folium.vector_layers.CircleMarker at 0x7f78b6997080>,\n",
       " <folium.vector_layers.CircleMarker at 0x7f78b69970b8>,\n",
       " <folium.vector_layers.CircleMarker at 0x7f78b69970f0>,\n",
       " <folium.vector_layers.CircleMarker at 0x7f78b6997128>,\n",
       " <folium.vector_layers.CircleMarker at 0x7f78b6997160>,\n",
       " <folium.vector_layers.CircleMarker at 0x7f78b6997198>,\n",
       " <folium.vector_layers.CircleMarker at 0x7f78b69971d0>,\n",
       " <folium.vector_layers.CircleMarker at 0x7f78b6997208>,\n",
       " <folium.vector_layers.CircleMarker at 0x7f78b6997240>,\n",
       " <folium.vector_layers.CircleMarker at 0x7f78b6997278>,\n",
       " <folium.vector_layers.CircleMarker at 0x7f78b69972b0>,\n",
       " <folium.vector_layers.CircleMarker at 0x7f78b69972e8>,\n",
       " <folium.vector_layers.CircleMarker at 0x7f78b6997320>,\n",
       " <folium.vector_layers.CircleMarker at 0x7f78b6997358>,\n",
       " <folium.vector_layers.CircleMarker at 0x7f78b6997390>,\n",
       " <folium.vector_layers.CircleMarker at 0x7f78b69973c8>,\n",
       " <folium.vector_layers.CircleMarker at 0x7f78b6997400>,\n",
       " <folium.vector_layers.CircleMarker at 0x7f78b6997438>,\n",
       " <folium.vector_layers.CircleMarker at 0x7f78b6997470>,\n",
       " <folium.vector_layers.CircleMarker at 0x7f78b69974a8>,\n",
       " <folium.vector_layers.CircleMarker at 0x7f78b69974e0>,\n",
       " <folium.vector_layers.CircleMarker at 0x7f78b6997518>,\n",
       " <folium.vector_layers.CircleMarker at 0x7f78b6997550>,\n",
       " <folium.vector_layers.CircleMarker at 0x7f78b6997588>,\n",
       " <folium.vector_layers.CircleMarker at 0x7f78b69975c0>,\n",
       " <folium.vector_layers.CircleMarker at 0x7f78b69975f8>,\n",
       " <folium.vector_layers.CircleMarker at 0x7f78b6997630>,\n",
       " <folium.vector_layers.CircleMarker at 0x7f78b6997668>,\n",
       " <folium.vector_layers.CircleMarker at 0x7f78b69976a0>,\n",
       " <folium.vector_layers.CircleMarker at 0x7f78b69976d8>,\n",
       " <folium.vector_layers.CircleMarker at 0x7f78b6997710>,\n",
       " <folium.vector_layers.CircleMarker at 0x7f78b6997748>,\n",
       " <folium.vector_layers.CircleMarker at 0x7f78b6997780>,\n",
       " <folium.vector_layers.CircleMarker at 0x7f78b69977b8>,\n",
       " <folium.vector_layers.CircleMarker at 0x7f78b69977f0>,\n",
       " <folium.vector_layers.CircleMarker at 0x7f78b6997828>,\n",
       " <folium.vector_layers.CircleMarker at 0x7f78b6997860>,\n",
       " <folium.vector_layers.CircleMarker at 0x7f78b6997898>,\n",
       " <folium.vector_layers.CircleMarker at 0x7f78b69978d0>,\n",
       " <folium.vector_layers.CircleMarker at 0x7f78b6997908>,\n",
       " <folium.vector_layers.CircleMarker at 0x7f78b6997940>,\n",
       " <folium.vector_layers.CircleMarker at 0x7f78b6997978>,\n",
       " <folium.vector_layers.CircleMarker at 0x7f78b69979b0>,\n",
       " <folium.vector_layers.CircleMarker at 0x7f78b69979e8>,\n",
       " <folium.vector_layers.CircleMarker at 0x7f78b6997a20>,\n",
       " <folium.vector_layers.CircleMarker at 0x7f78b6997a58>,\n",
       " <folium.vector_layers.CircleMarker at 0x7f78b6997a90>,\n",
       " <folium.vector_layers.CircleMarker at 0x7f78b6997ac8>,\n",
       " <folium.vector_layers.CircleMarker at 0x7f78b6997b00>,\n",
       " <folium.vector_layers.CircleMarker at 0x7f78b6997b38>,\n",
       " <folium.vector_layers.CircleMarker at 0x7f78b6997b70>,\n",
       " <folium.vector_layers.CircleMarker at 0x7f78b6997ba8>,\n",
       " <folium.vector_layers.CircleMarker at 0x7f78b6997be0>,\n",
       " <folium.vector_layers.CircleMarker at 0x7f78b6997c18>,\n",
       " <folium.vector_layers.CircleMarker at 0x7f78b6997c50>,\n",
       " <folium.vector_layers.CircleMarker at 0x7f78b6997c88>,\n",
       " <folium.vector_layers.CircleMarker at 0x7f78b6997cc0>,\n",
       " <folium.vector_layers.CircleMarker at 0x7f78b6997cf8>,\n",
       " <folium.vector_layers.CircleMarker at 0x7f78b6997d30>,\n",
       " <folium.vector_layers.CircleMarker at 0x7f78b6997d68>,\n",
       " <folium.vector_layers.CircleMarker at 0x7f78b6997da0>,\n",
       " <folium.vector_layers.CircleMarker at 0x7f78b6997dd8>,\n",
       " <folium.vector_layers.CircleMarker at 0x7f78b6997e10>,\n",
       " <folium.vector_layers.CircleMarker at 0x7f78b6997e48>,\n",
       " <folium.vector_layers.CircleMarker at 0x7f78b6997e80>,\n",
       " <folium.vector_layers.CircleMarker at 0x7f78b6997eb8>,\n",
       " <folium.vector_layers.CircleMarker at 0x7f78b6997ef0>,\n",
       " <folium.vector_layers.CircleMarker at 0x7f78b6997f28>,\n",
       " <folium.vector_layers.CircleMarker at 0x7f78b6997f60>,\n",
       " <folium.vector_layers.CircleMarker at 0x7f78b6997f98>,\n",
       " <folium.vector_layers.CircleMarker at 0x7f78b6997fd0>,\n",
       " <folium.vector_layers.CircleMarker at 0x7f78b6997048>,\n",
       " <folium.vector_layers.CircleMarker at 0x7f78b69a5080>,\n",
       " <folium.vector_layers.CircleMarker at 0x7f78b69a50b8>,\n",
       " <folium.vector_layers.CircleMarker at 0x7f78b69a50f0>,\n",
       " <folium.vector_layers.CircleMarker at 0x7f78b69a5128>,\n",
       " <folium.vector_layers.CircleMarker at 0x7f78b69a5160>,\n",
       " <folium.vector_layers.CircleMarker at 0x7f78b69a5198>,\n",
       " <folium.vector_layers.CircleMarker at 0x7f78b69a51d0>,\n",
       " <folium.vector_layers.CircleMarker at 0x7f78b69a5208>,\n",
       " <folium.vector_layers.CircleMarker at 0x7f78b69a5240>,\n",
       " <folium.vector_layers.CircleMarker at 0x7f78b69a5278>,\n",
       " <folium.vector_layers.CircleMarker at 0x7f78b69a52b0>,\n",
       " <folium.vector_layers.CircleMarker at 0x7f78b69a52e8>,\n",
       " <folium.vector_layers.CircleMarker at 0x7f78b69a5320>,\n",
       " <folium.vector_layers.CircleMarker at 0x7f78b69a5358>,\n",
       " <folium.vector_layers.CircleMarker at 0x7f78b69a5390>,\n",
       " <folium.vector_layers.CircleMarker at 0x7f78b69a53c8>,\n",
       " <folium.vector_layers.CircleMarker at 0x7f78b69a5400>,\n",
       " <folium.vector_layers.CircleMarker at 0x7f78b69a5438>,\n",
       " <folium.vector_layers.CircleMarker at 0x7f78b69a5470>,\n",
       " <folium.vector_layers.CircleMarker at 0x7f78b69a54a8>,\n",
       " <folium.vector_layers.CircleMarker at 0x7f78b69a54e0>,\n",
       " <folium.vector_layers.CircleMarker at 0x7f78b69a5518>,\n",
       " <folium.vector_layers.CircleMarker at 0x7f78b69a5550>,\n",
       " <folium.vector_layers.CircleMarker at 0x7f78b69a5588>,\n",
       " <folium.vector_layers.CircleMarker at 0x7f78b69a55c0>,\n",
       " <folium.vector_layers.CircleMarker at 0x7f78b69a55f8>,\n",
       " <folium.vector_layers.CircleMarker at 0x7f78b69a5630>,\n",
       " <folium.vector_layers.CircleMarker at 0x7f78b69a5668>,\n",
       " <folium.vector_layers.CircleMarker at 0x7f78b69a56a0>,\n",
       " <folium.vector_layers.CircleMarker at 0x7f78b69a56d8>,\n",
       " <folium.vector_layers.CircleMarker at 0x7f78b69a5710>,\n",
       " <folium.vector_layers.CircleMarker at 0x7f78b69a5748>,\n",
       " <folium.vector_layers.CircleMarker at 0x7f78b69a5780>,\n",
       " <folium.vector_layers.CircleMarker at 0x7f78b69a57b8>,\n",
       " <folium.vector_layers.CircleMarker at 0x7f78b69a57f0>,\n",
       " <folium.vector_layers.CircleMarker at 0x7f78b69a5828>,\n",
       " <folium.vector_layers.CircleMarker at 0x7f78b69a5860>,\n",
       " <folium.vector_layers.CircleMarker at 0x7f78b69a5898>,\n",
       " <folium.vector_layers.CircleMarker at 0x7f78b69a58d0>,\n",
       " <folium.vector_layers.CircleMarker at 0x7f78b69a5908>,\n",
       " <folium.vector_layers.CircleMarker at 0x7f78b69a5940>,\n",
       " <folium.vector_layers.CircleMarker at 0x7f78b69a5978>,\n",
       " <folium.vector_layers.CircleMarker at 0x7f78b69a59b0>,\n",
       " <folium.vector_layers.CircleMarker at 0x7f78b69a59e8>,\n",
       " <folium.vector_layers.CircleMarker at 0x7f78b69a5a20>,\n",
       " <folium.vector_layers.CircleMarker at 0x7f78b69a5a58>,\n",
       " <folium.vector_layers.CircleMarker at 0x7f78b69a5a90>,\n",
       " <folium.vector_layers.CircleMarker at 0x7f78b69a5ac8>,\n",
       " <folium.vector_layers.CircleMarker at 0x7f78b69a5b00>,\n",
       " <folium.vector_layers.CircleMarker at 0x7f78b69a5b38>,\n",
       " <folium.vector_layers.CircleMarker at 0x7f78b69a5b70>,\n",
       " <folium.vector_layers.CircleMarker at 0x7f78b69a5ba8>,\n",
       " <folium.vector_layers.CircleMarker at 0x7f78b69a5be0>,\n",
       " <folium.vector_layers.CircleMarker at 0x7f78b69a5c18>,\n",
       " <folium.vector_layers.CircleMarker at 0x7f78b69a5c50>,\n",
       " <folium.vector_layers.CircleMarker at 0x7f78b69a5c88>,\n",
       " <folium.vector_layers.CircleMarker at 0x7f78b69a5cc0>,\n",
       " <folium.vector_layers.CircleMarker at 0x7f78b69a5cf8>,\n",
       " <folium.vector_layers.CircleMarker at 0x7f78b69a5d30>,\n",
       " <folium.vector_layers.CircleMarker at 0x7f78b69a5d68>,\n",
       " <folium.vector_layers.CircleMarker at 0x7f78b69a5da0>,\n",
       " <folium.vector_layers.CircleMarker at 0x7f78b69a5dd8>,\n",
       " <folium.vector_layers.CircleMarker at 0x7f78b69a5e10>,\n",
       " <folium.vector_layers.CircleMarker at 0x7f78b69a5e48>,\n",
       " <folium.vector_layers.CircleMarker at 0x7f78b69a5e80>,\n",
       " <folium.vector_layers.CircleMarker at 0x7f78b69a5eb8>,\n",
       " <folium.vector_layers.CircleMarker at 0x7f78b69a5ef0>,\n",
       " <folium.vector_layers.CircleMarker at 0x7f78b69a5f28>,\n",
       " <folium.vector_layers.CircleMarker at 0x7f78b69a5f60>,\n",
       " <folium.vector_layers.CircleMarker at 0x7f78b69a5f98>,\n",
       " <folium.vector_layers.CircleMarker at 0x7f78b69a5fd0>,\n",
       " <folium.vector_layers.CircleMarker at 0x7f78b69a5048>,\n",
       " <folium.vector_layers.CircleMarker at 0x7f78b6932080>,\n",
       " <folium.vector_layers.CircleMarker at 0x7f78b69320b8>,\n",
       " <folium.vector_layers.CircleMarker at 0x7f78b69320f0>,\n",
       " <folium.vector_layers.CircleMarker at 0x7f78b6932128>,\n",
       " <folium.vector_layers.CircleMarker at 0x7f78b6932160>,\n",
       " <folium.vector_layers.CircleMarker at 0x7f78b6932198>,\n",
       " <folium.vector_layers.CircleMarker at 0x7f78b69321d0>,\n",
       " <folium.vector_layers.CircleMarker at 0x7f78b6932208>,\n",
       " <folium.vector_layers.CircleMarker at 0x7f78b6932240>,\n",
       " <folium.vector_layers.CircleMarker at 0x7f78b6932278>,\n",
       " <folium.vector_layers.CircleMarker at 0x7f78b69322b0>,\n",
       " <folium.vector_layers.CircleMarker at 0x7f78b69322e8>,\n",
       " <folium.vector_layers.CircleMarker at 0x7f78b6932320>,\n",
       " <folium.vector_layers.CircleMarker at 0x7f78b6932358>,\n",
       " <folium.vector_layers.CircleMarker at 0x7f78b6932390>,\n",
       " <folium.vector_layers.CircleMarker at 0x7f78b69323c8>,\n",
       " <folium.vector_layers.CircleMarker at 0x7f78b6932400>,\n",
       " <folium.vector_layers.CircleMarker at 0x7f78b6932438>,\n",
       " <folium.vector_layers.CircleMarker at 0x7f78b6932470>,\n",
       " <folium.vector_layers.CircleMarker at 0x7f78b69324a8>,\n",
       " <folium.vector_layers.CircleMarker at 0x7f78b69324e0>,\n",
       " <folium.vector_layers.CircleMarker at 0x7f78b6932518>,\n",
       " <folium.vector_layers.CircleMarker at 0x7f78b6932550>,\n",
       " <folium.vector_layers.CircleMarker at 0x7f78b6932588>,\n",
       " <folium.vector_layers.CircleMarker at 0x7f78b69325c0>,\n",
       " <folium.vector_layers.CircleMarker at 0x7f78b69325f8>,\n",
       " <folium.vector_layers.CircleMarker at 0x7f78b6932630>,\n",
       " <folium.vector_layers.CircleMarker at 0x7f78b6932668>,\n",
       " <folium.vector_layers.CircleMarker at 0x7f78b69326a0>,\n",
       " <folium.vector_layers.CircleMarker at 0x7f78b69326d8>,\n",
       " <folium.vector_layers.CircleMarker at 0x7f78b6932710>,\n",
       " <folium.vector_layers.CircleMarker at 0x7f78b6932748>]"
      ]
     },
     "execution_count": 28,
     "metadata": {},
     "output_type": "execute_result"
    }
   ],
   "source": [
    "map_with_markers"
   ]
  },
  {
   "cell_type": "markdown",
   "metadata": {},
   "source": [
    "### Using Nearest Neighbors"
   ]
  },
  {
   "cell_type": "markdown",
   "metadata": {},
   "source": [
    "Ok, let's write a function that given a latitude and longitude will predict the distance for us.  We'll do this by first finding the nearest trips given a latitude and longitude. "
   ]
  },
  {
   "cell_type": "markdown",
   "metadata": {},
   "source": [
    "Here we once again apply the nearest neighbors formula. As a first step, write a function named `distance_location` that calculates the distance in pickup location between two trips."
   ]
  },
  {
   "cell_type": "code",
   "execution_count": 39,
   "metadata": {},
   "outputs": [],
   "source": [
    "import math\n",
    "\n",
    "def distance_location(selected_trip, neighbor_trip):\n",
    "        y = (selected_trip['pickup_latitude']- neighbor_trip['pickup_latitude'])**2\n",
    "        x = (selected_trip['pickup_longitude'] - neighbor_trip['pickup_longitude'])**2\n",
    "        distance = math.sqrt(x+y)\n",
    "        return distance"
   ]
  },
  {
   "cell_type": "code",
   "execution_count": 40,
   "metadata": {},
   "outputs": [
    {
     "data": {
      "text/plain": [
       "0.235"
      ]
     },
     "execution_count": 40,
     "metadata": {},
     "output_type": "execute_result"
    }
   ],
   "source": [
    "first_trip = {'pickup_latitude': 40.64499, 'pickup_longitude': -73.78115, 'trip_distance': 18.38}\n",
    "second_trip = {'pickup_latitude': 40.766931, 'pickup_longitude': -73.982098, 'trip_distance': 1.3}\n",
    "distance_first_and_second = distance_location(first_trip, second_trip)\n",
    "\n",
    "distance_first_and_second and round(distance_first_and_second, 3) # 0.235"
   ]
  },
  {
   "cell_type": "markdown",
   "metadata": {},
   "source": [
    "Ok, next write a function called `distance_between_neighbors` that adds a new key-value pair, called `distance_from_selected`, that calculates the distance of the `neighbor_trip` from the `selected_trip`."
   ]
  },
  {
   "cell_type": "code",
   "execution_count": 41,
   "metadata": {},
   "outputs": [],
   "source": [
    "def distance_between_neighbors(selected_trip, neighbor_trip):\n",
    "    neighbor_with_distance = neighbor_trip.copy()\n",
    "    neighbor_with_distance['distance_from_selected'] = distance_location(selected_trip, neighbor_trip)\n",
    "    return neighbor_with_distance"
   ]
  },
  {
   "cell_type": "code",
   "execution_count": 42,
   "metadata": {},
   "outputs": [
    {
     "data": {
      "text/plain": [
       "{'pickup_latitude': 40.766931,\n",
       " 'pickup_longitude': -73.982098,\n",
       " 'trip_distance': 1.3,\n",
       " 'distance_from_selected': 0.23505256047318146}"
      ]
     },
     "execution_count": 42,
     "metadata": {},
     "output_type": "execute_result"
    }
   ],
   "source": [
    "distance_between_neighbors(first_trip, second_trip)\n",
    "\n",
    "# {'distance_from_selected': 0.23505256047318146,\n",
    "#  'pickup_latitude': 40.766931,\n",
    "#  'pickup_longitude': -73.982098,\n",
    "#  'trip_distance': 1.3}"
   ]
  },
  {
   "cell_type": "markdown",
   "metadata": {},
   "source": [
    "Ok, now our `neighbor_trip` has another attribute called `distance_from_selected`, that indicates the distance from the `neighbor_trip`'s pickup location from the `selected_trip`."
   ]
  },
  {
   "cell_type": "markdown",
   "metadata": {},
   "source": [
    "> ** Understand the data:** Our dictionary now has a few attributes, two of which say distance.  Let's make sure we understand the difference. \n",
    "> * **`distance_from_selected`:** This is our calculation of the distance of the neighbor's pickup location from the selected trip.\n",
    "> * **`trip_distance`:** This is the attribute we were provided initially.  It tells us the length of the neighbor's taxi trip from pickup to drop-off.  "
   ]
  },
  {
   "cell_type": "markdown",
   "metadata": {},
   "source": [
    "Next, write a function called `distance_all` that provided a list of neighbors, returns each of those neighbors with their respective `distance_from_selected` numbers."
   ]
  },
  {
   "cell_type": "code",
   "execution_count": 47,
   "metadata": {},
   "outputs": [],
   "source": [
    "def distance_all(selected_trip, neighbors):\n",
    "    remaining_neighbors = filter(lambda neighbor: neighbor != selected_trip, neighbors)\n",
    "    return list(map(lambda neighbor: distance_between_neighbors(selected_trip, neighbor), remaining_neighbors))"
   ]
  },
  {
   "cell_type": "code",
   "execution_count": 50,
   "metadata": {},
   "outputs": [
    {
     "data": {
      "text/plain": [
       "[{'pickup_latitude': 40.766931,\n",
       "  'pickup_longitude': -73.982098,\n",
       "  'trip_distance': 1.3,\n",
       "  'distance_from_selected': 0.23505256047318146},\n",
       " {'pickup_latitude': 40.77773,\n",
       "  'pickup_longitude': -73.951902,\n",
       "  'trip_distance': 4.5,\n",
       "  'distance_from_selected': 0.2162779533470808},\n",
       " {'pickup_latitude': 40.795678,\n",
       "  'pickup_longitude': -73.971049,\n",
       "  'trip_distance': 2.4,\n",
       "  'distance_from_selected': 0.24242215976473674}]"
      ]
     },
     "execution_count": 50,
     "metadata": {},
     "output_type": "execute_result"
    }
   ],
   "source": [
    "distance_all(first_trip, cleaned_trips[0:4])"
   ]
  },
  {
   "cell_type": "markdown",
   "metadata": {},
   "source": [
    "Now write the nearest neighbors formula to calculate the distance of the `selected_trip` from all of the `cleaned_trips` in our dataset.  If no number is provided, it should return the top 3 neighbors."
   ]
  },
  {
   "cell_type": "code",
   "execution_count": 53,
   "metadata": {},
   "outputs": [],
   "source": [
    "def nearest_neighbors(selected_trip, trips, number = 3):\n",
    "    neighbor_distances = distance_all(selected_trip,trips)\n",
    "    sorted_neighbors = sorted(neighbor_distances, key=lambda neighbor: neighbor['distance_from_selected'])\n",
    "    return sorted_neighbors[:number]\n"
   ]
  },
  {
   "cell_type": "code",
   "execution_count": 54,
   "metadata": {},
   "outputs": [
    {
     "data": {
      "text/plain": [
       "[{'pickup_latitude': 40.64483,\n",
       "  'pickup_longitude': -73.781578,\n",
       "  'trip_distance': 7.78,\n",
       "  'distance_from_selected': 0.0004569288784918792},\n",
       " {'pickup_latitude': 40.644657,\n",
       "  'pickup_longitude': -73.782229,\n",
       "  'trip_distance': 12.7,\n",
       "  'distance_from_selected': 0.0011292165425673159},\n",
       " {'pickup_latitude': 40.648509,\n",
       "  'pickup_longitude': -73.783508,\n",
       "  'trip_distance': 17.3,\n",
       "  'distance_from_selected': 0.0042359798158141185}]"
      ]
     },
     "execution_count": 54,
     "metadata": {},
     "output_type": "execute_result"
    }
   ],
   "source": [
    "new_trip = {'pickup_latitude': 40.64499,\n",
    "'pickup_longitude': -73.78115,\n",
    "'trip_distance': 18.38}\n",
    "\n",
    "nearest_three_neighbors = nearest_neighbors(new_trip, cleaned_trips or [], number = 3)\n",
    "nearest_three_neighbors\n",
    "# [{'distance_from_selected': 0.0004569288784918792,\n",
    "#   'pickup_latitude': 40.64483,\n",
    "#   'pickup_longitude': -73.781578,\n",
    "#   'trip_distance': 7.78},\n",
    "#  {'distance_from_selected': 0.0011292165425673159,\n",
    "#   'pickup_latitude': 40.644657,\n",
    "#   'pickup_longitude': -73.782229,\n",
    "#   'trip_distance': 12.7},\n",
    "#  {'distance_from_selected': 0.0042359798158141185,\n",
    "#   'pickup_latitude': 40.648509,\n",
    "#   'pickup_longitude': -73.783508,\n",
    "#   'trip_distance': 17.3}]"
   ]
  },
  {
   "cell_type": "markdown",
   "metadata": {},
   "source": [
    "Ok great! Now that we can provide a new trip location, and find the distances of the three nearest trips, we can take  calculate an estimate of the trip distance for that new trip location.  \n",
    "\n",
    "We do so simply by calculating the average of it's nearest neighbors."
   ]
  },
  {
   "cell_type": "code",
   "execution_count": null,
   "metadata": {},
   "outputs": [],
   "source": [
    "import statistics\n",
    "def mean_distance(neighbors):\n",
    "    nearest_distances = list(map(lambda neighbor: neighbor['trip_distance'], neighbors))\n",
    "    return round(statistics.mean(nearest_distances), 3)\n",
    "\n",
    "nearest_three_neighbors = nearest_neighbors(new_trip, cleaned_trips or [], number = 3)\n",
    "distance_estimate_of_selected_trip = mean_distance(nearest_three_neighbors) # 12.593\n",
    "distance_estimate_of_selected_trip"
   ]
  },
  {
   "cell_type": "markdown",
   "metadata": {},
   "source": [
    "### Choosing the correct number of neighbors"
   ]
  },
  {
   "cell_type": "markdown",
   "metadata": {},
   "source": [
    "Now, as we know from the last lesson, one tricky element is to determine how many neighbors to choose, our $k$ value,  before calculating the average.  We want to choose our value of $k$ such that it properly matches actual data, and so that it applies to new data.  There are fancy formulas to ensure that we **train** our algorithm so that our formula is optimized for all data, but here let's see different $k$ values manually.  This is the gist of choosing our $k$ value:\n",
    "\n",
    "* If we choose a $k$ value too low, our formula will be too heavily influenced by a single neighbor, whereas if our $k$ value is too high, we will be choosing so many neighbors that our nearest neighbors formula will not be adjust enough according to locations.\n",
    "\n",
    "Ok, let's experiment with this."
   ]
  },
  {
   "cell_type": "markdown",
   "metadata": {},
   "source": [
    "First, let's choose a midtown location, to see what the trip distance would be.  A Google search reveals the coordinates of 51st and 7th avenue to be the following."
   ]
  },
  {
   "cell_type": "code",
   "execution_count": 59,
   "metadata": {},
   "outputs": [],
   "source": [
    "midtown_trip = dict(pickup_latitude=40.761710, pickup_longitude=-73.982760)"
   ]
  },
  {
   "cell_type": "code",
   "execution_count": 60,
   "metadata": {},
   "outputs": [
    {
     "data": {
      "text/plain": [
       "[{'pickup_latitude': 40.761372,\n",
       "  'pickup_longitude': -73.982602,\n",
       "  'trip_distance': 0.58,\n",
       "  'distance_from_selected': 0.00037310588309379025},\n",
       " {'pickup_latitude': 40.762444,\n",
       "  'pickup_longitude': -73.98244,\n",
       "  'trip_distance': 0.8,\n",
       "  'distance_from_selected': 0.00080072217404248},\n",
       " {'pickup_latitude': 40.762767,\n",
       "  'pickup_longitude': -73.982293,\n",
       "  'trip_distance': 1.4,\n",
       "  'distance_from_selected': 0.0011555682584735844},\n",
       " {'pickup_latitude': 40.762868,\n",
       "  'pickup_longitude': -73.983233,\n",
       "  'trip_distance': 8.3,\n",
       "  'distance_from_selected': 0.0012508768924205918},\n",
       " {'pickup_latitude': 40.760057,\n",
       "  'pickup_longitude': -73.983502,\n",
       "  'trip_distance': 1.26,\n",
       "  'distance_from_selected': 0.0018118976240381972},\n",
       " {'pickup_latitude': 40.760644,\n",
       "  'pickup_longitude': -73.984531,\n",
       "  'trip_distance': 0.0,\n",
       "  'distance_from_selected': 0.002067074502774709},\n",
       " {'pickup_latitude': 40.762107,\n",
       "  'pickup_longitude': -73.98479,\n",
       "  'trip_distance': 1.72,\n",
       "  'distance_from_selected': 0.0020684557041472677}]"
      ]
     },
     "execution_count": 60,
     "metadata": {},
     "output_type": "execute_result"
    }
   ],
   "source": [
    "seven_closest = nearest_neighbors(midtown_trip, cleaned_trips, number = 7)\n",
    "seven_closest\n",
    "# [{'trip_distance': 0.58,\n",
    "#   'pickup_latitude': 40.761372,\n",
    "#   'pickup_longitude': -73.982602,\n",
    "#   'distance_from_selected': 0.00037310588309379025},\n",
    "#  {'trip_distance': 0.8,\n",
    "#   'pickup_latitude': 40.762444,\n",
    "#   'pickup_longitude': -73.98244,\n",
    "#   'distance_from_selected': 0.00080072217404248},\n",
    "#  {'trip_distance': 1.4,\n",
    "#   'pickup_latitude': 40.762767,\n",
    "#   'pickup_longitude': -73.982293,\n",
    "#   'distance_from_selected': 0.0011555682584735844},\n",
    "#  {'trip_distance': 8.3,\n",
    "#   'pickup_latitude': 40.762868,\n",
    "#   'pickup_longitude': -73.983233,\n",
    "#   'distance_from_selected': 0.0012508768924205918},\n",
    "#  {'trip_distance': 1.26,\n",
    "#   'pickup_latitude': 40.760057,\n",
    "#   'pickup_longitude': -73.983502,\n",
    "#   'distance_from_selected': 0.0018118976240381972},\n",
    "#  {'trip_distance': 0.0,\n",
    "#   'pickup_latitude': 40.760644,\n",
    "#   'pickup_longitude': -73.984531,\n",
    "#   'distance_from_selected': 0.002067074502774709},\n",
    "#  {'trip_distance': 1.72,\n",
    "#   'pickup_latitude': 40.762107,\n",
    "#   'pickup_longitude': -73.98479,\n",
    "#   'distance_from_selected': 0.0020684557041472677}]"
   ]
  },
  {
   "cell_type": "markdown",
   "metadata": {},
   "source": [
    "Looking at the `distance_from_selected` it appears that our our trips are still fairly close to our selected trip.  Notice that most of the data is within a distance of .002 away, so going to the top 7 nearest neighbors didn't seem to give us neighbors too far from each other, which is a good sign.\n",
    "\n",
    "Still, it's hard to know what distance in latitude and longitude really look like, so let's map the data. "
   ]
  },
  {
   "cell_type": "code",
   "execution_count": 64,
   "metadata": {},
   "outputs": [
    {
     "data": {
      "text/html": [
       "<div style=\"width:100%;\"><div style=\"position:relative;width:100%;height:0;padding-bottom:60%;\"><iframe src=\"data:text/html;charset=utf-8;base64,PCFET0NUWVBFIGh0bWw+CjxoZWFkPiAgICAKICAgIDxtZXRhIGh0dHAtZXF1aXY9ImNvbnRlbnQtdHlwZSIgY29udGVudD0idGV4dC9odG1sOyBjaGFyc2V0PVVURi04IiAvPgogICAgCiAgICAgICAgPHNjcmlwdD4KICAgICAgICAgICAgTF9OT19UT1VDSCA9IGZhbHNlOwogICAgICAgICAgICBMX0RJU0FCTEVfM0QgPSBmYWxzZTsKICAgICAgICA8L3NjcmlwdD4KICAgIAogICAgPHNjcmlwdCBzcmM9Imh0dHBzOi8vY2RuLmpzZGVsaXZyLm5ldC9ucG0vbGVhZmxldEAxLjUuMS9kaXN0L2xlYWZsZXQuanMiPjwvc2NyaXB0PgogICAgPHNjcmlwdCBzcmM9Imh0dHBzOi8vY29kZS5qcXVlcnkuY29tL2pxdWVyeS0xLjEyLjQubWluLmpzIj48L3NjcmlwdD4KICAgIDxzY3JpcHQgc3JjPSJodHRwczovL21heGNkbi5ib290c3RyYXBjZG4uY29tL2Jvb3RzdHJhcC8zLjIuMC9qcy9ib290c3RyYXAubWluLmpzIj48L3NjcmlwdD4KICAgIDxzY3JpcHQgc3JjPSJodHRwczovL2NkbmpzLmNsb3VkZmxhcmUuY29tL2FqYXgvbGlicy9MZWFmbGV0LmF3ZXNvbWUtbWFya2Vycy8yLjAuMi9sZWFmbGV0LmF3ZXNvbWUtbWFya2Vycy5qcyI+PC9zY3JpcHQ+CiAgICA8bGluayByZWw9InN0eWxlc2hlZXQiIGhyZWY9Imh0dHBzOi8vY2RuLmpzZGVsaXZyLm5ldC9ucG0vbGVhZmxldEAxLjUuMS9kaXN0L2xlYWZsZXQuY3NzIi8+CiAgICA8bGluayByZWw9InN0eWxlc2hlZXQiIGhyZWY9Imh0dHBzOi8vbWF4Y2RuLmJvb3RzdHJhcGNkbi5jb20vYm9vdHN0cmFwLzMuMi4wL2Nzcy9ib290c3RyYXAubWluLmNzcyIvPgogICAgPGxpbmsgcmVsPSJzdHlsZXNoZWV0IiBocmVmPSJodHRwczovL21heGNkbi5ib290c3RyYXBjZG4uY29tL2Jvb3RzdHJhcC8zLjIuMC9jc3MvYm9vdHN0cmFwLXRoZW1lLm1pbi5jc3MiLz4KICAgIDxsaW5rIHJlbD0ic3R5bGVzaGVldCIgaHJlZj0iaHR0cHM6Ly9tYXhjZG4uYm9vdHN0cmFwY2RuLmNvbS9mb250LWF3ZXNvbWUvNC42LjMvY3NzL2ZvbnQtYXdlc29tZS5taW4uY3NzIi8+CiAgICA8bGluayByZWw9InN0eWxlc2hlZXQiIGhyZWY9Imh0dHBzOi8vY2RuanMuY2xvdWRmbGFyZS5jb20vYWpheC9saWJzL0xlYWZsZXQuYXdlc29tZS1tYXJrZXJzLzIuMC4yL2xlYWZsZXQuYXdlc29tZS1tYXJrZXJzLmNzcyIvPgogICAgPGxpbmsgcmVsPSJzdHlsZXNoZWV0IiBocmVmPSJodHRwczovL3Jhd2Nkbi5naXRoYWNrLmNvbS9weXRob24tdmlzdWFsaXphdGlvbi9mb2xpdW0vbWFzdGVyL2ZvbGl1bS90ZW1wbGF0ZXMvbGVhZmxldC5hd2Vzb21lLnJvdGF0ZS5jc3MiLz4KICAgIDxzdHlsZT5odG1sLCBib2R5IHt3aWR0aDogMTAwJTtoZWlnaHQ6IDEwMCU7bWFyZ2luOiAwO3BhZGRpbmc6IDA7fTwvc3R5bGU+CiAgICA8c3R5bGU+I21hcCB7cG9zaXRpb246YWJzb2x1dGU7dG9wOjA7Ym90dG9tOjA7cmlnaHQ6MDtsZWZ0OjA7fTwvc3R5bGU+CiAgICAKICAgICAgICAgICAgPG1ldGEgbmFtZT0idmlld3BvcnQiIGNvbnRlbnQ9IndpZHRoPWRldmljZS13aWR0aCwKICAgICAgICAgICAgICAgIGluaXRpYWwtc2NhbGU9MS4wLCBtYXhpbXVtLXNjYWxlPTEuMCwgdXNlci1zY2FsYWJsZT1ubyIgLz4KICAgICAgICAgICAgPHN0eWxlPgogICAgICAgICAgICAgICAgI21hcF9iYmIwNWFhNWMwNDU0YWIxOTEzZjc1MmQ1NmM4MjczNiB7CiAgICAgICAgICAgICAgICAgICAgcG9zaXRpb246IHJlbGF0aXZlOwogICAgICAgICAgICAgICAgICAgIHdpZHRoOiAxMDAuMCU7CiAgICAgICAgICAgICAgICAgICAgaGVpZ2h0OiAxMDAuMCU7CiAgICAgICAgICAgICAgICAgICAgbGVmdDogMC4wJTsKICAgICAgICAgICAgICAgICAgICB0b3A6IDAuMCU7CiAgICAgICAgICAgICAgICB9CiAgICAgICAgICAgIDwvc3R5bGU+CiAgICAgICAgCjwvaGVhZD4KPGJvZHk+ICAgIAogICAgCiAgICAgICAgICAgIDxkaXYgY2xhc3M9ImZvbGl1bS1tYXAiIGlkPSJtYXBfYmJiMDVhYTVjMDQ1NGFiMTkxM2Y3NTJkNTZjODI3MzYiID48L2Rpdj4KICAgICAgICAKPC9ib2R5Pgo8c2NyaXB0PiAgICAKICAgIAogICAgICAgICAgICB2YXIgbWFwX2JiYjA1YWE1YzA0NTRhYjE5MTNmNzUyZDU2YzgyNzM2ID0gTC5tYXAoCiAgICAgICAgICAgICAgICAibWFwX2JiYjA1YWE1YzA0NTRhYjE5MTNmNzUyZDU2YzgyNzM2IiwKICAgICAgICAgICAgICAgIHsKICAgICAgICAgICAgICAgICAgICBjZW50ZXI6IFs0MC43NjE3MSwgLTczLjk4Mjc2XSwKICAgICAgICAgICAgICAgICAgICBjcnM6IEwuQ1JTLkVQU0czODU3LAogICAgICAgICAgICAgICAgICAgIHpvb206IDE2LAogICAgICAgICAgICAgICAgICAgIHpvb21Db250cm9sOiB0cnVlLAogICAgICAgICAgICAgICAgICAgIHByZWZlckNhbnZhczogZmFsc2UsCiAgICAgICAgICAgICAgICB9CiAgICAgICAgICAgICk7CgogICAgICAgICAgICAKCiAgICAgICAgCiAgICAKICAgICAgICAgICAgdmFyIHRpbGVfbGF5ZXJfMzc0N2QzY2Q4YjdlNDM4ZThjNjI4MmIwMTdiYzEwYzQgPSBMLnRpbGVMYXllcigKICAgICAgICAgICAgICAgICJodHRwczovL3tzfS50aWxlLm9wZW5zdHJlZXRtYXAub3JnL3t6fS97eH0ve3l9LnBuZyIsCiAgICAgICAgICAgICAgICB7ImF0dHJpYnV0aW9uIjogIkRhdGEgYnkgXHUwMDI2Y29weTsgXHUwMDNjYSBocmVmPVwiaHR0cDovL29wZW5zdHJlZXRtYXAub3JnXCJcdTAwM2VPcGVuU3RyZWV0TWFwXHUwMDNjL2FcdTAwM2UsIHVuZGVyIFx1MDAzY2EgaHJlZj1cImh0dHA6Ly93d3cub3BlbnN0cmVldG1hcC5vcmcvY29weXJpZ2h0XCJcdTAwM2VPRGJMXHUwMDNjL2FcdTAwM2UuIiwgImRldGVjdFJldGluYSI6IGZhbHNlLCAibWF4TmF0aXZlWm9vbSI6IDE4LCAibWF4Wm9vbSI6IDE4LCAibWluWm9vbSI6IDAsICJub1dyYXAiOiBmYWxzZSwgIm9wYWNpdHkiOiAxLCAic3ViZG9tYWlucyI6ICJhYmMiLCAidG1zIjogZmFsc2V9CiAgICAgICAgICAgICkuYWRkVG8obWFwX2JiYjA1YWE1YzA0NTRhYjE5MTNmNzUyZDU2YzgyNzM2KTsKICAgICAgICAKICAgIAogICAgICAgICAgICB2YXIgY2lyY2xlX21hcmtlcl85NjUzZTkzNjFlYmE0ZWYxOWUxNzIxN2Q3Y2Q2MDUwZSA9IEwuY2lyY2xlTWFya2VyKAogICAgICAgICAgICAgICAgWzQwLjc2MTM3MiwgLTczLjk4MjYwMl0sCiAgICAgICAgICAgICAgICB7ImJ1YmJsaW5nTW91c2VFdmVudHMiOiB0cnVlLCAiY29sb3IiOiAiIzMzODhmZiIsICJkYXNoQXJyYXkiOiBudWxsLCAiZGFzaE9mZnNldCI6IG51bGwsICJmaWxsIjogZmFsc2UsICJmaWxsQ29sb3IiOiAiIzMzODhmZiIsICJmaWxsT3BhY2l0eSI6IDAuMiwgImZpbGxSdWxlIjogImV2ZW5vZGQiLCAibGluZUNhcCI6ICJyb3VuZCIsICJsaW5lSm9pbiI6ICJyb3VuZCIsICJvcGFjaXR5IjogMS4wLCAicmFkaXVzIjogNiwgInN0cm9rZSI6IHRydWUsICJ3ZWlnaHQiOiAzfQogICAgICAgICAgICApLmFkZFRvKG1hcF9iYmIwNWFhNWMwNDU0YWIxOTEzZjc1MmQ1NmM4MjczNik7CiAgICAgICAgCiAgICAKICAgICAgICAgICAgdmFyIGNpcmNsZV9tYXJrZXJfOWIwOTZjMjY0NmVlNGQzNmE5N2U0MjJjMzYwNzE4ZjQgPSBMLmNpcmNsZU1hcmtlcigKICAgICAgICAgICAgICAgIFs0MC43NjI0NDQsIC03My45ODI0NF0sCiAgICAgICAgICAgICAgICB7ImJ1YmJsaW5nTW91c2VFdmVudHMiOiB0cnVlLCAiY29sb3IiOiAiIzMzODhmZiIsICJkYXNoQXJyYXkiOiBudWxsLCAiZGFzaE9mZnNldCI6IG51bGwsICJmaWxsIjogZmFsc2UsICJmaWxsQ29sb3IiOiAiIzMzODhmZiIsICJmaWxsT3BhY2l0eSI6IDAuMiwgImZpbGxSdWxlIjogImV2ZW5vZGQiLCAibGluZUNhcCI6ICJyb3VuZCIsICJsaW5lSm9pbiI6ICJyb3VuZCIsICJvcGFjaXR5IjogMS4wLCAicmFkaXVzIjogNiwgInN0cm9rZSI6IHRydWUsICJ3ZWlnaHQiOiAzfQogICAgICAgICAgICApLmFkZFRvKG1hcF9iYmIwNWFhNWMwNDU0YWIxOTEzZjc1MmQ1NmM4MjczNik7CiAgICAgICAgCiAgICAKICAgICAgICAgICAgdmFyIGNpcmNsZV9tYXJrZXJfYmY1MTNmY2VkZDkwNDM4YzliODhhM2Q1NTc5OGQ0MWUgPSBMLmNpcmNsZU1hcmtlcigKICAgICAgICAgICAgICAgIFs0MC43NjI3NjcsIC03My45ODIyOTNdLAogICAgICAgICAgICAgICAgeyJidWJibGluZ01vdXNlRXZlbnRzIjogdHJ1ZSwgImNvbG9yIjogIiMzMzg4ZmYiLCAiZGFzaEFycmF5IjogbnVsbCwgImRhc2hPZmZzZXQiOiBudWxsLCAiZmlsbCI6IGZhbHNlLCAiZmlsbENvbG9yIjogIiMzMzg4ZmYiLCAiZmlsbE9wYWNpdHkiOiAwLjIsICJmaWxsUnVsZSI6ICJldmVub2RkIiwgImxpbmVDYXAiOiAicm91bmQiLCAibGluZUpvaW4iOiAicm91bmQiLCAib3BhY2l0eSI6IDEuMCwgInJhZGl1cyI6IDYsICJzdHJva2UiOiB0cnVlLCAid2VpZ2h0IjogM30KICAgICAgICAgICAgKS5hZGRUbyhtYXBfYmJiMDVhYTVjMDQ1NGFiMTkxM2Y3NTJkNTZjODI3MzYpOwogICAgICAgIAogICAgCiAgICAgICAgICAgIHZhciBjaXJjbGVfbWFya2VyXzM3ZWFhNjNmNjYxYTQzNmE4YTI1Yzg3MTRjYTBlOGE2ID0gTC5jaXJjbGVNYXJrZXIoCiAgICAgICAgICAgICAgICBbNDAuNzYyODY4LCAtNzMuOTgzMjMzXSwKICAgICAgICAgICAgICAgIHsiYnViYmxpbmdNb3VzZUV2ZW50cyI6IHRydWUsICJjb2xvciI6ICIjMzM4OGZmIiwgImRhc2hBcnJheSI6IG51bGwsICJkYXNoT2Zmc2V0IjogbnVsbCwgImZpbGwiOiBmYWxzZSwgImZpbGxDb2xvciI6ICIjMzM4OGZmIiwgImZpbGxPcGFjaXR5IjogMC4yLCAiZmlsbFJ1bGUiOiAiZXZlbm9kZCIsICJsaW5lQ2FwIjogInJvdW5kIiwgImxpbmVKb2luIjogInJvdW5kIiwgIm9wYWNpdHkiOiAxLjAsICJyYWRpdXMiOiA2LCAic3Ryb2tlIjogdHJ1ZSwgIndlaWdodCI6IDN9CiAgICAgICAgICAgICkuYWRkVG8obWFwX2JiYjA1YWE1YzA0NTRhYjE5MTNmNzUyZDU2YzgyNzM2KTsKICAgICAgICAKICAgIAogICAgICAgICAgICB2YXIgY2lyY2xlX21hcmtlcl8wZWQzOWM5NTI5Yzk0ZmNlOWE3ZmQ1NTU2OTRiOGU0OCA9IEwuY2lyY2xlTWFya2VyKAogICAgICAgICAgICAgICAgWzQwLjc2MDA1NywgLTczLjk4MzUwMl0sCiAgICAgICAgICAgICAgICB7ImJ1YmJsaW5nTW91c2VFdmVudHMiOiB0cnVlLCAiY29sb3IiOiAiIzMzODhmZiIsICJkYXNoQXJyYXkiOiBudWxsLCAiZGFzaE9mZnNldCI6IG51bGwsICJmaWxsIjogZmFsc2UsICJmaWxsQ29sb3IiOiAiIzMzODhmZiIsICJmaWxsT3BhY2l0eSI6IDAuMiwgImZpbGxSdWxlIjogImV2ZW5vZGQiLCAibGluZUNhcCI6ICJyb3VuZCIsICJsaW5lSm9pbiI6ICJyb3VuZCIsICJvcGFjaXR5IjogMS4wLCAicmFkaXVzIjogNiwgInN0cm9rZSI6IHRydWUsICJ3ZWlnaHQiOiAzfQogICAgICAgICAgICApLmFkZFRvKG1hcF9iYmIwNWFhNWMwNDU0YWIxOTEzZjc1MmQ1NmM4MjczNik7CiAgICAgICAgCiAgICAKICAgICAgICAgICAgdmFyIGNpcmNsZV9tYXJrZXJfZjI3ZDA2ZjliNDQ0NDBkYWFiNzVmYzg1ZjUwOWRmNTMgPSBMLmNpcmNsZU1hcmtlcigKICAgICAgICAgICAgICAgIFs0MC43NjA2NDQsIC03My45ODQ1MzFdLAogICAgICAgICAgICAgICAgeyJidWJibGluZ01vdXNlRXZlbnRzIjogdHJ1ZSwgImNvbG9yIjogIiMzMzg4ZmYiLCAiZGFzaEFycmF5IjogbnVsbCwgImRhc2hPZmZzZXQiOiBudWxsLCAiZmlsbCI6IGZhbHNlLCAiZmlsbENvbG9yIjogIiMzMzg4ZmYiLCAiZmlsbE9wYWNpdHkiOiAwLjIsICJmaWxsUnVsZSI6ICJldmVub2RkIiwgImxpbmVDYXAiOiAicm91bmQiLCAibGluZUpvaW4iOiAicm91bmQiLCAib3BhY2l0eSI6IDEuMCwgInJhZGl1cyI6IDYsICJzdHJva2UiOiB0cnVlLCAid2VpZ2h0IjogM30KICAgICAgICAgICAgKS5hZGRUbyhtYXBfYmJiMDVhYTVjMDQ1NGFiMTkxM2Y3NTJkNTZjODI3MzYpOwogICAgICAgIAogICAgCiAgICAgICAgICAgIHZhciBjaXJjbGVfbWFya2VyXzQyOGYzNDM0MDMwMDQwZGE5NTU2MjYzMGQ1YTZkY2MzID0gTC5jaXJjbGVNYXJrZXIoCiAgICAgICAgICAgICAgICBbNDAuNzYyMTA3LCAtNzMuOTg0NzldLAogICAgICAgICAgICAgICAgeyJidWJibGluZ01vdXNlRXZlbnRzIjogdHJ1ZSwgImNvbG9yIjogIiMzMzg4ZmYiLCAiZGFzaEFycmF5IjogbnVsbCwgImRhc2hPZmZzZXQiOiBudWxsLCAiZmlsbCI6IGZhbHNlLCAiZmlsbENvbG9yIjogIiMzMzg4ZmYiLCAiZmlsbE9wYWNpdHkiOiAwLjIsICJmaWxsUnVsZSI6ICJldmVub2RkIiwgImxpbmVDYXAiOiAicm91bmQiLCAibGluZUpvaW4iOiAicm91bmQiLCAib3BhY2l0eSI6IDEuMCwgInJhZGl1cyI6IDYsICJzdHJva2UiOiB0cnVlLCAid2VpZ2h0IjogM30KICAgICAgICAgICAgKS5hZGRUbyhtYXBfYmJiMDVhYTVjMDQ1NGFiMTkxM2Y3NTJkNTZjODI3MzYpOwogICAgICAgIAo8L3NjcmlwdD4=\" style=\"position:absolute;width:100%;height:100%;left:0;top:0;border:none !important;\" allowfullscreen webkitallowfullscreen mozallowfullscreen></iframe></div></div>"
      ],
      "text/plain": [
       "<folium.folium.Map at 0x7f78b691c5c0>"
      ]
     },
     "execution_count": 64,
     "metadata": {},
     "output_type": "execute_result"
    }
   ],
   "source": [
    "midtown_location = location(midtown_trip) # [40.76171, -73.98276]\n",
    "midtown_map = map_from(midtown_location, 16)\n",
    "closest_markers = markers_from_trips(seven_closest)\n",
    "\n",
    "add_markers(closest_markers, midtown_map)\n",
    "midtown_map"
   ]
  },
  {
   "cell_type": "markdown",
   "metadata": {},
   "source": [
    "Ok.  These locations stay fairly close to our estimated location of 51st street and 7th Avenue.  So they could be a good estimate of a trip distance."
   ]
  },
  {
   "cell_type": "code",
   "execution_count": 68,
   "metadata": {},
   "outputs": [
    {
     "data": {
      "text/plain": [
       "2.0085714285714285"
      ]
     },
     "execution_count": 68,
     "metadata": {},
     "output_type": "execute_result"
    }
   ],
   "source": [
    "def mean_distance(seven_closest):# 2.009\n",
    "    sum = 0\n",
    "    for closest in seven_closest:\n",
    "        sum+=closest['trip_distance']\n",
    "    return sum/len(seven_closest)\n",
    "\n",
    "mean_distance(seven_closest)\n",
    "        "
   ]
  },
  {
   "cell_type": "markdown",
   "metadata": {},
   "source": [
    "Ok, now let's try a different location"
   ]
  },
  {
   "cell_type": "code",
   "execution_count": 69,
   "metadata": {},
   "outputs": [],
   "source": [
    "charging_bull_closest = nearest_neighbors({'pickup_latitude': 40.7049, 'pickup_longitude': -74.0137}, cleaned_trips, number = 12)"
   ]
  },
  {
   "cell_type": "code",
   "execution_count": 70,
   "metadata": {
    "scrolled": true
   },
   "outputs": [
    {
     "data": {
      "text/plain": [
       "3.145"
      ]
     },
     "execution_count": 70,
     "metadata": {},
     "output_type": "execute_result"
    }
   ],
   "source": [
    "mean_distance(charging_bull_closest) # 3.145"
   ]
  },
  {
   "cell_type": "markdown",
   "metadata": {},
   "source": [
    "Ok, so there appears to be a significant difference between choosing a location near Times Square versus choosing a location at Wall Street."
   ]
  },
  {
   "cell_type": "markdown",
   "metadata": {},
   "source": [
    "### Summary"
   ]
  },
  {
   "cell_type": "markdown",
   "metadata": {},
   "source": [
    "In this lab, we used the nearest neighbors function to predict the length of a taxi ride.  To do so, we selected a location, then found a number of taxi rides closest to that location, and finally took the average trip lengths of the nearest taxi rides to find an estimate of the new ride's trip length.  You can see that even with just a little bit of math and programming we can begin to make meaningful predictions with data."
   ]
  }
 ],
 "metadata": {
  "kernelspec": {
   "display_name": "Python 3",
   "language": "python",
   "name": "python3"
  },
  "language_info": {
   "codemirror_mode": {
    "name": "ipython",
    "version": 3
   },
   "file_extension": ".py",
   "mimetype": "text/x-python",
   "name": "python",
   "nbconvert_exporter": "python",
   "pygments_lexer": "ipython3",
   "version": "3.6.9"
  }
 },
 "nbformat": 4,
 "nbformat_minor": 2
}
